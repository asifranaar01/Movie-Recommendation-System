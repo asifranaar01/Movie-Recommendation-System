{
 "cells": [
  {
   "cell_type": "markdown",
   "metadata": {},
   "source": [
    "COS80024\n",
    "\n",
    "DATA SCIENCE PROJECT 1\n",
    "\n",
    "PROJECT 4: MOVIE RECOMMENDATION SYSTEM\n",
    "\n",
    "# S3.5.3: Hybrid Approach B (Content-Based and Model-Based Collaborative Filter)  (Executor: Nakib)\n",
    "\n",
    "This task aims to develop, select, train and tune parameters for a hybrid approach using collaborative filter (user-based) and conten-based.\n",
    "\n",
    "Task Leader: Nakib"
   ]
  },
  {
   "cell_type": "code",
   "execution_count": 1,
   "metadata": {},
   "outputs": [],
   "source": [
    "# Importing all the necessary libraries\n",
    "import numpy as np\n",
    "import pandas as pd\n",
    "from sklearn import metrics\n",
    "from math import sqrt\n",
    "from sklearn.metrics import mean_squared_error\n",
    "from sklearn.metrics import mean_absolute_error\n",
    "from sklearn import neighbors\n",
    "from sklearn.linear_model import LinearRegression\n",
    "from sklearn import tree\n",
    "from sklearn.ensemble import RandomForestRegressor\n",
    "from sklearn.model_selection import RandomizedSearchCV"
   ]
  },
  {
   "cell_type": "code",
   "execution_count": 2,
   "metadata": {},
   "outputs": [],
   "source": [
    "# Importing the csv data files \n",
    "\n",
    "#predictions for trainset by content based model\n",
    "df1 = pd.read_csv('train_predict_content_df.csv',error_bad_lines=False, warn_bad_lines=True)\n",
    "#predictions for testset by content based model\n",
    "df2 = pd.read_csv('predicted_content_based_test_df.csv',error_bad_lines=False, warn_bad_lines=True)\n",
    "#predictions for trainset by model-based collaborative filter \n",
    "df3 = pd.read_csv('train_df_cf_model.csv',error_bad_lines=False, warn_bad_lines=True)\n",
    "#predictions for testset by model-based collaborative filter \n",
    "df4 = pd.read_csv('test_df_cf_model.csv',error_bad_lines=False, warn_bad_lines=True)"
   ]
  },
  {
   "cell_type": "code",
   "execution_count": 3,
   "metadata": {},
   "outputs": [],
   "source": [
    "#Concatenating predictions made on the trainset by the two models\n",
    "x_train = pd.merge(df1, df3)"
   ]
  },
  {
   "cell_type": "code",
   "execution_count": 4,
   "metadata": {},
   "outputs": [],
   "source": [
    "#Keeping only the relvant columns\n",
    "x_train = x_train[['prediction','pred_rating','rating']]"
   ]
  },
  {
   "cell_type": "code",
   "execution_count": 5,
   "metadata": {},
   "outputs": [],
   "source": [
    "#Setting actual rating values for trainset as label\n",
    "y_train = x_train[['rating']]"
   ]
  },
  {
   "cell_type": "code",
   "execution_count": 6,
   "metadata": {},
   "outputs": [],
   "source": [
    "#Getting rid of the column 'rating' from x_train\n",
    "x_train = x_train.drop(columns=['rating'])"
   ]
  },
  {
   "cell_type": "code",
   "execution_count": 7,
   "metadata": {},
   "outputs": [],
   "source": [
    "#Concatenating predictions made on the testset by the two models\n",
    "x_test = pd.merge(df2, df4)"
   ]
  },
  {
   "cell_type": "code",
   "execution_count": 8,
   "metadata": {},
   "outputs": [],
   "source": [
    "#Keeping only the relvant columns\n",
    "x_test = x_test[['predict','pred_rating']]"
   ]
  },
  {
   "cell_type": "code",
   "execution_count": 9,
   "metadata": {},
   "outputs": [],
   "source": [
    "#Setting actual rating values for testset as label\n",
    "y_test = df2[['rating']]"
   ]
  },
  {
   "cell_type": "markdown",
   "metadata": {},
   "source": [
    "# Linear Regression Model"
   ]
  },
  {
   "cell_type": "code",
   "execution_count": 10,
   "metadata": {},
   "outputs": [],
   "source": [
    "lr = LinearRegression()\n",
    "hybrid_b = lr.fit(x_train, y_train)\n",
    "lr_pred = lr.predict(x_test) "
   ]
  },
  {
   "cell_type": "code",
   "execution_count": 11,
   "metadata": {},
   "outputs": [
    {
     "name": "stdout",
     "output_type": "stream",
     "text": [
      "RMSE value is: 0.9434\n",
      "MAE value is: 0.7131\n"
     ]
    }
   ],
   "source": [
    "#calculate rmse\n",
    "error1 = sqrt(mean_squared_error(y_test, lr_pred)) \n",
    "#calculate mae\n",
    "error2 = mean_absolute_error(y_test, lr_pred)\n",
    "print('RMSE value is:', np.round(error1, 4))\n",
    "print('MAE value is:', np.round(error2, 4))"
   ]
  },
  {
   "cell_type": "markdown",
   "metadata": {},
   "source": [
    "# Decision Tree"
   ]
  },
  {
   "cell_type": "code",
   "execution_count": 12,
   "metadata": {},
   "outputs": [],
   "source": [
    "dtr = tree.DecisionTreeRegressor()\n",
    "dtr.fit(x_train, y_train)\n",
    "dtr_pred = dtr.predict(x_test) "
   ]
  },
  {
   "cell_type": "code",
   "execution_count": 13,
   "metadata": {},
   "outputs": [
    {
     "name": "stdout",
     "output_type": "stream",
     "text": [
      "RMSE value is: 1.0619\n",
      "MAE value is: 0.7875\n"
     ]
    }
   ],
   "source": [
    "#calculate rmse\n",
    "error1 = sqrt(mean_squared_error(y_test, dtr_pred)) \n",
    "#calculate mae\n",
    "error2 = mean_absolute_error(y_test, dtr_pred)\n",
    "print('RMSE value is:', np.round(error1, 4))\n",
    "print('MAE value is:', np.round(error2, 4))"
   ]
  },
  {
   "cell_type": "markdown",
   "metadata": {},
   "source": [
    "# RandomForest Model"
   ]
  },
  {
   "cell_type": "code",
   "execution_count": 14,
   "metadata": {},
   "outputs": [
    {
     "name": "stdout",
     "output_type": "stream",
     "text": [
      "Fitting 5 folds for each of 10 candidates, totalling 50 fits\n",
      "[CV] n_estimators=10, min_samples_split=100, max_leaf_nodes=7, max_depth=7 \n"
     ]
    },
    {
     "name": "stderr",
     "output_type": "stream",
     "text": [
      "[Parallel(n_jobs=1)]: Using backend SequentialBackend with 1 concurrent workers.\n",
      "C:\\Users\\Nakib Kauser\\anaconda3\\lib\\site-packages\\sklearn\\model_selection\\_validation.py:531: DataConversionWarning: A column-vector y was passed when a 1d array was expected. Please change the shape of y to (n_samples,), for example using ravel().\n",
      "  estimator.fit(X_train, y_train, **fit_params)\n"
     ]
    },
    {
     "name": "stdout",
     "output_type": "stream",
     "text": [
      "[CV]  n_estimators=10, min_samples_split=100, max_leaf_nodes=7, max_depth=7, score=0.629, total=   0.2s\n",
      "[CV] n_estimators=10, min_samples_split=100, max_leaf_nodes=7, max_depth=7 \n"
     ]
    },
    {
     "name": "stderr",
     "output_type": "stream",
     "text": [
      "[Parallel(n_jobs=1)]: Done   1 out of   1 | elapsed:    0.1s remaining:    0.0s\n",
      "C:\\Users\\Nakib Kauser\\anaconda3\\lib\\site-packages\\sklearn\\model_selection\\_validation.py:531: DataConversionWarning: A column-vector y was passed when a 1d array was expected. Please change the shape of y to (n_samples,), for example using ravel().\n",
      "  estimator.fit(X_train, y_train, **fit_params)\n"
     ]
    },
    {
     "name": "stdout",
     "output_type": "stream",
     "text": [
      "[CV]  n_estimators=10, min_samples_split=100, max_leaf_nodes=7, max_depth=7, score=0.650, total=   0.2s\n",
      "[CV] n_estimators=10, min_samples_split=100, max_leaf_nodes=7, max_depth=7 \n",
      "[CV]  n_estimators=10, min_samples_split=100, max_leaf_nodes=7, max_depth=7, score=0.694, total=   0.2s\n",
      "[CV] n_estimators=10, min_samples_split=100, max_leaf_nodes=7, max_depth=7 \n"
     ]
    },
    {
     "name": "stderr",
     "output_type": "stream",
     "text": [
      "[Parallel(n_jobs=1)]: Done   2 out of   2 | elapsed:    0.4s remaining:    0.0s\n",
      "C:\\Users\\Nakib Kauser\\anaconda3\\lib\\site-packages\\sklearn\\model_selection\\_validation.py:531: DataConversionWarning: A column-vector y was passed when a 1d array was expected. Please change the shape of y to (n_samples,), for example using ravel().\n",
      "  estimator.fit(X_train, y_train, **fit_params)\n",
      "C:\\Users\\Nakib Kauser\\anaconda3\\lib\\site-packages\\sklearn\\model_selection\\_validation.py:531: DataConversionWarning: A column-vector y was passed when a 1d array was expected. Please change the shape of y to (n_samples,), for example using ravel().\n",
      "  estimator.fit(X_train, y_train, **fit_params)\n",
      "C:\\Users\\Nakib Kauser\\anaconda3\\lib\\site-packages\\sklearn\\model_selection\\_validation.py:531: DataConversionWarning: A column-vector y was passed when a 1d array was expected. Please change the shape of y to (n_samples,), for example using ravel().\n",
      "  estimator.fit(X_train, y_train, **fit_params)\n"
     ]
    },
    {
     "name": "stdout",
     "output_type": "stream",
     "text": [
      "[CV]  n_estimators=10, min_samples_split=100, max_leaf_nodes=7, max_depth=7, score=0.570, total=   0.2s\n",
      "[CV] n_estimators=10, min_samples_split=100, max_leaf_nodes=7, max_depth=7 \n",
      "[CV]  n_estimators=10, min_samples_split=100, max_leaf_nodes=7, max_depth=7, score=0.653, total=   0.2s\n",
      "[CV] n_estimators=10, min_samples_split=300, max_leaf_nodes=7, max_depth=7 \n"
     ]
    },
    {
     "name": "stderr",
     "output_type": "stream",
     "text": [
      "C:\\Users\\Nakib Kauser\\anaconda3\\lib\\site-packages\\sklearn\\model_selection\\_validation.py:531: DataConversionWarning: A column-vector y was passed when a 1d array was expected. Please change the shape of y to (n_samples,), for example using ravel().\n",
      "  estimator.fit(X_train, y_train, **fit_params)\n"
     ]
    },
    {
     "name": "stdout",
     "output_type": "stream",
     "text": [
      "[CV]  n_estimators=10, min_samples_split=300, max_leaf_nodes=7, max_depth=7, score=0.629, total=   0.2s\n",
      "[CV] n_estimators=10, min_samples_split=300, max_leaf_nodes=7, max_depth=7 \n"
     ]
    },
    {
     "name": "stderr",
     "output_type": "stream",
     "text": [
      "C:\\Users\\Nakib Kauser\\anaconda3\\lib\\site-packages\\sklearn\\model_selection\\_validation.py:531: DataConversionWarning: A column-vector y was passed when a 1d array was expected. Please change the shape of y to (n_samples,), for example using ravel().\n",
      "  estimator.fit(X_train, y_train, **fit_params)\n"
     ]
    },
    {
     "name": "stdout",
     "output_type": "stream",
     "text": [
      "[CV]  n_estimators=10, min_samples_split=300, max_leaf_nodes=7, max_depth=7, score=0.650, total=   0.3s\n",
      "[CV] n_estimators=10, min_samples_split=300, max_leaf_nodes=7, max_depth=7 \n"
     ]
    },
    {
     "name": "stderr",
     "output_type": "stream",
     "text": [
      "C:\\Users\\Nakib Kauser\\anaconda3\\lib\\site-packages\\sklearn\\model_selection\\_validation.py:531: DataConversionWarning: A column-vector y was passed when a 1d array was expected. Please change the shape of y to (n_samples,), for example using ravel().\n",
      "  estimator.fit(X_train, y_train, **fit_params)\n"
     ]
    },
    {
     "name": "stdout",
     "output_type": "stream",
     "text": [
      "[CV]  n_estimators=10, min_samples_split=300, max_leaf_nodes=7, max_depth=7, score=0.694, total=   0.2s\n",
      "[CV] n_estimators=10, min_samples_split=300, max_leaf_nodes=7, max_depth=7 \n"
     ]
    },
    {
     "name": "stderr",
     "output_type": "stream",
     "text": [
      "C:\\Users\\Nakib Kauser\\anaconda3\\lib\\site-packages\\sklearn\\model_selection\\_validation.py:531: DataConversionWarning: A column-vector y was passed when a 1d array was expected. Please change the shape of y to (n_samples,), for example using ravel().\n",
      "  estimator.fit(X_train, y_train, **fit_params)\n"
     ]
    },
    {
     "name": "stdout",
     "output_type": "stream",
     "text": [
      "[CV]  n_estimators=10, min_samples_split=300, max_leaf_nodes=7, max_depth=7, score=0.570, total=   0.2s\n",
      "[CV] n_estimators=10, min_samples_split=300, max_leaf_nodes=7, max_depth=7 \n",
      "[CV]  n_estimators=10, min_samples_split=300, max_leaf_nodes=7, max_depth=7, score=0.653, total=   0.2s"
     ]
    },
    {
     "name": "stderr",
     "output_type": "stream",
     "text": [
      "C:\\Users\\Nakib Kauser\\anaconda3\\lib\\site-packages\\sklearn\\model_selection\\_validation.py:531: DataConversionWarning: A column-vector y was passed when a 1d array was expected. Please change the shape of y to (n_samples,), for example using ravel().\n",
      "  estimator.fit(X_train, y_train, **fit_params)\n",
      "C:\\Users\\Nakib Kauser\\anaconda3\\lib\\site-packages\\sklearn\\model_selection\\_validation.py:531: DataConversionWarning: A column-vector y was passed when a 1d array was expected. Please change the shape of y to (n_samples,), for example using ravel().\n",
      "  estimator.fit(X_train, y_train, **fit_params)\n"
     ]
    },
    {
     "name": "stdout",
     "output_type": "stream",
     "text": [
      "\n",
      "[CV] n_estimators=7, min_samples_split=300, max_leaf_nodes=7, max_depth=6 \n",
      "[CV]  n_estimators=7, min_samples_split=300, max_leaf_nodes=7, max_depth=6, score=0.630, total=   0.1s\n",
      "[CV] n_estimators=7, min_samples_split=300, max_leaf_nodes=7, max_depth=6 \n"
     ]
    },
    {
     "name": "stderr",
     "output_type": "stream",
     "text": [
      "C:\\Users\\Nakib Kauser\\anaconda3\\lib\\site-packages\\sklearn\\model_selection\\_validation.py:531: DataConversionWarning: A column-vector y was passed when a 1d array was expected. Please change the shape of y to (n_samples,), for example using ravel().\n",
      "  estimator.fit(X_train, y_train, **fit_params)\n",
      "C:\\Users\\Nakib Kauser\\anaconda3\\lib\\site-packages\\sklearn\\model_selection\\_validation.py:531: DataConversionWarning: A column-vector y was passed when a 1d array was expected. Please change the shape of y to (n_samples,), for example using ravel().\n",
      "  estimator.fit(X_train, y_train, **fit_params)\n"
     ]
    },
    {
     "name": "stdout",
     "output_type": "stream",
     "text": [
      "[CV]  n_estimators=7, min_samples_split=300, max_leaf_nodes=7, max_depth=6, score=0.652, total=   0.1s\n",
      "[CV] n_estimators=7, min_samples_split=300, max_leaf_nodes=7, max_depth=6 \n",
      "[CV]  n_estimators=7, min_samples_split=300, max_leaf_nodes=7, max_depth=6, score=0.693, total=   0.2s\n",
      "[CV] n_estimators=7, min_samples_split=300, max_leaf_nodes=7, max_depth=6 \n"
     ]
    },
    {
     "name": "stderr",
     "output_type": "stream",
     "text": [
      "C:\\Users\\Nakib Kauser\\anaconda3\\lib\\site-packages\\sklearn\\model_selection\\_validation.py:531: DataConversionWarning: A column-vector y was passed when a 1d array was expected. Please change the shape of y to (n_samples,), for example using ravel().\n",
      "  estimator.fit(X_train, y_train, **fit_params)\n",
      "C:\\Users\\Nakib Kauser\\anaconda3\\lib\\site-packages\\sklearn\\model_selection\\_validation.py:531: DataConversionWarning: A column-vector y was passed when a 1d array was expected. Please change the shape of y to (n_samples,), for example using ravel().\n",
      "  estimator.fit(X_train, y_train, **fit_params)\n"
     ]
    },
    {
     "name": "stdout",
     "output_type": "stream",
     "text": [
      "[CV]  n_estimators=7, min_samples_split=300, max_leaf_nodes=7, max_depth=6, score=0.568, total=   0.2s\n",
      "[CV] n_estimators=7, min_samples_split=300, max_leaf_nodes=7, max_depth=6 \n",
      "[CV]  n_estimators=7, min_samples_split=300, max_leaf_nodes=7, max_depth=6, score=0.653, total=   0.1s\n",
      "[CV] n_estimators=10, min_samples_split=300, max_leaf_nodes=5, max_depth=7 \n"
     ]
    },
    {
     "name": "stderr",
     "output_type": "stream",
     "text": [
      "C:\\Users\\Nakib Kauser\\anaconda3\\lib\\site-packages\\sklearn\\model_selection\\_validation.py:531: DataConversionWarning: A column-vector y was passed when a 1d array was expected. Please change the shape of y to (n_samples,), for example using ravel().\n",
      "  estimator.fit(X_train, y_train, **fit_params)\n",
      "C:\\Users\\Nakib Kauser\\anaconda3\\lib\\site-packages\\sklearn\\model_selection\\_validation.py:531: DataConversionWarning: A column-vector y was passed when a 1d array was expected. Please change the shape of y to (n_samples,), for example using ravel().\n",
      "  estimator.fit(X_train, y_train, **fit_params)\n"
     ]
    },
    {
     "name": "stdout",
     "output_type": "stream",
     "text": [
      "[CV]  n_estimators=10, min_samples_split=300, max_leaf_nodes=5, max_depth=7, score=0.608, total=   0.2s\n",
      "[CV] n_estimators=10, min_samples_split=300, max_leaf_nodes=5, max_depth=7 \n",
      "[CV]  n_estimators=10, min_samples_split=300, max_leaf_nodes=5, max_depth=7, score=0.625, total=   0.2s\n",
      "[CV] n_estimators=10, min_samples_split=300, max_leaf_nodes=5, max_depth=7 \n"
     ]
    },
    {
     "name": "stderr",
     "output_type": "stream",
     "text": [
      "C:\\Users\\Nakib Kauser\\anaconda3\\lib\\site-packages\\sklearn\\model_selection\\_validation.py:531: DataConversionWarning: A column-vector y was passed when a 1d array was expected. Please change the shape of y to (n_samples,), for example using ravel().\n",
      "  estimator.fit(X_train, y_train, **fit_params)\n",
      "C:\\Users\\Nakib Kauser\\anaconda3\\lib\\site-packages\\sklearn\\model_selection\\_validation.py:531: DataConversionWarning: A column-vector y was passed when a 1d array was expected. Please change the shape of y to (n_samples,), for example using ravel().\n",
      "  estimator.fit(X_train, y_train, **fit_params)\n"
     ]
    },
    {
     "name": "stdout",
     "output_type": "stream",
     "text": [
      "[CV]  n_estimators=10, min_samples_split=300, max_leaf_nodes=5, max_depth=7, score=0.676, total=   0.2s\n",
      "[CV] n_estimators=10, min_samples_split=300, max_leaf_nodes=5, max_depth=7 \n",
      "[CV]  n_estimators=10, min_samples_split=300, max_leaf_nodes=5, max_depth=7, score=0.545, total=   0.2s\n",
      "[CV] n_estimators=10, min_samples_split=300, max_leaf_nodes=5, max_depth=7 \n",
      "[CV]  n_estimators=10, min_samples_split=300, max_leaf_nodes=5, max_depth=7, score=0.631, total=   0.2s"
     ]
    },
    {
     "name": "stderr",
     "output_type": "stream",
     "text": [
      "C:\\Users\\Nakib Kauser\\anaconda3\\lib\\site-packages\\sklearn\\model_selection\\_validation.py:531: DataConversionWarning: A column-vector y was passed when a 1d array was expected. Please change the shape of y to (n_samples,), for example using ravel().\n",
      "  estimator.fit(X_train, y_train, **fit_params)\n"
     ]
    },
    {
     "name": "stdout",
     "output_type": "stream",
     "text": [
      "\n",
      "[CV] n_estimators=10, min_samples_split=300, max_leaf_nodes=4, max_depth=5 \n",
      "[CV]  n_estimators=10, min_samples_split=300, max_leaf_nodes=4, max_depth=5, score=0.586, total=   0.2s\n",
      "[CV] n_estimators=10, min_samples_split=300, max_leaf_nodes=4, max_depth=5 \n"
     ]
    },
    {
     "name": "stderr",
     "output_type": "stream",
     "text": [
      "C:\\Users\\Nakib Kauser\\anaconda3\\lib\\site-packages\\sklearn\\model_selection\\_validation.py:531: DataConversionWarning: A column-vector y was passed when a 1d array was expected. Please change the shape of y to (n_samples,), for example using ravel().\n",
      "  estimator.fit(X_train, y_train, **fit_params)\n",
      "C:\\Users\\Nakib Kauser\\anaconda3\\lib\\site-packages\\sklearn\\model_selection\\_validation.py:531: DataConversionWarning: A column-vector y was passed when a 1d array was expected. Please change the shape of y to (n_samples,), for example using ravel().\n",
      "  estimator.fit(X_train, y_train, **fit_params)\n"
     ]
    },
    {
     "name": "stdout",
     "output_type": "stream",
     "text": [
      "[CV]  n_estimators=10, min_samples_split=300, max_leaf_nodes=4, max_depth=5, score=0.604, total=   0.2s\n",
      "[CV] n_estimators=10, min_samples_split=300, max_leaf_nodes=4, max_depth=5 \n",
      "[CV]  n_estimators=10, min_samples_split=300, max_leaf_nodes=4, max_depth=5, score=0.650, total=   0.2s\n",
      "[CV] n_estimators=10, min_samples_split=300, max_leaf_nodes=4, max_depth=5 \n"
     ]
    },
    {
     "name": "stderr",
     "output_type": "stream",
     "text": [
      "C:\\Users\\Nakib Kauser\\anaconda3\\lib\\site-packages\\sklearn\\model_selection\\_validation.py:531: DataConversionWarning: A column-vector y was passed when a 1d array was expected. Please change the shape of y to (n_samples,), for example using ravel().\n",
      "  estimator.fit(X_train, y_train, **fit_params)\n",
      "C:\\Users\\Nakib Kauser\\anaconda3\\lib\\site-packages\\sklearn\\model_selection\\_validation.py:531: DataConversionWarning: A column-vector y was passed when a 1d array was expected. Please change the shape of y to (n_samples,), for example using ravel().\n",
      "  estimator.fit(X_train, y_train, **fit_params)\n"
     ]
    },
    {
     "name": "stdout",
     "output_type": "stream",
     "text": [
      "[CV]  n_estimators=10, min_samples_split=300, max_leaf_nodes=4, max_depth=5, score=0.531, total=   0.2s\n",
      "[CV] n_estimators=10, min_samples_split=300, max_leaf_nodes=4, max_depth=5 \n",
      "[CV]  n_estimators=10, min_samples_split=300, max_leaf_nodes=4, max_depth=5, score=0.612, total=   0.2s\n",
      "[CV] n_estimators=10, min_samples_split=100, max_leaf_nodes=6, max_depth=6 \n"
     ]
    },
    {
     "name": "stderr",
     "output_type": "stream",
     "text": [
      "C:\\Users\\Nakib Kauser\\anaconda3\\lib\\site-packages\\sklearn\\model_selection\\_validation.py:531: DataConversionWarning: A column-vector y was passed when a 1d array was expected. Please change the shape of y to (n_samples,), for example using ravel().\n",
      "  estimator.fit(X_train, y_train, **fit_params)\n",
      "C:\\Users\\Nakib Kauser\\anaconda3\\lib\\site-packages\\sklearn\\model_selection\\_validation.py:531: DataConversionWarning: A column-vector y was passed when a 1d array was expected. Please change the shape of y to (n_samples,), for example using ravel().\n",
      "  estimator.fit(X_train, y_train, **fit_params)\n"
     ]
    },
    {
     "name": "stdout",
     "output_type": "stream",
     "text": [
      "[CV]  n_estimators=10, min_samples_split=100, max_leaf_nodes=6, max_depth=6, score=0.619, total=   0.2s\n",
      "[CV] n_estimators=10, min_samples_split=100, max_leaf_nodes=6, max_depth=6 \n",
      "[CV]  n_estimators=10, min_samples_split=100, max_leaf_nodes=6, max_depth=6, score=0.637, total=   0.2s"
     ]
    },
    {
     "name": "stderr",
     "output_type": "stream",
     "text": [
      "C:\\Users\\Nakib Kauser\\anaconda3\\lib\\site-packages\\sklearn\\model_selection\\_validation.py:531: DataConversionWarning: A column-vector y was passed when a 1d array was expected. Please change the shape of y to (n_samples,), for example using ravel().\n",
      "  estimator.fit(X_train, y_train, **fit_params)\n",
      "C:\\Users\\Nakib Kauser\\anaconda3\\lib\\site-packages\\sklearn\\model_selection\\_validation.py:531: DataConversionWarning: A column-vector y was passed when a 1d array was expected. Please change the shape of y to (n_samples,), for example using ravel().\n",
      "  estimator.fit(X_train, y_train, **fit_params)\n"
     ]
    },
    {
     "name": "stdout",
     "output_type": "stream",
     "text": [
      "\n",
      "[CV] n_estimators=10, min_samples_split=100, max_leaf_nodes=6, max_depth=6 \n",
      "[CV]  n_estimators=10, min_samples_split=100, max_leaf_nodes=6, max_depth=6, score=0.685, total=   0.2s\n",
      "[CV] n_estimators=10, min_samples_split=100, max_leaf_nodes=6, max_depth=6 \n",
      "[CV]  n_estimators=10, min_samples_split=100, max_leaf_nodes=6, max_depth=6, score=0.560, total=   0.2s\n",
      "[CV] n_estimators=10, min_samples_split=100, max_leaf_nodes=6, max_depth=6 \n"
     ]
    },
    {
     "name": "stderr",
     "output_type": "stream",
     "text": [
      "C:\\Users\\Nakib Kauser\\anaconda3\\lib\\site-packages\\sklearn\\model_selection\\_validation.py:531: DataConversionWarning: A column-vector y was passed when a 1d array was expected. Please change the shape of y to (n_samples,), for example using ravel().\n",
      "  estimator.fit(X_train, y_train, **fit_params)\n",
      "C:\\Users\\Nakib Kauser\\anaconda3\\lib\\site-packages\\sklearn\\model_selection\\_validation.py:531: DataConversionWarning: A column-vector y was passed when a 1d array was expected. Please change the shape of y to (n_samples,), for example using ravel().\n",
      "  estimator.fit(X_train, y_train, **fit_params)\n"
     ]
    },
    {
     "name": "stdout",
     "output_type": "stream",
     "text": [
      "[CV]  n_estimators=10, min_samples_split=100, max_leaf_nodes=6, max_depth=6, score=0.640, total=   0.2s\n",
      "[CV] n_estimators=9, min_samples_split=100, max_leaf_nodes=6, max_depth=7 \n",
      "[CV]  n_estimators=9, min_samples_split=100, max_leaf_nodes=6, max_depth=7, score=0.619, total=   0.1s\n",
      "[CV] n_estimators=9, min_samples_split=100, max_leaf_nodes=6, max_depth=7 \n"
     ]
    },
    {
     "name": "stderr",
     "output_type": "stream",
     "text": [
      "C:\\Users\\Nakib Kauser\\anaconda3\\lib\\site-packages\\sklearn\\model_selection\\_validation.py:531: DataConversionWarning: A column-vector y was passed when a 1d array was expected. Please change the shape of y to (n_samples,), for example using ravel().\n",
      "  estimator.fit(X_train, y_train, **fit_params)\n",
      "C:\\Users\\Nakib Kauser\\anaconda3\\lib\\site-packages\\sklearn\\model_selection\\_validation.py:531: DataConversionWarning: A column-vector y was passed when a 1d array was expected. Please change the shape of y to (n_samples,), for example using ravel().\n",
      "  estimator.fit(X_train, y_train, **fit_params)\n"
     ]
    },
    {
     "name": "stdout",
     "output_type": "stream",
     "text": [
      "[CV]  n_estimators=9, min_samples_split=100, max_leaf_nodes=6, max_depth=7, score=0.638, total=   0.2s\n",
      "[CV] n_estimators=9, min_samples_split=100, max_leaf_nodes=6, max_depth=7 \n",
      "[CV]  n_estimators=9, min_samples_split=100, max_leaf_nodes=6, max_depth=7, score=0.685, total=   0.1s\n",
      "[CV] n_estimators=9, min_samples_split=100, max_leaf_nodes=6, max_depth=7 \n"
     ]
    },
    {
     "name": "stderr",
     "output_type": "stream",
     "text": [
      "C:\\Users\\Nakib Kauser\\anaconda3\\lib\\site-packages\\sklearn\\model_selection\\_validation.py:531: DataConversionWarning: A column-vector y was passed when a 1d array was expected. Please change the shape of y to (n_samples,), for example using ravel().\n",
      "  estimator.fit(X_train, y_train, **fit_params)\n",
      "C:\\Users\\Nakib Kauser\\anaconda3\\lib\\site-packages\\sklearn\\model_selection\\_validation.py:531: DataConversionWarning: A column-vector y was passed when a 1d array was expected. Please change the shape of y to (n_samples,), for example using ravel().\n",
      "  estimator.fit(X_train, y_train, **fit_params)\n"
     ]
    },
    {
     "name": "stdout",
     "output_type": "stream",
     "text": [
      "[CV]  n_estimators=9, min_samples_split=100, max_leaf_nodes=6, max_depth=7, score=0.560, total=   0.1s\n",
      "[CV] n_estimators=9, min_samples_split=100, max_leaf_nodes=6, max_depth=7 \n",
      "[CV]  n_estimators=9, min_samples_split=100, max_leaf_nodes=6, max_depth=7, score=0.638, total=   0.2s\n",
      "[CV] n_estimators=8, min_samples_split=100, max_leaf_nodes=4, max_depth=6 \n"
     ]
    },
    {
     "name": "stderr",
     "output_type": "stream",
     "text": [
      "C:\\Users\\Nakib Kauser\\anaconda3\\lib\\site-packages\\sklearn\\model_selection\\_validation.py:531: DataConversionWarning: A column-vector y was passed when a 1d array was expected. Please change the shape of y to (n_samples,), for example using ravel().\n",
      "  estimator.fit(X_train, y_train, **fit_params)\n",
      "C:\\Users\\Nakib Kauser\\anaconda3\\lib\\site-packages\\sklearn\\model_selection\\_validation.py:531: DataConversionWarning: A column-vector y was passed when a 1d array was expected. Please change the shape of y to (n_samples,), for example using ravel().\n",
      "  estimator.fit(X_train, y_train, **fit_params)\n"
     ]
    },
    {
     "name": "stdout",
     "output_type": "stream",
     "text": [
      "[CV]  n_estimators=8, min_samples_split=100, max_leaf_nodes=4, max_depth=6, score=0.586, total=   0.1s\n",
      "[CV] n_estimators=8, min_samples_split=100, max_leaf_nodes=4, max_depth=6 \n",
      "[CV]  n_estimators=8, min_samples_split=100, max_leaf_nodes=4, max_depth=6, score=0.605, total=   0.1s\n",
      "[CV] n_estimators=8, min_samples_split=100, max_leaf_nodes=4, max_depth=6 \n"
     ]
    },
    {
     "name": "stderr",
     "output_type": "stream",
     "text": [
      "C:\\Users\\Nakib Kauser\\anaconda3\\lib\\site-packages\\sklearn\\model_selection\\_validation.py:531: DataConversionWarning: A column-vector y was passed when a 1d array was expected. Please change the shape of y to (n_samples,), for example using ravel().\n",
      "  estimator.fit(X_train, y_train, **fit_params)\n",
      "C:\\Users\\Nakib Kauser\\anaconda3\\lib\\site-packages\\sklearn\\model_selection\\_validation.py:531: DataConversionWarning: A column-vector y was passed when a 1d array was expected. Please change the shape of y to (n_samples,), for example using ravel().\n",
      "  estimator.fit(X_train, y_train, **fit_params)\n"
     ]
    },
    {
     "name": "stdout",
     "output_type": "stream",
     "text": [
      "[CV]  n_estimators=8, min_samples_split=100, max_leaf_nodes=4, max_depth=6, score=0.650, total=   0.1s\n",
      "[CV] n_estimators=8, min_samples_split=100, max_leaf_nodes=4, max_depth=6 \n",
      "[CV]  n_estimators=8, min_samples_split=100, max_leaf_nodes=4, max_depth=6, score=0.528, total=   0.1s\n",
      "[CV] n_estimators=8, min_samples_split=100, max_leaf_nodes=4, max_depth=6 \n"
     ]
    },
    {
     "name": "stderr",
     "output_type": "stream",
     "text": [
      "C:\\Users\\Nakib Kauser\\anaconda3\\lib\\site-packages\\sklearn\\model_selection\\_validation.py:531: DataConversionWarning: A column-vector y was passed when a 1d array was expected. Please change the shape of y to (n_samples,), for example using ravel().\n",
      "  estimator.fit(X_train, y_train, **fit_params)\n",
      "C:\\Users\\Nakib Kauser\\anaconda3\\lib\\site-packages\\sklearn\\model_selection\\_validation.py:531: DataConversionWarning: A column-vector y was passed when a 1d array was expected. Please change the shape of y to (n_samples,), for example using ravel().\n",
      "  estimator.fit(X_train, y_train, **fit_params)\n"
     ]
    },
    {
     "name": "stdout",
     "output_type": "stream",
     "text": [
      "[CV]  n_estimators=8, min_samples_split=100, max_leaf_nodes=4, max_depth=6, score=0.612, total=   0.1s\n",
      "[CV] n_estimators=8, min_samples_split=200, max_leaf_nodes=7, max_depth=7 \n",
      "[CV]  n_estimators=8, min_samples_split=200, max_leaf_nodes=7, max_depth=7, score=0.629, total=   0.1s\n",
      "[CV] n_estimators=8, min_samples_split=200, max_leaf_nodes=7, max_depth=7 \n"
     ]
    },
    {
     "name": "stderr",
     "output_type": "stream",
     "text": [
      "C:\\Users\\Nakib Kauser\\anaconda3\\lib\\site-packages\\sklearn\\model_selection\\_validation.py:531: DataConversionWarning: A column-vector y was passed when a 1d array was expected. Please change the shape of y to (n_samples,), for example using ravel().\n",
      "  estimator.fit(X_train, y_train, **fit_params)\n",
      "C:\\Users\\Nakib Kauser\\anaconda3\\lib\\site-packages\\sklearn\\model_selection\\_validation.py:531: DataConversionWarning: A column-vector y was passed when a 1d array was expected. Please change the shape of y to (n_samples,), for example using ravel().\n",
      "  estimator.fit(X_train, y_train, **fit_params)\n"
     ]
    },
    {
     "name": "stdout",
     "output_type": "stream",
     "text": [
      "[CV]  n_estimators=8, min_samples_split=200, max_leaf_nodes=7, max_depth=7, score=0.651, total=   0.1s\n",
      "[CV] n_estimators=8, min_samples_split=200, max_leaf_nodes=7, max_depth=7 \n",
      "[CV]  n_estimators=8, min_samples_split=200, max_leaf_nodes=7, max_depth=7, score=0.693, total=   0.1s\n",
      "[CV] n_estimators=8, min_samples_split=200, max_leaf_nodes=7, max_depth=7 \n"
     ]
    },
    {
     "name": "stderr",
     "output_type": "stream",
     "text": [
      "C:\\Users\\Nakib Kauser\\anaconda3\\lib\\site-packages\\sklearn\\model_selection\\_validation.py:531: DataConversionWarning: A column-vector y was passed when a 1d array was expected. Please change the shape of y to (n_samples,), for example using ravel().\n",
      "  estimator.fit(X_train, y_train, **fit_params)\n",
      "C:\\Users\\Nakib Kauser\\anaconda3\\lib\\site-packages\\sklearn\\model_selection\\_validation.py:531: DataConversionWarning: A column-vector y was passed when a 1d array was expected. Please change the shape of y to (n_samples,), for example using ravel().\n",
      "  estimator.fit(X_train, y_train, **fit_params)\n"
     ]
    },
    {
     "name": "stdout",
     "output_type": "stream",
     "text": [
      "[CV]  n_estimators=8, min_samples_split=200, max_leaf_nodes=7, max_depth=7, score=0.568, total=   0.1s\n",
      "[CV] n_estimators=8, min_samples_split=200, max_leaf_nodes=7, max_depth=7 \n",
      "[CV]  n_estimators=8, min_samples_split=200, max_leaf_nodes=7, max_depth=7, score=0.653, total=   0.1s\n",
      "[CV] n_estimators=8, min_samples_split=300, max_leaf_nodes=7, max_depth=6 \n"
     ]
    },
    {
     "name": "stderr",
     "output_type": "stream",
     "text": [
      "C:\\Users\\Nakib Kauser\\anaconda3\\lib\\site-packages\\sklearn\\model_selection\\_validation.py:531: DataConversionWarning: A column-vector y was passed when a 1d array was expected. Please change the shape of y to (n_samples,), for example using ravel().\n",
      "  estimator.fit(X_train, y_train, **fit_params)\n",
      "C:\\Users\\Nakib Kauser\\anaconda3\\lib\\site-packages\\sklearn\\model_selection\\_validation.py:531: DataConversionWarning: A column-vector y was passed when a 1d array was expected. Please change the shape of y to (n_samples,), for example using ravel().\n",
      "  estimator.fit(X_train, y_train, **fit_params)\n"
     ]
    },
    {
     "name": "stdout",
     "output_type": "stream",
     "text": [
      "[CV]  n_estimators=8, min_samples_split=300, max_leaf_nodes=7, max_depth=6, score=0.629, total=   0.1s\n",
      "[CV] n_estimators=8, min_samples_split=300, max_leaf_nodes=7, max_depth=6 \n",
      "[CV]  n_estimators=8, min_samples_split=300, max_leaf_nodes=7, max_depth=6, score=0.651, total=   0.1s\n",
      "[CV] n_estimators=8, min_samples_split=300, max_leaf_nodes=7, max_depth=6 \n"
     ]
    },
    {
     "name": "stderr",
     "output_type": "stream",
     "text": [
      "C:\\Users\\Nakib Kauser\\anaconda3\\lib\\site-packages\\sklearn\\model_selection\\_validation.py:531: DataConversionWarning: A column-vector y was passed when a 1d array was expected. Please change the shape of y to (n_samples,), for example using ravel().\n",
      "  estimator.fit(X_train, y_train, **fit_params)\n",
      "C:\\Users\\Nakib Kauser\\anaconda3\\lib\\site-packages\\sklearn\\model_selection\\_validation.py:531: DataConversionWarning: A column-vector y was passed when a 1d array was expected. Please change the shape of y to (n_samples,), for example using ravel().\n",
      "  estimator.fit(X_train, y_train, **fit_params)\n"
     ]
    },
    {
     "name": "stdout",
     "output_type": "stream",
     "text": [
      "[CV]  n_estimators=8, min_samples_split=300, max_leaf_nodes=7, max_depth=6, score=0.693, total=   0.1s\n",
      "[CV] n_estimators=8, min_samples_split=300, max_leaf_nodes=7, max_depth=6 \n",
      "[CV]  n_estimators=8, min_samples_split=300, max_leaf_nodes=7, max_depth=6, score=0.568, total=   0.1s\n",
      "[CV] n_estimators=8, min_samples_split=300, max_leaf_nodes=7, max_depth=6 \n"
     ]
    },
    {
     "name": "stderr",
     "output_type": "stream",
     "text": [
      "C:\\Users\\Nakib Kauser\\anaconda3\\lib\\site-packages\\sklearn\\model_selection\\_validation.py:531: DataConversionWarning: A column-vector y was passed when a 1d array was expected. Please change the shape of y to (n_samples,), for example using ravel().\n",
      "  estimator.fit(X_train, y_train, **fit_params)\n",
      "C:\\Users\\Nakib Kauser\\anaconda3\\lib\\site-packages\\sklearn\\model_selection\\_validation.py:531: DataConversionWarning: A column-vector y was passed when a 1d array was expected. Please change the shape of y to (n_samples,), for example using ravel().\n",
      "  estimator.fit(X_train, y_train, **fit_params)\n"
     ]
    },
    {
     "name": "stdout",
     "output_type": "stream",
     "text": [
      "[CV]  n_estimators=8, min_samples_split=300, max_leaf_nodes=7, max_depth=6, score=0.653, total=   0.1s\n"
     ]
    },
    {
     "name": "stderr",
     "output_type": "stream",
     "text": [
      "[Parallel(n_jobs=1)]: Done  50 out of  50 | elapsed:    8.1s finished\n",
      "C:\\Users\\Nakib Kauser\\anaconda3\\lib\\site-packages\\sklearn\\model_selection\\_search.py:765: DataConversionWarning: A column-vector y was passed when a 1d array was expected. Please change the shape of y to (n_samples,), for example using ravel().\n",
      "  self.best_estimator_.fit(X, y, **fit_params)\n"
     ]
    },
    {
     "data": {
      "text/plain": [
       "RandomizedSearchCV(cv=5, estimator=RandomForestRegressor(random_state=0),\n",
       "                   param_distributions={'max_depth': [5, 6, 7],\n",
       "                                        'max_leaf_nodes': [4, 5, 6, 7],\n",
       "                                        'min_samples_split': [100, 200, 300],\n",
       "                                        'n_estimators': [7, 8, 9, 10, 12, 15]},\n",
       "                   random_state=42, verbose=3)"
      ]
     },
     "execution_count": 14,
     "metadata": {},
     "output_type": "execute_result"
    }
   ],
   "source": [
    "\n",
    "grid_param = {'n_estimators': [7,8,9,10,12,15], 'max_depth':  [5,6,7], \\\n",
    "              'min_samples_split': [100,200,300], 'max_leaf_nodes': [4,5,6,7]}\n",
    "rf = RandomForestRegressor(random_state=0)\n",
    "rf_h = RandomizedSearchCV(estimator = rf, param_distributions = grid_param, cv=5, verbose = 3, random_state= 42 )\n",
    "rf_h.fit(x_train, y_train)"
   ]
  },
  {
   "cell_type": "code",
   "execution_count": 15,
   "metadata": {},
   "outputs": [],
   "source": [
    "rf_pred = rf_h.predict(x_test) "
   ]
  },
  {
   "cell_type": "code",
   "execution_count": 16,
   "metadata": {},
   "outputs": [
    {
     "name": "stdout",
     "output_type": "stream",
     "text": [
      "RMSE value is: 0.9434\n",
      "MAE value is: 0.7152\n"
     ]
    }
   ],
   "source": [
    "#calculate rmse\n",
    "error1 = sqrt(mean_squared_error(y_test, rf_pred)) \n",
    "#calculate mae\n",
    "error2 = mean_absolute_error(y_test, rf_pred)\n",
    "print('RMSE value is:', np.round(error1, 4))\n",
    "print('MAE value is:', np.round(error2, 4))"
   ]
  },
  {
   "cell_type": "markdown",
   "metadata": {},
   "source": [
    "Linear Regression Model gives the best accuracy: 0.9434. "
   ]
  },
  {
   "cell_type": "code",
   "execution_count": 17,
   "metadata": {},
   "outputs": [],
   "source": [
    "import pickle"
   ]
  },
  {
   "cell_type": "code",
   "execution_count": 18,
   "metadata": {},
   "outputs": [],
   "source": [
    "# Importing pickle file\n",
    "filename = 'hybrid_b.pickle'\n",
    "pickle.dump(hybrid_b, open(filename, 'wb'))"
   ]
  }
 ],
 "metadata": {
  "kernelspec": {
   "display_name": "Python 3",
   "language": "python",
   "name": "python3"
  },
  "language_info": {
   "codemirror_mode": {
    "name": "ipython",
    "version": 3
   },
   "file_extension": ".py",
   "mimetype": "text/x-python",
   "name": "python",
   "nbconvert_exporter": "python",
   "pygments_lexer": "ipython3",
   "version": "3.8.3"
  }
 },
 "nbformat": 4,
 "nbformat_minor": 4
}
