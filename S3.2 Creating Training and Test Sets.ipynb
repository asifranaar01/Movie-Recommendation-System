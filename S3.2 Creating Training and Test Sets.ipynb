{
 "cells": [
  {
   "cell_type": "markdown",
   "metadata": {},
   "source": [
    "COS80024\n",
    "\n",
    "DATA SCIENCE PROJECT 1\n",
    "\n",
    "PROJECT 4: MOVIE RECOMMENDATION SYSTEM\n",
    "\n",
    "# Task S3.2 Creating Training and Test Sets\n",
    "\n",
    "This task aims to generation of training and test data sets.\n",
    "\n",
    "Code Contributed by - Asif Rana, Student ID - 102866893"
   ]
  },
  {
   "cell_type": "code",
   "execution_count": 1,
   "metadata": {},
   "outputs": [],
   "source": [
    "# Importing pandas library\n",
    "import pandas as pd\n",
    "import numpy as np\n",
    "import random"
   ]
  },
  {
   "cell_type": "code",
   "execution_count": 2,
   "metadata": {},
   "outputs": [],
   "source": [
    "# Importing the csv data files \n",
    "metadata = pd.read_csv('metadata_integrated.csv',error_bad_lines=False, warn_bad_lines=True)\n",
    "rating_data = pd.read_csv('ratings_integrated.csv',error_bad_lines=False, warn_bad_lines=True)"
   ]
  },
  {
   "cell_type": "code",
   "execution_count": 1,
   "metadata": {
    "scrolled": true
   },
   "outputs": [],
   "source": [
    "# Setting the test sample size\n",
    "test_sample_size = 5"
   ]
  },
  {
   "cell_type": "code",
   "execution_count": 7,
   "metadata": {},
   "outputs": [
    {
     "name": "stdout",
     "output_type": "stream",
     "text": [
      "[  1   7  31  32  36  39  73  88  96 110 111 150 161 165 186 242 254 288\n",
      " 310 311 325 338 341 386 394 452 457 461 468 485 487 496 511 516 525 590\n",
      " 596 601 607 619 639 641  19  35  61  99 102 128 175 185 188 213 214 268\n",
      " 294 303 363 387 420 442 466 471 472 514 518 529 530 547 551 564 575 577\n",
      " 582 602 603 605 646 665  23  30  70  90 105 119 141 212 233 252 292 306\n",
      " 318 380 507 509 534 537 584 608 647  21  34  41  49  57  66  77 103 118\n",
      " 155 177 195 248 276 299 346 351 353 358 390 423 463 522 580 585 597 624\n",
      " 634 654  38  56  94 130 133 148 198 229 232 262 280 283 320 321 330 372\n",
      " 373 391 430 441 460 481 497 505 510 521 539 545 587  15  17  22 152 257\n",
      " 265 309 344 370 434 527 533 592 648 661 137 207 313 326 335 388 404 405\n",
      " 470 488 559 598  20  48  78 211 236 281 419 532 576  81  95 243 247 285\n",
      " 290 297 300 308 312 337 362 403 560 562 614 617 618 658 664  27 120 291\n",
      " 342 407 613   4 202 217 439 458 477 546 574  25  26  87 154 224 361 384\n",
      " 428 502 586 606 220 360 431 436 520 594 669  59 197 287 328 401 561  43\n",
      "  54  79 350 408 467 474 500  33  98 228 253 295 579 604   5   9 190 193\n",
      " 226 304 381 412 480 557 595 611 656  75 157 167 199 355 395 482 544 599\n",
      " 626  68 282  76  83 125 134 178 196 222 315 352 398 424 519 553 615 621\n",
      " 671   2  47  50  74  80  82  85  92 108 113 114 121 122 126 135 144 145\n",
      " 151 159 164 191 205 249 279 302 369 375 385 389 396 399 400 415 416 418\n",
      " 447 464 535 548 550 552 555 568 588 589 593 649 650 662 666  18  44  67\n",
      "  86  93 162 172 182 240 284 319 371 382 413 465 484 493 517 554 578 616\n",
      " 636 640 659 667  69 129 149 168 176 187 192 219 239 264 266 275 421 422\n",
      " 491 536 569 653   8  13  72 109 116 124 143 171 183 201 216 225 235 241\n",
      " 245 267 270 307 327 339 340 345 364 379 383 409 426 432 433 440 449 450\n",
      " 455 475 478 495 501 508 627 631 633 670  10  11  16  40  97 138 147 203\n",
      " 231 261 271 378 425 438 454 483 494 499 503 523 528 549 556 567 572 620\n",
      " 635 637 643 655 100 256 343 406 451 173 223 263 324   3  28  42  64  84\n",
      "  89  91 104 139 153 163 194 200 237 244 251 277 293 410 417 473 513 538\n",
      " 570 623 628 629 632 356 492  24  58  63 142 146 273 286 317 365 402 437\n",
      " 479 563 565 571 657 132 305 354 453 184 357  53 250 531 174 652 323 462\n",
      " 246 367 180 218 230 612  60 348 393 644  12 189 215 368 645 515 107 112\n",
      " 181 208 274 278 334 445 506 524 583 609 668 210 158 127 160 131 140 166\n",
      " 234 238 255 259 260 314 333 336 443 448 456 486 512 541 630 660 663  52\n",
      " 498  37 136 359 101 591 156 642 469 115 272 349 489 573 625 117 169 331\n",
      " 347 376 411 435 106 209 332 581 296 600  71 316 414 206 429 476 558 622\n",
      " 170 543  62 298 446 540 566 651  46 377  55 329 459 490  29 179 374  65\n",
      " 638  14 269 322 504 301 123 258 427  51 392 610 366 397 542   6 526 204\n",
      " 221  45 289 444 227]\n",
      "671\n",
      "[     1      2      3 ... 162672 163056 163949]\n",
      "9082\n"
     ]
    }
   ],
   "source": [
    "unique_user_ID = rating_data['userId'].unique()\n",
    "print(unique_user_ID)\n",
    "print(len(unique_user_ID))\n",
    "\n",
    "unique_movie_ID = metadata['movieId'].unique()\n",
    "print(unique_movie_ID)\n",
    "print(len(unique_movie_ID))"
   ]
  },
  {
   "cell_type": "code",
   "execution_count": 8,
   "metadata": {},
   "outputs": [
    {
     "data": {
      "text/plain": [
       "9066"
      ]
     },
     "execution_count": 8,
     "metadata": {},
     "output_type": "execute_result"
    }
   ],
   "source": [
    "rating_data['movieId'].nunique()"
   ]
  },
  {
   "cell_type": "code",
   "execution_count": 9,
   "metadata": {},
   "outputs": [
    {
     "data": {
      "text/plain": [
       "9082"
      ]
     },
     "execution_count": 9,
     "metadata": {},
     "output_type": "execute_result"
    }
   ],
   "source": [
    "metadata['movieId'].nunique()"
   ]
  },
  {
   "cell_type": "markdown",
   "metadata": {},
   "source": [
    "### Creating the Cartesian Product for all possible combination of UserId and MovieId"
   ]
  },
  {
   "cell_type": "code",
   "execution_count": 10,
   "metadata": {},
   "outputs": [
    {
     "name": "stdout",
     "output_type": "stream",
     "text": [
      "   userId\n",
      "0       1\n",
      "1       7\n",
      "2      31\n",
      "3      32\n",
      "4      36\n",
      "671\n",
      "   movieId\n",
      "0        1\n",
      "1        2\n",
      "2        3\n",
      "3        4\n",
      "4        5\n",
      "9082\n",
      "   userId  movieId\n",
      "0       1        1\n",
      "1       1        2\n",
      "2       1        3\n",
      "3       1        4\n",
      "4       1        5\n",
      "<class 'pandas.core.frame.DataFrame'>\n",
      "Int64Index: 6094022 entries, 0 to 6094021\n",
      "Data columns (total 2 columns):\n",
      "userId     int64\n",
      "movieId    int64\n",
      "dtypes: int64(2)\n",
      "memory usage: 139.5 MB\n",
      "None\n"
     ]
    }
   ],
   "source": [
    "# df containing only the userID column\n",
    "user_df = pd.DataFrame(unique_user_ID, columns = ['userId'])\n",
    "# Df containing only the movieID column\n",
    "movies_df = pd.DataFrame(unique_movie_ID, columns = ['movieId'])\n",
    "print(user_df.head())\n",
    "print(user_df.size)\n",
    "\n",
    "print(movies_df.head())\n",
    "print(movies_df.size)\n",
    "\n",
    "# Creating the Cartecian Product of Users and Movies\n",
    "user_movie_product = (\n",
    "    user_df.assign(key=1)\n",
    "    .merge(movies_df.assign(key=1), on=\"key\")\n",
    "    .drop(\"key\", axis=1)\n",
    ")\n",
    "print(user_movie_product.head())\n",
    "print(user_movie_product.info())"
   ]
  },
  {
   "cell_type": "code",
   "execution_count": 11,
   "metadata": {},
   "outputs": [
    {
     "data": {
      "text/html": [
       "<div>\n",
       "<style scoped>\n",
       "    .dataframe tbody tr th:only-of-type {\n",
       "        vertical-align: middle;\n",
       "    }\n",
       "\n",
       "    .dataframe tbody tr th {\n",
       "        vertical-align: top;\n",
       "    }\n",
       "\n",
       "    .dataframe thead th {\n",
       "        text-align: right;\n",
       "    }\n",
       "</style>\n",
       "<table border=\"1\" class=\"dataframe\">\n",
       "  <thead>\n",
       "    <tr style=\"text-align: right;\">\n",
       "      <th></th>\n",
       "      <th>userId</th>\n",
       "      <th>movieId</th>\n",
       "    </tr>\n",
       "  </thead>\n",
       "  <tbody>\n",
       "    <tr>\n",
       "      <th>830</th>\n",
       "      <td>1</td>\n",
       "      <td>1029</td>\n",
       "    </tr>\n",
       "  </tbody>\n",
       "</table>\n",
       "</div>"
      ],
      "text/plain": [
       "     userId  movieId\n",
       "830       1     1029"
      ]
     },
     "execution_count": 11,
     "metadata": {},
     "output_type": "execute_result"
    }
   ],
   "source": [
    "# Query for Cross Checking\n",
    "user_movie_product.loc[(user_movie_product['userId'] == 1) & (user_movie_product['movieId'] == 1029)]"
   ]
  },
  {
   "cell_type": "code",
   "execution_count": 12,
   "metadata": {},
   "outputs": [
    {
     "data": {
      "text/html": [
       "<div>\n",
       "<style scoped>\n",
       "    .dataframe tbody tr th:only-of-type {\n",
       "        vertical-align: middle;\n",
       "    }\n",
       "\n",
       "    .dataframe tbody tr th {\n",
       "        vertical-align: top;\n",
       "    }\n",
       "\n",
       "    .dataframe thead th {\n",
       "        text-align: right;\n",
       "    }\n",
       "</style>\n",
       "<table border=\"1\" class=\"dataframe\">\n",
       "  <thead>\n",
       "    <tr style=\"text-align: right;\">\n",
       "      <th></th>\n",
       "      <th>userId</th>\n",
       "      <th>movieId</th>\n",
       "    </tr>\n",
       "  </thead>\n",
       "  <tbody>\n",
       "    <tr>\n",
       "      <th>77838</th>\n",
       "      <td>96</td>\n",
       "      <td>7587</td>\n",
       "    </tr>\n",
       "  </tbody>\n",
       "</table>\n",
       "</div>"
      ],
      "text/plain": [
       "       userId  movieId\n",
       "77838      96     7587"
      ]
     },
     "execution_count": 12,
     "metadata": {},
     "output_type": "execute_result"
    }
   ],
   "source": [
    "user_movie_product.loc[(user_movie_product['userId'] == 96)  & (user_movie_product['movieId'] == 7587)]"
   ]
  },
  {
   "cell_type": "code",
   "execution_count": 13,
   "metadata": {},
   "outputs": [
    {
     "data": {
      "text/html": [
       "<div>\n",
       "<style scoped>\n",
       "    .dataframe tbody tr th:only-of-type {\n",
       "        vertical-align: middle;\n",
       "    }\n",
       "\n",
       "    .dataframe tbody tr th {\n",
       "        vertical-align: top;\n",
       "    }\n",
       "\n",
       "    .dataframe thead th {\n",
       "        text-align: right;\n",
       "    }\n",
       "</style>\n",
       "<table border=\"1\" class=\"dataframe\">\n",
       "  <thead>\n",
       "    <tr style=\"text-align: right;\">\n",
       "      <th></th>\n",
       "      <th>userId</th>\n",
       "      <th>movieId</th>\n",
       "    </tr>\n",
       "  </thead>\n",
       "  <tbody>\n",
       "    <tr>\n",
       "      <th>0</th>\n",
       "      <td>1</td>\n",
       "      <td>1</td>\n",
       "    </tr>\n",
       "    <tr>\n",
       "      <th>1</th>\n",
       "      <td>1</td>\n",
       "      <td>2</td>\n",
       "    </tr>\n",
       "    <tr>\n",
       "      <th>2</th>\n",
       "      <td>1</td>\n",
       "      <td>3</td>\n",
       "    </tr>\n",
       "    <tr>\n",
       "      <th>3</th>\n",
       "      <td>1</td>\n",
       "      <td>4</td>\n",
       "    </tr>\n",
       "  </tbody>\n",
       "</table>\n",
       "</div>"
      ],
      "text/plain": [
       "   userId  movieId\n",
       "0       1        1\n",
       "1       1        2\n",
       "2       1        3\n",
       "3       1        4"
      ]
     },
     "execution_count": 13,
     "metadata": {},
     "output_type": "execute_result"
    }
   ],
   "source": [
    "user_movie_product.head(4)"
   ]
  },
  {
   "cell_type": "code",
   "execution_count": 14,
   "metadata": {},
   "outputs": [
    {
     "data": {
      "text/html": [
       "<div>\n",
       "<style scoped>\n",
       "    .dataframe tbody tr th:only-of-type {\n",
       "        vertical-align: middle;\n",
       "    }\n",
       "\n",
       "    .dataframe tbody tr th {\n",
       "        vertical-align: top;\n",
       "    }\n",
       "\n",
       "    .dataframe thead th {\n",
       "        text-align: right;\n",
       "    }\n",
       "</style>\n",
       "<table border=\"1\" class=\"dataframe\">\n",
       "  <thead>\n",
       "    <tr style=\"text-align: right;\">\n",
       "      <th></th>\n",
       "      <th>userId</th>\n",
       "      <th>movieId</th>\n",
       "      <th>rating</th>\n",
       "      <th>imdbId</th>\n",
       "      <th>tmdbId</th>\n",
       "    </tr>\n",
       "  </thead>\n",
       "  <tbody>\n",
       "    <tr>\n",
       "      <th>0</th>\n",
       "      <td>1</td>\n",
       "      <td>31</td>\n",
       "      <td>2.5</td>\n",
       "      <td>112792</td>\n",
       "      <td>9909.0</td>\n",
       "    </tr>\n",
       "    <tr>\n",
       "      <th>1</th>\n",
       "      <td>7</td>\n",
       "      <td>31</td>\n",
       "      <td>3.0</td>\n",
       "      <td>112792</td>\n",
       "      <td>9909.0</td>\n",
       "    </tr>\n",
       "    <tr>\n",
       "      <th>2</th>\n",
       "      <td>31</td>\n",
       "      <td>31</td>\n",
       "      <td>4.0</td>\n",
       "      <td>112792</td>\n",
       "      <td>9909.0</td>\n",
       "    </tr>\n",
       "    <tr>\n",
       "      <th>3</th>\n",
       "      <td>32</td>\n",
       "      <td>31</td>\n",
       "      <td>4.0</td>\n",
       "      <td>112792</td>\n",
       "      <td>9909.0</td>\n",
       "    </tr>\n",
       "  </tbody>\n",
       "</table>\n",
       "</div>"
      ],
      "text/plain": [
       "   userId  movieId  rating  imdbId  tmdbId\n",
       "0       1       31     2.5  112792  9909.0\n",
       "1       7       31     3.0  112792  9909.0\n",
       "2      31       31     4.0  112792  9909.0\n",
       "3      32       31     4.0  112792  9909.0"
      ]
     },
     "execution_count": 14,
     "metadata": {},
     "output_type": "execute_result"
    }
   ],
   "source": [
    "rating_data.head(4)"
   ]
  },
  {
   "cell_type": "code",
   "execution_count": 15,
   "metadata": {},
   "outputs": [
    {
     "data": {
      "text/html": [
       "<div>\n",
       "<style scoped>\n",
       "    .dataframe tbody tr th:only-of-type {\n",
       "        vertical-align: middle;\n",
       "    }\n",
       "\n",
       "    .dataframe tbody tr th {\n",
       "        vertical-align: top;\n",
       "    }\n",
       "\n",
       "    .dataframe thead th {\n",
       "        text-align: right;\n",
       "    }\n",
       "</style>\n",
       "<table border=\"1\" class=\"dataframe\">\n",
       "  <thead>\n",
       "    <tr style=\"text-align: right;\">\n",
       "      <th></th>\n",
       "      <th>userId</th>\n",
       "      <th>movieId</th>\n",
       "      <th>rating</th>\n",
       "      <th>imdbId</th>\n",
       "      <th>tmdbId</th>\n",
       "    </tr>\n",
       "  </thead>\n",
       "  <tbody>\n",
       "    <tr>\n",
       "      <th>42</th>\n",
       "      <td>1</td>\n",
       "      <td>1029</td>\n",
       "      <td>3.0</td>\n",
       "      <td>33563</td>\n",
       "      <td>11360.0</td>\n",
       "    </tr>\n",
       "  </tbody>\n",
       "</table>\n",
       "</div>"
      ],
      "text/plain": [
       "    userId  movieId  rating  imdbId   tmdbId\n",
       "42       1     1029     3.0   33563  11360.0"
      ]
     },
     "execution_count": 15,
     "metadata": {},
     "output_type": "execute_result"
    }
   ],
   "source": [
    "rating_data.loc[(rating_data['userId'] == 1) & (rating_data['movieId'] == 1029)]"
   ]
  },
  {
   "cell_type": "markdown",
   "metadata": {},
   "source": [
    "### Merging the dataframes to get the rated and unrated movies for each user"
   ]
  },
  {
   "cell_type": "code",
   "execution_count": 16,
   "metadata": {},
   "outputs": [],
   "source": [
    "# Merging two dataframes to get the rated and unrated movies\n",
    "merged_rating_df = pd.merge(user_movie_product, rating_data, how='left', left_on=['userId','movieId'], right_on = ['userId','movieId']).drop(columns = ['imdbId','tmdbId'])"
   ]
  },
  {
   "cell_type": "code",
   "execution_count": 17,
   "metadata": {},
   "outputs": [
    {
     "name": "stdout",
     "output_type": "stream",
     "text": [
      "<class 'pandas.core.frame.DataFrame'>\n",
      "Int64Index: 6094022 entries, 0 to 6094021\n",
      "Data columns (total 3 columns):\n",
      "userId     int64\n",
      "movieId    int64\n",
      "rating     float64\n",
      "dtypes: float64(1), int64(2)\n",
      "memory usage: 186.0 MB\n"
     ]
    }
   ],
   "source": [
    "merged_rating_df.info()"
   ]
  },
  {
   "cell_type": "code",
   "execution_count": 18,
   "metadata": {},
   "outputs": [
    {
     "name": "stdout",
     "output_type": "stream",
     "text": [
      "<class 'pandas.core.frame.DataFrame'>\n",
      "Int64Index: 6094022 entries, 0 to 6094021\n",
      "Data columns (total 3 columns):\n",
      "userId     int64\n",
      "movieId    int64\n",
      "rating     float64\n",
      "dtypes: float64(1), int64(2)\n",
      "memory usage: 186.0 MB\n"
     ]
    }
   ],
   "source": [
    "# Cross Checking\n",
    "merged_rating_df.info()"
   ]
  },
  {
   "cell_type": "code",
   "execution_count": 19,
   "metadata": {},
   "outputs": [
    {
     "data": {
      "text/html": [
       "<div>\n",
       "<style scoped>\n",
       "    .dataframe tbody tr th:only-of-type {\n",
       "        vertical-align: middle;\n",
       "    }\n",
       "\n",
       "    .dataframe tbody tr th {\n",
       "        vertical-align: top;\n",
       "    }\n",
       "\n",
       "    .dataframe thead th {\n",
       "        text-align: right;\n",
       "    }\n",
       "</style>\n",
       "<table border=\"1\" class=\"dataframe\">\n",
       "  <thead>\n",
       "    <tr style=\"text-align: right;\">\n",
       "      <th></th>\n",
       "      <th>userId</th>\n",
       "      <th>movieId</th>\n",
       "      <th>rating</th>\n",
       "    </tr>\n",
       "  </thead>\n",
       "  <tbody>\n",
       "    <tr>\n",
       "      <th>830</th>\n",
       "      <td>1</td>\n",
       "      <td>1029</td>\n",
       "      <td>3.0</td>\n",
       "    </tr>\n",
       "  </tbody>\n",
       "</table>\n",
       "</div>"
      ],
      "text/plain": [
       "     userId  movieId  rating\n",
       "830       1     1029     3.0"
      ]
     },
     "execution_count": 19,
     "metadata": {},
     "output_type": "execute_result"
    }
   ],
   "source": [
    "merged_rating_df.loc[(merged_rating_df['userId'] == 1) & (merged_rating_df['movieId'] == 1029)]"
   ]
  },
  {
   "cell_type": "code",
   "execution_count": 20,
   "metadata": {},
   "outputs": [
    {
     "data": {
      "text/html": [
       "<div>\n",
       "<style scoped>\n",
       "    .dataframe tbody tr th:only-of-type {\n",
       "        vertical-align: middle;\n",
       "    }\n",
       "\n",
       "    .dataframe tbody tr th {\n",
       "        vertical-align: top;\n",
       "    }\n",
       "\n",
       "    .dataframe thead th {\n",
       "        text-align: right;\n",
       "    }\n",
       "</style>\n",
       "<table border=\"1\" class=\"dataframe\">\n",
       "  <thead>\n",
       "    <tr style=\"text-align: right;\">\n",
       "      <th></th>\n",
       "      <th>userId</th>\n",
       "      <th>movieId</th>\n",
       "      <th>rating</th>\n",
       "    </tr>\n",
       "  </thead>\n",
       "  <tbody>\n",
       "    <tr>\n",
       "      <th>6094018</th>\n",
       "      <td>227</td>\n",
       "      <td>162542</td>\n",
       "      <td>NaN</td>\n",
       "    </tr>\n",
       "  </tbody>\n",
       "</table>\n",
       "</div>"
      ],
      "text/plain": [
       "         userId  movieId  rating\n",
       "6094018     227   162542     NaN"
      ]
     },
     "execution_count": 20,
     "metadata": {},
     "output_type": "execute_result"
    }
   ],
   "source": [
    "merged_rating_df.loc[(merged_rating_df['userId'] == 227) & (merged_rating_df['movieId'] == 162542)]"
   ]
  },
  {
   "cell_type": "markdown",
   "metadata": {},
   "source": [
    "## Splitting rated and unrated movies for each user"
   ]
  },
  {
   "cell_type": "code",
   "execution_count": 21,
   "metadata": {},
   "outputs": [
    {
     "name": "stdout",
     "output_type": "stream",
     "text": [
      "         userId  movieId  rating\n",
      "6086831     227     2385     2.0\n",
      "6086832     227     2386     5.0\n",
      "6086833     227     2387     5.0\n",
      "6086835     227     2389     5.0\n",
      "6086838     227     2392     4.0\n",
      "299430\n",
      "<class 'pandas.core.frame.DataFrame'>\n",
      "Int64Index: 99810 entries, 30 to 6086838\n",
      "Data columns (total 3 columns):\n",
      "userId     99810 non-null int64\n",
      "movieId    99810 non-null int64\n",
      "rating     99810 non-null float64\n",
      "dtypes: float64(1), int64(2)\n",
      "memory usage: 3.0 MB\n",
      "None\n",
      "         userId  movieId  rating\n",
      "6094017     227   161944     NaN\n",
      "6094018     227   162542     NaN\n",
      "6094019     227   162672     NaN\n",
      "6094020     227   163056     NaN\n",
      "6094021     227   163949     NaN\n",
      "17982636\n",
      "<class 'pandas.core.frame.DataFrame'>\n",
      "Int64Index: 5994212 entries, 0 to 6094021\n",
      "Data columns (total 3 columns):\n",
      "userId     int64\n",
      "movieId    int64\n",
      "rating     float64\n",
      "dtypes: float64(1), int64(2)\n",
      "memory usage: 182.9 MB\n",
      "None\n"
     ]
    }
   ],
   "source": [
    "# Dataframe containg only the rated movies by the users\n",
    "rated_movies = merged_rating_df\n",
    "rated_movies = rated_movies.dropna()\n",
    "\n",
    "print(rated_movies.tail())\n",
    "print(rated_movies.size)\n",
    "print(rated_movies.info())\n",
    "\n",
    "\n",
    "bool_series = pd.isnull(merged_rating_df['rating'])\n",
    "#print(bool_series)  \n",
    "\n",
    "# Dataframe containg only the un-rated movies by the users\n",
    "unrated_movies = merged_rating_df[bool_series] \n",
    "\n",
    "print(unrated_movies.tail())\n",
    "print(unrated_movies.size)\n",
    "print(unrated_movies.info())"
   ]
  },
  {
   "cell_type": "code",
   "execution_count": 22,
   "metadata": {},
   "outputs": [
    {
     "data": {
      "text/html": [
       "<div>\n",
       "<style scoped>\n",
       "    .dataframe tbody tr th:only-of-type {\n",
       "        vertical-align: middle;\n",
       "    }\n",
       "\n",
       "    .dataframe tbody tr th {\n",
       "        vertical-align: top;\n",
       "    }\n",
       "\n",
       "    .dataframe thead th {\n",
       "        text-align: right;\n",
       "    }\n",
       "</style>\n",
       "<table border=\"1\" class=\"dataframe\">\n",
       "  <thead>\n",
       "    <tr style=\"text-align: right;\">\n",
       "      <th></th>\n",
       "      <th>userId</th>\n",
       "      <th>movieId</th>\n",
       "      <th>rating</th>\n",
       "    </tr>\n",
       "  </thead>\n",
       "  <tbody>\n",
       "    <tr>\n",
       "      <th>77838</th>\n",
       "      <td>96</td>\n",
       "      <td>7587</td>\n",
       "      <td>4.0</td>\n",
       "    </tr>\n",
       "  </tbody>\n",
       "</table>\n",
       "</div>"
      ],
      "text/plain": [
       "       userId  movieId  rating\n",
       "77838      96     7587     4.0"
      ]
     },
     "execution_count": 22,
     "metadata": {},
     "output_type": "execute_result"
    }
   ],
   "source": [
    "rated_movies.loc[(rated_movies['userId'] == 96) & (rated_movies['movieId'] == 7587)]"
   ]
  },
  {
   "cell_type": "markdown",
   "metadata": {},
   "source": [
    "## Creating test dataset for each user"
   ]
  },
  {
   "cell_type": "code",
   "execution_count": 23,
   "metadata": {},
   "outputs": [],
   "source": [
    "# Initializing dataframe\n",
    "column_names = ['userId','movieId','rating']\n",
    "test_df = pd.DataFrame(columns = column_names)\n",
    "user_test_df = pd.DataFrame(columns = column_names)\n",
    "\n",
    "# The follwing selects '5' rated movies for each user for the test dataset\n",
    "for i in range(len(unique_user_ID)):\n",
    "    temp = rated_movies.loc[rated_movies['userId'] == unique_user_ID[i]]\n",
    "    temp_movies = temp['movieId'].tolist()\n",
    "    sample_movies = random.sample(temp_movies, test_sample_size)\n",
    "    #print(\"Random item from list is: \", sample_movies)\n",
    "    for j in range(len(sample_movies)):\n",
    "        user_test_df = rated_movies.loc[(rated_movies['userId'] == unique_user_ID[i]) & (rated_movies['movieId'] == sample_movies[j])]\n",
    "        test_df = pd.concat([test_df, user_test_df])"
   ]
  },
  {
   "cell_type": "code",
   "execution_count": 24,
   "metadata": {},
   "outputs": [
    {
     "data": {
      "text/html": [
       "<div>\n",
       "<style scoped>\n",
       "    .dataframe tbody tr th:only-of-type {\n",
       "        vertical-align: middle;\n",
       "    }\n",
       "\n",
       "    .dataframe tbody tr th {\n",
       "        vertical-align: top;\n",
       "    }\n",
       "\n",
       "    .dataframe thead th {\n",
       "        text-align: right;\n",
       "    }\n",
       "</style>\n",
       "<table border=\"1\" class=\"dataframe\">\n",
       "  <thead>\n",
       "    <tr style=\"text-align: right;\">\n",
       "      <th></th>\n",
       "      <th>userId</th>\n",
       "      <th>movieId</th>\n",
       "      <th>rating</th>\n",
       "    </tr>\n",
       "  </thead>\n",
       "  <tbody>\n",
       "    <tr>\n",
       "      <th>1958</th>\n",
       "      <td>1</td>\n",
       "      <td>2455</td>\n",
       "      <td>2.5</td>\n",
       "    </tr>\n",
       "    <tr>\n",
       "      <th>927</th>\n",
       "      <td>1</td>\n",
       "      <td>1172</td>\n",
       "      <td>4.0</td>\n",
       "    </tr>\n",
       "    <tr>\n",
       "      <th>856</th>\n",
       "      <td>1</td>\n",
       "      <td>1061</td>\n",
       "      <td>3.0</td>\n",
       "    </tr>\n",
       "    <tr>\n",
       "      <th>1739</th>\n",
       "      <td>1</td>\n",
       "      <td>2193</td>\n",
       "      <td>2.0</td>\n",
       "    </tr>\n",
       "    <tr>\n",
       "      <th>1136</th>\n",
       "      <td>1</td>\n",
       "      <td>1405</td>\n",
       "      <td>1.0</td>\n",
       "    </tr>\n",
       "  </tbody>\n",
       "</table>\n",
       "</div>"
      ],
      "text/plain": [
       "     userId movieId  rating\n",
       "1958      1    2455     2.5\n",
       "927       1    1172     4.0\n",
       "856       1    1061     3.0\n",
       "1739      1    2193     2.0\n",
       "1136      1    1405     1.0"
      ]
     },
     "execution_count": 24,
     "metadata": {},
     "output_type": "execute_result"
    }
   ],
   "source": [
    "test_df.head(5)"
   ]
  },
  {
   "cell_type": "code",
   "execution_count": 25,
   "metadata": {},
   "outputs": [
    {
     "name": "stdout",
     "output_type": "stream",
     "text": [
      "<class 'pandas.core.frame.DataFrame'>\n",
      "Int64Index: 3355 entries, 1958 to 6086830\n",
      "Data columns (total 3 columns):\n",
      "userId     3355 non-null int32\n",
      "movieId    3355 non-null int32\n",
      "rating     3355 non-null float64\n",
      "dtypes: float64(1), int32(2)\n",
      "memory usage: 78.6 KB\n"
     ]
    }
   ],
   "source": [
    "test_df['userId'] = test_df['userId'].astype(str).astype(int)\n",
    "test_df['movieId'] = test_df['movieId'].astype(str).astype(int)\n",
    "test_df.info()"
   ]
  },
  {
   "cell_type": "code",
   "execution_count": 26,
   "metadata": {},
   "outputs": [
    {
     "name": "stdout",
     "output_type": "stream",
     "text": [
      "<class 'pandas.core.frame.DataFrame'>\n",
      "Int64Index: 99810 entries, 30 to 6086838\n",
      "Data columns (total 3 columns):\n",
      "userId     99810 non-null int64\n",
      "movieId    99810 non-null int64\n",
      "rating     99810 non-null float64\n",
      "dtypes: float64(1), int64(2)\n",
      "memory usage: 3.0 MB\n"
     ]
    }
   ],
   "source": [
    "rated_movies.info()"
   ]
  },
  {
   "cell_type": "markdown",
   "metadata": {},
   "source": [
    "## Creating test dataset for each user"
   ]
  },
  {
   "cell_type": "code",
   "execution_count": 27,
   "metadata": {},
   "outputs": [],
   "source": [
    "# Creating the Train dataset\n",
    "\n",
    "train_df = pd.merge(rated_movies, test_df, how='left', left_on=['userId','movieId'], right_on = ['userId','movieId'])\n",
    "\n",
    "bool_series = pd.isnull(train_df['rating_y'])\n",
    "\n",
    "train_df = train_df[bool_series] \n",
    "train_df = train_df.drop(['rating_y'], axis = 1)\n",
    "train_df = train_df.rename(columns={'rating_x': 'rating'})"
   ]
  },
  {
   "cell_type": "code",
   "execution_count": 28,
   "metadata": {},
   "outputs": [
    {
     "data": {
      "text/html": [
       "<div>\n",
       "<style scoped>\n",
       "    .dataframe tbody tr th:only-of-type {\n",
       "        vertical-align: middle;\n",
       "    }\n",
       "\n",
       "    .dataframe tbody tr th {\n",
       "        vertical-align: top;\n",
       "    }\n",
       "\n",
       "    .dataframe thead th {\n",
       "        text-align: right;\n",
       "    }\n",
       "</style>\n",
       "<table border=\"1\" class=\"dataframe\">\n",
       "  <thead>\n",
       "    <tr style=\"text-align: right;\">\n",
       "      <th></th>\n",
       "      <th>userId</th>\n",
       "      <th>movieId</th>\n",
       "      <th>rating</th>\n",
       "    </tr>\n",
       "  </thead>\n",
       "  <tbody>\n",
       "    <tr>\n",
       "      <th>0</th>\n",
       "      <td>1</td>\n",
       "      <td>31</td>\n",
       "      <td>2.5</td>\n",
       "    </tr>\n",
       "    <tr>\n",
       "      <th>1</th>\n",
       "      <td>1</td>\n",
       "      <td>1029</td>\n",
       "      <td>3.0</td>\n",
       "    </tr>\n",
       "    <tr>\n",
       "      <th>3</th>\n",
       "      <td>1</td>\n",
       "      <td>1129</td>\n",
       "      <td>2.0</td>\n",
       "    </tr>\n",
       "    <tr>\n",
       "      <th>5</th>\n",
       "      <td>1</td>\n",
       "      <td>1263</td>\n",
       "      <td>2.0</td>\n",
       "    </tr>\n",
       "    <tr>\n",
       "      <th>6</th>\n",
       "      <td>1</td>\n",
       "      <td>1287</td>\n",
       "      <td>2.0</td>\n",
       "    </tr>\n",
       "  </tbody>\n",
       "</table>\n",
       "</div>"
      ],
      "text/plain": [
       "   userId  movieId  rating\n",
       "0       1       31     2.5\n",
       "1       1     1029     3.0\n",
       "3       1     1129     2.0\n",
       "5       1     1263     2.0\n",
       "6       1     1287     2.0"
      ]
     },
     "execution_count": 28,
     "metadata": {},
     "output_type": "execute_result"
    }
   ],
   "source": [
    "train_df.head()"
   ]
  },
  {
   "cell_type": "code",
   "execution_count": 29,
   "metadata": {},
   "outputs": [
    {
     "name": "stdout",
     "output_type": "stream",
     "text": [
      "<class 'pandas.core.frame.DataFrame'>\n",
      "Int64Index: 96455 entries, 0 to 99809\n",
      "Data columns (total 3 columns):\n",
      "userId     96455 non-null int64\n",
      "movieId    96455 non-null int64\n",
      "rating     96455 non-null float64\n",
      "dtypes: float64(1), int64(2)\n",
      "memory usage: 2.9 MB\n"
     ]
    }
   ],
   "source": [
    "train_df.info()"
   ]
  },
  {
   "cell_type": "code",
   "execution_count": 30,
   "metadata": {},
   "outputs": [
    {
     "data": {
      "text/html": [
       "<div>\n",
       "<style scoped>\n",
       "    .dataframe tbody tr th:only-of-type {\n",
       "        vertical-align: middle;\n",
       "    }\n",
       "\n",
       "    .dataframe tbody tr th {\n",
       "        vertical-align: top;\n",
       "    }\n",
       "\n",
       "    .dataframe thead th {\n",
       "        text-align: right;\n",
       "    }\n",
       "</style>\n",
       "<table border=\"1\" class=\"dataframe\">\n",
       "  <thead>\n",
       "    <tr style=\"text-align: right;\">\n",
       "      <th></th>\n",
       "      <th>userId</th>\n",
       "      <th>movieId</th>\n",
       "      <th>rating</th>\n",
       "      <th>genres</th>\n",
       "      <th>tmdbId</th>\n",
       "      <th>imdb_id</th>\n",
       "      <th>original_language</th>\n",
       "      <th>overview</th>\n",
       "      <th>popularity</th>\n",
       "      <th>production_companies</th>\n",
       "      <th>...</th>\n",
       "      <th>spoken_languages</th>\n",
       "      <th>status</th>\n",
       "      <th>tagline</th>\n",
       "      <th>title</th>\n",
       "      <th>video</th>\n",
       "      <th>vote_average</th>\n",
       "      <th>vote_count</th>\n",
       "      <th>collectionId</th>\n",
       "      <th>collectionName</th>\n",
       "      <th>year</th>\n",
       "    </tr>\n",
       "  </thead>\n",
       "  <tbody>\n",
       "    <tr>\n",
       "      <th>0</th>\n",
       "      <td>1</td>\n",
       "      <td>31</td>\n",
       "      <td>2.5</td>\n",
       "      <td>Drama,Crime</td>\n",
       "      <td>9909</td>\n",
       "      <td>112792</td>\n",
       "      <td>en</td>\n",
       "      <td>Former Marine Louanne Johnson lands a gig teac...</td>\n",
       "      <td>9.481338</td>\n",
       "      <td>Hollywood Pictures,Via Rosa Productions,Don Si...</td>\n",
       "      <td>...</td>\n",
       "      <td>English</td>\n",
       "      <td>Released</td>\n",
       "      <td>She broke the rules... and changed their lives.</td>\n",
       "      <td>Dangerous Minds</td>\n",
       "      <td>False</td>\n",
       "      <td>6.4</td>\n",
       "      <td>249.0</td>\n",
       "      <td>-99</td>\n",
       "      <td>unknown</td>\n",
       "      <td>1995</td>\n",
       "    </tr>\n",
       "    <tr>\n",
       "      <th>1</th>\n",
       "      <td>1</td>\n",
       "      <td>1029</td>\n",
       "      <td>3.0</td>\n",
       "      <td>Animation,Family</td>\n",
       "      <td>11360</td>\n",
       "      <td>33563</td>\n",
       "      <td>en</td>\n",
       "      <td>Dumbo is a baby elephant born with oversized e...</td>\n",
       "      <td>14.655879</td>\n",
       "      <td>RKO Radio Pictures,Walt Disney Productions</td>\n",
       "      <td>...</td>\n",
       "      <td>English</td>\n",
       "      <td>Released</td>\n",
       "      <td>The One...The Only...The FABULOUS...</td>\n",
       "      <td>Dumbo</td>\n",
       "      <td>False</td>\n",
       "      <td>6.8</td>\n",
       "      <td>1206.0</td>\n",
       "      <td>-99</td>\n",
       "      <td>unknown</td>\n",
       "      <td>1941</td>\n",
       "    </tr>\n",
       "    <tr>\n",
       "      <th>2</th>\n",
       "      <td>1</td>\n",
       "      <td>1129</td>\n",
       "      <td>2.0</td>\n",
       "      <td>Science Fiction,Action</td>\n",
       "      <td>1103</td>\n",
       "      <td>82340</td>\n",
       "      <td>en</td>\n",
       "      <td>In 1997, the island of Manhattan has been wall...</td>\n",
       "      <td>10.124544</td>\n",
       "      <td>AVCO Embassy Pictures,Goldcrest Films Internat...</td>\n",
       "      <td>...</td>\n",
       "      <td>English</td>\n",
       "      <td>Released</td>\n",
       "      <td>1997. New York City is now a maximum security ...</td>\n",
       "      <td>Escape from New York</td>\n",
       "      <td>False</td>\n",
       "      <td>6.9</td>\n",
       "      <td>720.0</td>\n",
       "      <td>115838</td>\n",
       "      <td>'Escape From ... Collection'</td>\n",
       "      <td>1981</td>\n",
       "    </tr>\n",
       "    <tr>\n",
       "      <th>3</th>\n",
       "      <td>1</td>\n",
       "      <td>1263</td>\n",
       "      <td>2.0</td>\n",
       "      <td>Drama,War</td>\n",
       "      <td>11778</td>\n",
       "      <td>77416</td>\n",
       "      <td>en</td>\n",
       "      <td>A group of working-class friends decides to en...</td>\n",
       "      <td>7.729445</td>\n",
       "      <td>Universal Pictures,EMI Films Ltd.</td>\n",
       "      <td>...</td>\n",
       "      <td>English,Français,Pусский,Tiếng Việt</td>\n",
       "      <td>Released</td>\n",
       "      <td>One of the most important and powerful films o...</td>\n",
       "      <td>The Deer Hunter</td>\n",
       "      <td>False</td>\n",
       "      <td>7.8</td>\n",
       "      <td>943.0</td>\n",
       "      <td>-99</td>\n",
       "      <td>unknown</td>\n",
       "      <td>1978</td>\n",
       "    </tr>\n",
       "    <tr>\n",
       "      <th>4</th>\n",
       "      <td>1</td>\n",
       "      <td>1287</td>\n",
       "      <td>2.0</td>\n",
       "      <td>Action,Adventure,Drama,History</td>\n",
       "      <td>665</td>\n",
       "      <td>52618</td>\n",
       "      <td>en</td>\n",
       "      <td>Ben-Hur is a 1959 epic film directed by Willia...</td>\n",
       "      <td>14.319743</td>\n",
       "      <td>Metro-Goldwyn-Mayer (MGM)</td>\n",
       "      <td>...</td>\n",
       "      <td>English</td>\n",
       "      <td>Released</td>\n",
       "      <td>The entertainment experience of a lifetime.</td>\n",
       "      <td>Ben-Hur</td>\n",
       "      <td>False</td>\n",
       "      <td>7.5</td>\n",
       "      <td>660.0</td>\n",
       "      <td>-99</td>\n",
       "      <td>unknown</td>\n",
       "      <td>1959</td>\n",
       "    </tr>\n",
       "  </tbody>\n",
       "</table>\n",
       "<p>5 rows × 22 columns</p>\n",
       "</div>"
      ],
      "text/plain": [
       "   userId  movieId  rating                          genres  tmdbId  imdb_id  \\\n",
       "0       1       31     2.5                     Drama,Crime    9909   112792   \n",
       "1       1     1029     3.0                Animation,Family   11360    33563   \n",
       "2       1     1129     2.0          Science Fiction,Action    1103    82340   \n",
       "3       1     1263     2.0                       Drama,War   11778    77416   \n",
       "4       1     1287     2.0  Action,Adventure,Drama,History     665    52618   \n",
       "\n",
       "  original_language                                           overview  \\\n",
       "0                en  Former Marine Louanne Johnson lands a gig teac...   \n",
       "1                en  Dumbo is a baby elephant born with oversized e...   \n",
       "2                en  In 1997, the island of Manhattan has been wall...   \n",
       "3                en  A group of working-class friends decides to en...   \n",
       "4                en  Ben-Hur is a 1959 epic film directed by Willia...   \n",
       "\n",
       "   popularity                               production_companies  ...   \\\n",
       "0    9.481338  Hollywood Pictures,Via Rosa Productions,Don Si...  ...    \n",
       "1   14.655879         RKO Radio Pictures,Walt Disney Productions  ...    \n",
       "2   10.124544  AVCO Embassy Pictures,Goldcrest Films Internat...  ...    \n",
       "3    7.729445                  Universal Pictures,EMI Films Ltd.  ...    \n",
       "4   14.319743                          Metro-Goldwyn-Mayer (MGM)  ...    \n",
       "\n",
       "                      spoken_languages    status  \\\n",
       "0                              English  Released   \n",
       "1                              English  Released   \n",
       "2                              English  Released   \n",
       "3  English,Français,Pусский,Tiếng Việt  Released   \n",
       "4                              English  Released   \n",
       "\n",
       "                                             tagline                 title  \\\n",
       "0    She broke the rules... and changed their lives.       Dangerous Minds   \n",
       "1               The One...The Only...The FABULOUS...                 Dumbo   \n",
       "2  1997. New York City is now a maximum security ...  Escape from New York   \n",
       "3  One of the most important and powerful films o...       The Deer Hunter   \n",
       "4        The entertainment experience of a lifetime.               Ben-Hur   \n",
       "\n",
       "   video vote_average  vote_count  collectionId  \\\n",
       "0  False          6.4       249.0           -99   \n",
       "1  False          6.8      1206.0           -99   \n",
       "2  False          6.9       720.0        115838   \n",
       "3  False          7.8       943.0           -99   \n",
       "4  False          7.5       660.0           -99   \n",
       "\n",
       "                  collectionName  year  \n",
       "0                        unknown  1995  \n",
       "1                        unknown  1941  \n",
       "2   'Escape From ... Collection'  1981  \n",
       "3                        unknown  1978  \n",
       "4                        unknown  1959  \n",
       "\n",
       "[5 rows x 22 columns]"
      ]
     },
     "execution_count": 30,
     "metadata": {},
     "output_type": "execute_result"
    }
   ],
   "source": [
    "# Integrating the features of movie metadata to the train and test dataset\n",
    "train_df = pd.merge(train_df, metadata, how='left', left_on=['movieId'], right_on = ['movieId'])\n",
    "test_df = pd.merge(test_df, metadata, how='left', left_on=['movieId'], right_on = ['movieId'])\n",
    "train_df.head()"
   ]
  },
  {
   "cell_type": "code",
   "execution_count": 31,
   "metadata": {},
   "outputs": [
    {
     "data": {
      "text/html": [
       "<div>\n",
       "<style scoped>\n",
       "    .dataframe tbody tr th:only-of-type {\n",
       "        vertical-align: middle;\n",
       "    }\n",
       "\n",
       "    .dataframe tbody tr th {\n",
       "        vertical-align: top;\n",
       "    }\n",
       "\n",
       "    .dataframe thead th {\n",
       "        text-align: right;\n",
       "    }\n",
       "</style>\n",
       "<table border=\"1\" class=\"dataframe\">\n",
       "  <thead>\n",
       "    <tr style=\"text-align: right;\">\n",
       "      <th></th>\n",
       "      <th>userId</th>\n",
       "      <th>movieId</th>\n",
       "      <th>rating</th>\n",
       "      <th>genres</th>\n",
       "      <th>tmdbId</th>\n",
       "      <th>imdb_id</th>\n",
       "      <th>original_language</th>\n",
       "      <th>overview</th>\n",
       "      <th>popularity</th>\n",
       "      <th>production_companies</th>\n",
       "      <th>...</th>\n",
       "      <th>spoken_languages</th>\n",
       "      <th>status</th>\n",
       "      <th>tagline</th>\n",
       "      <th>title</th>\n",
       "      <th>video</th>\n",
       "      <th>vote_average</th>\n",
       "      <th>vote_count</th>\n",
       "      <th>collectionId</th>\n",
       "      <th>collectionName</th>\n",
       "      <th>year</th>\n",
       "    </tr>\n",
       "  </thead>\n",
       "  <tbody>\n",
       "    <tr>\n",
       "      <th>0</th>\n",
       "      <td>1</td>\n",
       "      <td>2455</td>\n",
       "      <td>2.5</td>\n",
       "      <td>Horror,Science Fiction</td>\n",
       "      <td>9426</td>\n",
       "      <td>91064</td>\n",
       "      <td>en</td>\n",
       "      <td>When Seth Brundle makes a huge scientific and ...</td>\n",
       "      <td>13.534589</td>\n",
       "      <td>SLM Production Group,Brooksfilms</td>\n",
       "      <td>...</td>\n",
       "      <td>English</td>\n",
       "      <td>Released</td>\n",
       "      <td>Be afraid. Be very afraid.</td>\n",
       "      <td>The Fly</td>\n",
       "      <td>False</td>\n",
       "      <td>7.1</td>\n",
       "      <td>1038.0</td>\n",
       "      <td>109609</td>\n",
       "      <td>'The Fly Collection'</td>\n",
       "      <td>1986</td>\n",
       "    </tr>\n",
       "    <tr>\n",
       "      <th>1</th>\n",
       "      <td>1</td>\n",
       "      <td>1172</td>\n",
       "      <td>4.0</td>\n",
       "      <td>Drama,Romance</td>\n",
       "      <td>11216</td>\n",
       "      <td>95765</td>\n",
       "      <td>it</td>\n",
       "      <td>A filmmaker recalls his childhood, when he fel...</td>\n",
       "      <td>14.177005</td>\n",
       "      <td>Rai Tre Radiotelevisione Italiana</td>\n",
       "      <td>...</td>\n",
       "      <td>Italiano</td>\n",
       "      <td>Released</td>\n",
       "      <td>A celebration of youth, friendship, and the ev...</td>\n",
       "      <td>Cinema Paradiso</td>\n",
       "      <td>False</td>\n",
       "      <td>8.2</td>\n",
       "      <td>834.0</td>\n",
       "      <td>-99</td>\n",
       "      <td>unknown</td>\n",
       "      <td>1988</td>\n",
       "    </tr>\n",
       "    <tr>\n",
       "      <th>2</th>\n",
       "      <td>1</td>\n",
       "      <td>1061</td>\n",
       "      <td>3.0</td>\n",
       "      <td>Crime,Drama,Thriller</td>\n",
       "      <td>819</td>\n",
       "      <td>117665</td>\n",
       "      <td>en</td>\n",
       "      <td>Two gangsters seek revenge on the state jail w...</td>\n",
       "      <td>9.198283</td>\n",
       "      <td>Propaganda Films,Warner Bros.,Baltimore Pictures</td>\n",
       "      <td>...</td>\n",
       "      <td>English</td>\n",
       "      <td>Released</td>\n",
       "      <td>When friendship runs deeper than blood.</td>\n",
       "      <td>Sleepers</td>\n",
       "      <td>False</td>\n",
       "      <td>7.3</td>\n",
       "      <td>729.0</td>\n",
       "      <td>-99</td>\n",
       "      <td>unknown</td>\n",
       "      <td>1996</td>\n",
       "    </tr>\n",
       "    <tr>\n",
       "      <th>3</th>\n",
       "      <td>1</td>\n",
       "      <td>2193</td>\n",
       "      <td>2.0</td>\n",
       "      <td>Adventure,Drama,Action</td>\n",
       "      <td>847</td>\n",
       "      <td>96446</td>\n",
       "      <td>en</td>\n",
       "      <td>Fearful of a prophecy stating that a girl chil...</td>\n",
       "      <td>9.918312</td>\n",
       "      <td>Lucasfilm,Metro-Goldwyn-Mayer (MGM),Imagine Fi...</td>\n",
       "      <td>...</td>\n",
       "      <td>English</td>\n",
       "      <td>Released</td>\n",
       "      <td>Adventure doesn't come any bigger than this.</td>\n",
       "      <td>Willow</td>\n",
       "      <td>False</td>\n",
       "      <td>6.9</td>\n",
       "      <td>484.0</td>\n",
       "      <td>-99</td>\n",
       "      <td>unknown</td>\n",
       "      <td>1988</td>\n",
       "    </tr>\n",
       "    <tr>\n",
       "      <th>4</th>\n",
       "      <td>1</td>\n",
       "      <td>1405</td>\n",
       "      <td>1.0</td>\n",
       "      <td>Animation,Comedy</td>\n",
       "      <td>3179</td>\n",
       "      <td>115641</td>\n",
       "      <td>en</td>\n",
       "      <td>Mike Judge's slacker duo, Beavis and Butt-Head...</td>\n",
       "      <td>8.855685</td>\n",
       "      <td>Paramount Pictures,Geffen Pictures,MTV Films</td>\n",
       "      <td>...</td>\n",
       "      <td>Český,English</td>\n",
       "      <td>Released</td>\n",
       "      <td>Coming to a screen bigger than your TV.</td>\n",
       "      <td>Beavis and Butt-Head Do America</td>\n",
       "      <td>False</td>\n",
       "      <td>6.5</td>\n",
       "      <td>169.0</td>\n",
       "      <td>-99</td>\n",
       "      <td>unknown</td>\n",
       "      <td>1996</td>\n",
       "    </tr>\n",
       "  </tbody>\n",
       "</table>\n",
       "<p>5 rows × 22 columns</p>\n",
       "</div>"
      ],
      "text/plain": [
       "   userId  movieId  rating                  genres  tmdbId  imdb_id  \\\n",
       "0       1     2455     2.5  Horror,Science Fiction    9426    91064   \n",
       "1       1     1172     4.0           Drama,Romance   11216    95765   \n",
       "2       1     1061     3.0    Crime,Drama,Thriller     819   117665   \n",
       "3       1     2193     2.0  Adventure,Drama,Action     847    96446   \n",
       "4       1     1405     1.0        Animation,Comedy    3179   115641   \n",
       "\n",
       "  original_language                                           overview  \\\n",
       "0                en  When Seth Brundle makes a huge scientific and ...   \n",
       "1                it  A filmmaker recalls his childhood, when he fel...   \n",
       "2                en  Two gangsters seek revenge on the state jail w...   \n",
       "3                en  Fearful of a prophecy stating that a girl chil...   \n",
       "4                en  Mike Judge's slacker duo, Beavis and Butt-Head...   \n",
       "\n",
       "   popularity                               production_companies  ...   \\\n",
       "0   13.534589                   SLM Production Group,Brooksfilms  ...    \n",
       "1   14.177005                  Rai Tre Radiotelevisione Italiana  ...    \n",
       "2    9.198283   Propaganda Films,Warner Bros.,Baltimore Pictures  ...    \n",
       "3    9.918312  Lucasfilm,Metro-Goldwyn-Mayer (MGM),Imagine Fi...  ...    \n",
       "4    8.855685       Paramount Pictures,Geffen Pictures,MTV Films  ...    \n",
       "\n",
       "  spoken_languages    status  \\\n",
       "0          English  Released   \n",
       "1         Italiano  Released   \n",
       "2          English  Released   \n",
       "3          English  Released   \n",
       "4    Český,English  Released   \n",
       "\n",
       "                                             tagline  \\\n",
       "0                         Be afraid. Be very afraid.   \n",
       "1  A celebration of youth, friendship, and the ev...   \n",
       "2            When friendship runs deeper than blood.   \n",
       "3       Adventure doesn't come any bigger than this.   \n",
       "4            Coming to a screen bigger than your TV.   \n",
       "\n",
       "                             title  video vote_average  vote_count  \\\n",
       "0                          The Fly  False          7.1      1038.0   \n",
       "1                  Cinema Paradiso  False          8.2       834.0   \n",
       "2                         Sleepers  False          7.3       729.0   \n",
       "3                           Willow  False          6.9       484.0   \n",
       "4  Beavis and Butt-Head Do America  False          6.5       169.0   \n",
       "\n",
       "   collectionId         collectionName  year  \n",
       "0        109609   'The Fly Collection'  1986  \n",
       "1           -99                unknown  1988  \n",
       "2           -99                unknown  1996  \n",
       "3           -99                unknown  1988  \n",
       "4           -99                unknown  1996  \n",
       "\n",
       "[5 rows x 22 columns]"
      ]
     },
     "execution_count": 31,
     "metadata": {},
     "output_type": "execute_result"
    }
   ],
   "source": [
    "test_df.head()"
   ]
  },
  {
   "cell_type": "code",
   "execution_count": 32,
   "metadata": {},
   "outputs": [
    {
     "name": "stdout",
     "output_type": "stream",
     "text": [
      "<class 'pandas.core.frame.DataFrame'>\n",
      "Int64Index: 96494 entries, 0 to 96493\n",
      "Data columns (total 22 columns):\n",
      "userId                  96494 non-null int64\n",
      "movieId                 96494 non-null int64\n",
      "rating                  96494 non-null float64\n",
      "genres                  96494 non-null object\n",
      "tmdbId                  96494 non-null int64\n",
      "imdb_id                 96494 non-null int64\n",
      "original_language       96494 non-null object\n",
      "overview                96494 non-null object\n",
      "popularity              96494 non-null float64\n",
      "production_companies    96494 non-null object\n",
      "production_countries    96494 non-null object\n",
      "runtime                 96494 non-null float64\n",
      "spoken_languages        96494 non-null object\n",
      "status                  96494 non-null object\n",
      "tagline                 96494 non-null object\n",
      "title                   96494 non-null object\n",
      "video                   96494 non-null bool\n",
      "vote_average            96494 non-null float64\n",
      "vote_count              96494 non-null float64\n",
      "collectionId            96494 non-null int64\n",
      "collectionName          96494 non-null object\n",
      "year                    96494 non-null int64\n",
      "dtypes: bool(1), float64(5), int64(6), object(10)\n",
      "memory usage: 16.3+ MB\n"
     ]
    }
   ],
   "source": [
    "train_df.info()"
   ]
  },
  {
   "cell_type": "code",
   "execution_count": 33,
   "metadata": {
    "scrolled": true
   },
   "outputs": [
    {
     "name": "stdout",
     "output_type": "stream",
     "text": [
      "<class 'pandas.core.frame.DataFrame'>\n",
      "Int64Index: 3356 entries, 0 to 3355\n",
      "Data columns (total 22 columns):\n",
      "userId                  3356 non-null int32\n",
      "movieId                 3356 non-null int32\n",
      "rating                  3356 non-null float64\n",
      "genres                  3356 non-null object\n",
      "tmdbId                  3356 non-null int64\n",
      "imdb_id                 3356 non-null int64\n",
      "original_language       3356 non-null object\n",
      "overview                3356 non-null object\n",
      "popularity              3356 non-null float64\n",
      "production_companies    3356 non-null object\n",
      "production_countries    3356 non-null object\n",
      "runtime                 3356 non-null float64\n",
      "spoken_languages        3356 non-null object\n",
      "status                  3356 non-null object\n",
      "tagline                 3356 non-null object\n",
      "title                   3356 non-null object\n",
      "video                   3356 non-null bool\n",
      "vote_average            3356 non-null float64\n",
      "vote_count              3356 non-null float64\n",
      "collectionId            3356 non-null int64\n",
      "collectionName          3356 non-null object\n",
      "year                    3356 non-null int64\n",
      "dtypes: bool(1), float64(5), int32(2), int64(4), object(10)\n",
      "memory usage: 553.9+ KB\n"
     ]
    }
   ],
   "source": [
    "test_df.info()"
   ]
  },
  {
   "cell_type": "code",
   "execution_count": 34,
   "metadata": {},
   "outputs": [],
   "source": [
    "#Exporting and train and test dataset for the users.\n",
    "\n",
    "train_df.to_csv(\"train_df.csv\", index=False)\n",
    "test_df.to_csv(\"test_df.csv\", index=False)\n",
    "\n",
    "# Expoting the unrated movies by the user \n",
    "unrated_movies.to_csv(\"unrated_movies.csv\", index=False)"
   ]
  },
  {
   "cell_type": "code",
   "execution_count": null,
   "metadata": {},
   "outputs": [],
   "source": []
  }
 ],
 "metadata": {
  "kernelspec": {
   "display_name": "Python 3",
   "language": "python",
   "name": "python3"
  },
  "language_info": {
   "codemirror_mode": {
    "name": "ipython",
    "version": 3
   },
   "file_extension": ".py",
   "mimetype": "text/x-python",
   "name": "python",
   "nbconvert_exporter": "python",
   "pygments_lexer": "ipython3",
   "version": "3.7.6"
  }
 },
 "nbformat": 4,
 "nbformat_minor": 4
}
