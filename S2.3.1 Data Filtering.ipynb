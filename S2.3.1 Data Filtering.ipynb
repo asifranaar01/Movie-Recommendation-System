{
 "cells": [
  {
   "cell_type": "markdown",
   "metadata": {},
   "source": [
    "COS80024\n",
    "\n",
    "DATA SCIENCE PROJECT 1\n",
    "\n",
    "PROJECT 4: MOVIE RECOMMENDATION SYSTEM\n",
    "\n",
    "# S2.3.1: Data Filtering (Executor: Promita)\n",
    "\n",
    "This task aims to address data wrangling and data cleaning steps needed.\n",
    "\n",
    "Task Leader: Promita"
   ]
  },
  {
   "cell_type": "markdown",
   "metadata": {},
   "source": [
    "# All necessary modules are being imported."
   ]
  },
  {
   "cell_type": "code",
   "execution_count": 1,
   "metadata": {},
   "outputs": [],
   "source": [
    "#Importing necessary modules\n",
    "\n",
    "import numpy as np\n",
    "import pandas as pd\n",
    "import matplotlib.pyplot as plt\n",
    "import scipy.stats\n",
    "from ast import literal_eval"
   ]
  },
  {
   "cell_type": "markdown",
   "metadata": {},
   "source": [
    "# The required datasets are uploaded as dataframes."
   ]
  },
  {
   "cell_type": "code",
   "execution_count": 2,
   "metadata": {},
   "outputs": [
    {
     "name": "stderr",
     "output_type": "stream",
     "text": [
      "C:\\Users\\Promita\\anaconda3\\lib\\site-packages\\IPython\\core\\interactiveshell.py:3071: DtypeWarning: Columns (10) have mixed types.Specify dtype option on import or set low_memory=False.\n",
      "  has_raised = await self.run_ast_nodes(code_ast.body, cell_name,\n"
     ]
    }
   ],
   "source": [
    "#Loading files\n",
    "\n",
    "#File 1: uploading the file \"movies_metadata\"\n",
    "metadata = pd.read_csv('movies_metadata.csv')\n",
    "\n",
    "#File 2: uploading the file \"datasets_links_small\"\n",
    "links = pd.read_csv('datasets_links_small.csv')\n",
    "\n",
    "#File 3: uploading the file \"ratings_small\"\n",
    "ratings = pd.read_csv('ratings_small.csv')"
   ]
  },
  {
   "cell_type": "markdown",
   "metadata": {},
   "source": [
    "# Attributes that are not required in the project are removed from the dataframes \"metadata\" and \"ratings\"."
   ]
  },
  {
   "cell_type": "code",
   "execution_count": 3,
   "metadata": {},
   "outputs": [
    {
     "name": "stdout",
     "output_type": "stream",
     "text": [
      "Shape\n",
      "(45466, 20)\n",
      "Column Headers\n",
      "belongs_to_collection\n",
      "budget\n",
      "genres\n",
      "id\n",
      "imdb_id\n",
      "original_language\n",
      "overview\n",
      "popularity\n",
      "production_companies\n",
      "production_countries\n",
      "release_date\n",
      "revenue\n",
      "runtime\n",
      "spoken_languages\n",
      "status\n",
      "tagline\n",
      "title\n",
      "video\n",
      "vote_average\n",
      "vote_count\n"
     ]
    }
   ],
   "source": [
    "#Feature removal from \"metadata\"\n",
    "metadata = metadata.drop(['adult','homepage','poster_path','original_title'], axis=1)\n",
    "#Checking to see if all the necessary columns are there\n",
    "print(\"Shape\")\n",
    "print(metadata.shape)\n",
    "print('Column Headers')\n",
    "for col in metadata.columns:\n",
    "    print(col)"
   ]
  },
  {
   "cell_type": "code",
   "execution_count": 4,
   "metadata": {},
   "outputs": [
    {
     "name": "stdout",
     "output_type": "stream",
     "text": [
      "Column Headers\n",
      "belongs_to_collection\n",
      "budget\n",
      "genres\n",
      "tmdbId\n",
      "imdb_id\n",
      "original_language\n",
      "overview\n",
      "popularity\n",
      "production_companies\n",
      "production_countries\n",
      "release_date\n",
      "revenue\n",
      "runtime\n",
      "spoken_languages\n",
      "status\n",
      "tagline\n",
      "title\n",
      "video\n",
      "vote_average\n",
      "vote_count\n"
     ]
    }
   ],
   "source": [
    "metadata = metadata.rename(columns={'id': 'tmdbId'})\n",
    "print('Column Headers')\n",
    "for col in metadata.columns:\n",
    "    print(col)"
   ]
  },
  {
   "cell_type": "code",
   "execution_count": 5,
   "metadata": {},
   "outputs": [
    {
     "name": "stdout",
     "output_type": "stream",
     "text": [
      "Shape\n",
      "(100004, 3)\n",
      "Column Headers\n",
      "userId\n",
      "movieId\n",
      "rating\n"
     ]
    }
   ],
   "source": [
    "#Feature removal from \"ratings\"\n",
    "ratings = ratings.drop(['timestamp'], axis=1)\n",
    "#Checking to see if all the necessary columns are there\n",
    "print(\"Shape\")\n",
    "print(ratings.shape)\n",
    "print('Column Headers')\n",
    "for col in ratings.columns:\n",
    "    print(col)"
   ]
  },
  {
   "cell_type": "code",
   "execution_count": 6,
   "metadata": {},
   "outputs": [],
   "source": [
    "df = ratings.groupby(['userId', 'movieId']).agg({'rating': ['mean']})"
   ]
  },
  {
   "cell_type": "code",
   "execution_count": 7,
   "metadata": {},
   "outputs": [],
   "source": [
    "df.columns = ['mean_rating']\n",
    "df = df.reset_index()"
   ]
  },
  {
   "cell_type": "code",
   "execution_count": 8,
   "metadata": {},
   "outputs": [
    {
     "data": {
      "text/html": [
       "<div>\n",
       "<style scoped>\n",
       "    .dataframe tbody tr th:only-of-type {\n",
       "        vertical-align: middle;\n",
       "    }\n",
       "\n",
       "    .dataframe tbody tr th {\n",
       "        vertical-align: top;\n",
       "    }\n",
       "\n",
       "    .dataframe thead th {\n",
       "        text-align: right;\n",
       "    }\n",
       "</style>\n",
       "<table border=\"1\" class=\"dataframe\">\n",
       "  <thead>\n",
       "    <tr style=\"text-align: right;\">\n",
       "      <th></th>\n",
       "      <th>userId</th>\n",
       "      <th>movieId</th>\n",
       "      <th>mean_rating</th>\n",
       "    </tr>\n",
       "  </thead>\n",
       "  <tbody>\n",
       "    <tr>\n",
       "      <th>9713</th>\n",
       "      <td>68</td>\n",
       "      <td>1</td>\n",
       "      <td>4.0</td>\n",
       "    </tr>\n",
       "    <tr>\n",
       "      <th>35933</th>\n",
       "      <td>261</td>\n",
       "      <td>1</td>\n",
       "      <td>1.5</td>\n",
       "    </tr>\n",
       "    <tr>\n",
       "      <th>52631</th>\n",
       "      <td>383</td>\n",
       "      <td>1</td>\n",
       "      <td>5.0</td>\n",
       "    </tr>\n",
       "    <tr>\n",
       "      <th>35983</th>\n",
       "      <td>262</td>\n",
       "      <td>1</td>\n",
       "      <td>2.5</td>\n",
       "    </tr>\n",
       "    <tr>\n",
       "      <th>12038</th>\n",
       "      <td>77</td>\n",
       "      <td>1</td>\n",
       "      <td>4.0</td>\n",
       "    </tr>\n",
       "    <tr>\n",
       "      <th>...</th>\n",
       "      <td>...</td>\n",
       "      <td>...</td>\n",
       "      <td>...</td>\n",
       "    </tr>\n",
       "    <tr>\n",
       "      <th>39546</th>\n",
       "      <td>287</td>\n",
       "      <td>161944</td>\n",
       "      <td>5.0</td>\n",
       "    </tr>\n",
       "    <tr>\n",
       "      <th>11823</th>\n",
       "      <td>73</td>\n",
       "      <td>162376</td>\n",
       "      <td>4.5</td>\n",
       "    </tr>\n",
       "    <tr>\n",
       "      <th>92339</th>\n",
       "      <td>611</td>\n",
       "      <td>162542</td>\n",
       "      <td>5.0</td>\n",
       "    </tr>\n",
       "    <tr>\n",
       "      <th>92340</th>\n",
       "      <td>611</td>\n",
       "      <td>162672</td>\n",
       "      <td>3.0</td>\n",
       "    </tr>\n",
       "    <tr>\n",
       "      <th>80823</th>\n",
       "      <td>547</td>\n",
       "      <td>163949</td>\n",
       "      <td>5.0</td>\n",
       "    </tr>\n",
       "  </tbody>\n",
       "</table>\n",
       "<p>100004 rows × 3 columns</p>\n",
       "</div>"
      ],
      "text/plain": [
       "       userId  movieId  mean_rating\n",
       "9713       68        1          4.0\n",
       "35933     261        1          1.5\n",
       "52631     383        1          5.0\n",
       "35983     262        1          2.5\n",
       "12038      77        1          4.0\n",
       "...       ...      ...          ...\n",
       "39546     287   161944          5.0\n",
       "11823      73   162376          4.5\n",
       "92339     611   162542          5.0\n",
       "92340     611   162672          3.0\n",
       "80823     547   163949          5.0\n",
       "\n",
       "[100004 rows x 3 columns]"
      ]
     },
     "execution_count": 8,
     "metadata": {},
     "output_type": "execute_result"
    }
   ],
   "source": [
    "df.sort_values(by=['movieId'])"
   ]
  },
  {
   "cell_type": "markdown",
   "metadata": {},
   "source": [
    "Next, attributes in \"metadata\" are cleaned - transforming and removing as necessary. "
   ]
  },
  {
   "cell_type": "markdown",
   "metadata": {},
   "source": [
    "# Changing datatypes"
   ]
  },
  {
   "cell_type": "code",
   "execution_count": 9,
   "metadata": {},
   "outputs": [
    {
     "name": "stdout",
     "output_type": "stream",
     "text": [
      "belongs_to_collection     object\n",
      "budget                   float64\n",
      "genres                    object\n",
      "tmdbId                    object\n",
      "imdb_id                   object\n",
      "original_language         object\n",
      "overview                  object\n",
      "popularity               float64\n",
      "production_companies      object\n",
      "production_countries      object\n",
      "release_date              object\n",
      "revenue                  float64\n",
      "runtime                  float64\n",
      "spoken_languages          object\n",
      "status                    object\n",
      "tagline                   object\n",
      "title                     object\n",
      "video                     object\n",
      "vote_average             float64\n",
      "vote_count               float64\n",
      "dtype: object\n"
     ]
    }
   ],
   "source": [
    "#Function to convert to float manually\n",
    "def to_float(x):\n",
    "    try:\n",
    "        x = float(x)\n",
    "    except:\n",
    "        x = np.nan\n",
    "    return x\n",
    "\n",
    "#Apply the to_float function to all values in the budget and popularity columns\n",
    "metadata['budget'] = metadata['budget'].apply(to_float)\n",
    "metadata['popularity'] = metadata['popularity'].apply(to_float)\n",
    "\n",
    "print(metadata.dtypes)"
   ]
  },
  {
   "cell_type": "markdown",
   "metadata": {},
   "source": [
    "The attributes are cleaned in the following order:\n",
    "\n",
    "1. belongs_to_collection\n",
    "\n",
    "2. budget\n",
    "\n",
    "3. popularity\n",
    "\n",
    "4. revenue\n",
    "\n",
    "5. runtime\n",
    "\n",
    "6. vote_average\n",
    "\n",
    "7. vote_count\n",
    "\n",
    "8. release_date [transformed to year]\n",
    "\n",
    "9. id [tmdbid and imdbid]\n",
    "\n",
    "10. status\n",
    "\n",
    "11. video\n",
    "\n",
    "12. original_language\n",
    "\n",
    "13. overview\n",
    "\n",
    "14. tagline\n",
    "\n",
    "15. title\n",
    "\n",
    "16. spoken_languages\n",
    "\n",
    "17. genres\n",
    "\n",
    "18. production_companies\n",
    "\n",
    "19. production_countries"
   ]
  },
  {
   "cell_type": "markdown",
   "metadata": {},
   "source": [
    "# Attribute: belongs_to_collection"
   ]
  },
  {
   "cell_type": "code",
   "execution_count": 10,
   "metadata": {},
   "outputs": [
    {
     "data": {
      "text/plain": [
       "0    {'id': 10194, 'name': 'Toy Story Collection', ...\n",
       "1                                                  NaN\n",
       "2    {'id': 119050, 'name': 'Grumpy Old Men Collect...\n",
       "3                                                  NaN\n",
       "4    {'id': 96871, 'name': 'Father of the Bride Col...\n",
       "Name: belongs_to_collection, dtype: object"
      ]
     },
     "execution_count": 10,
     "metadata": {},
     "output_type": "execute_result"
    }
   ],
   "source": [
    "df = metadata['belongs_to_collection']\n",
    "df.head()"
   ]
  },
  {
   "cell_type": "code",
   "execution_count": 11,
   "metadata": {},
   "outputs": [],
   "source": [
    "df = df.to_frame()"
   ]
  },
  {
   "cell_type": "code",
   "execution_count": 12,
   "metadata": {},
   "outputs": [],
   "source": [
    "# Removing the second bracket from the dataframe\n",
    "df['belongs_to_collection'] = df['belongs_to_collection'].str.strip('{}')"
   ]
  },
  {
   "cell_type": "code",
   "execution_count": 13,
   "metadata": {},
   "outputs": [],
   "source": [
    "# Splitting the string values \n",
    "temp = df.belongs_to_collection.str.split(':',expand=True)\n",
    "temp[1] = temp[1].str.split(',',expand=True)\n",
    "temp[2] = temp[2].str.split(',',expand=True)"
   ]
  },
  {
   "cell_type": "code",
   "execution_count": 14,
   "metadata": {},
   "outputs": [],
   "source": [
    "# Storing the collecton Id and removing the ',' from the Ids\n",
    "df_collection = pd.DataFrame() \n",
    "df_collection['collectionId']= temp[1]\n",
    "df_collection['collectionName']= temp[2]"
   ]
  },
  {
   "cell_type": "code",
   "execution_count": 15,
   "metadata": {},
   "outputs": [],
   "source": [
    "# Merging the extracted collection ID with the metadata file\n",
    "metadata = metadata.merge(df_collection,left_index=True, right_index=True)\n",
    "# Removing belongs_to_collection\n",
    "metadata = metadata.drop(['belongs_to_collection'], axis=1)"
   ]
  },
  {
   "cell_type": "code",
   "execution_count": 16,
   "metadata": {},
   "outputs": [
    {
     "data": {
      "text/plain": [
       "40975"
      ]
     },
     "execution_count": 16,
     "metadata": {},
     "output_type": "execute_result"
    }
   ],
   "source": [
    "metadata['collectionId'].isnull().sum()"
   ]
  },
  {
   "cell_type": "code",
   "execution_count": 17,
   "metadata": {},
   "outputs": [
    {
     "data": {
      "text/plain": [
       "40975"
      ]
     },
     "execution_count": 17,
     "metadata": {},
     "output_type": "execute_result"
    }
   ],
   "source": [
    "metadata['collectionName'].isnull().sum()"
   ]
  },
  {
   "cell_type": "code",
   "execution_count": 18,
   "metadata": {},
   "outputs": [],
   "source": [
    "# Missing values set to \"-99\"\n",
    "metadata.loc[:,'collectionId'].fillna('-99',inplace=True)"
   ]
  },
  {
   "cell_type": "code",
   "execution_count": 19,
   "metadata": {},
   "outputs": [],
   "source": [
    "# Missing values set to \"unknown\"\n",
    "metadata.loc[:,'collectionName'].fillna('unknown',inplace=True)"
   ]
  },
  {
   "cell_type": "code",
   "execution_count": 20,
   "metadata": {},
   "outputs": [
    {
     "data": {
      "text/plain": [
       "0"
      ]
     },
     "execution_count": 20,
     "metadata": {},
     "output_type": "execute_result"
    }
   ],
   "source": [
    "metadata['collectionId'].isnull().sum()"
   ]
  },
  {
   "cell_type": "code",
   "execution_count": 21,
   "metadata": {},
   "outputs": [
    {
     "data": {
      "text/plain": [
       "0"
      ]
     },
     "execution_count": 21,
     "metadata": {},
     "output_type": "execute_result"
    }
   ],
   "source": [
    "metadata['collectionName'].isnull().sum()"
   ]
  },
  {
   "cell_type": "markdown",
   "metadata": {},
   "source": [
    "# Attribute: budget"
   ]
  },
  {
   "cell_type": "code",
   "execution_count": 22,
   "metadata": {},
   "outputs": [
    {
     "data": {
      "image/png": "[encoded data removed]",
      "text/plain": [
       "<Figure size 432x288 with 1 Axes>"
      ]
     },
     "metadata": {
      "needs_background": "light"
     },
     "output_type": "display_data"
    },
    {
     "name": "stdout",
     "output_type": "stream",
     "text": [
      "3\n"
     ]
    }
   ],
   "source": [
    "#Before cleaning\n",
    "metadata.loc[:,'budget'].hist(bins=50)\n",
    "plt.show()\n",
    "print(metadata.budget.isnull().sum())"
   ]
  },
  {
   "cell_type": "code",
   "execution_count": 23,
   "metadata": {},
   "outputs": [
    {
     "data": {
      "text/plain": [
       "count    4.546300e+04\n",
       "mean     4.224579e+06\n",
       "std      1.742413e+07\n",
       "min      0.000000e+00\n",
       "25%      0.000000e+00\n",
       "50%      0.000000e+00\n",
       "75%      0.000000e+00\n",
       "max      3.800000e+08\n",
       "Name: budget, dtype: float64"
      ]
     },
     "execution_count": 23,
     "metadata": {},
     "output_type": "execute_result"
    }
   ],
   "source": [
    "metadata.budget.describe()"
   ]
  },
  {
   "cell_type": "code",
   "execution_count": 24,
   "metadata": {},
   "outputs": [
    {
     "data": {
      "text/plain": [
       "0.0           36573\n",
       "5000000.0       286\n",
       "10000000.0      259\n",
       "20000000.0      243\n",
       "2000000.0       242\n",
       "              ...  \n",
       "4490331.0         1\n",
       "313411.0          1\n",
       "1020000.0         1\n",
       "37.0              1\n",
       "9500.0            1\n",
       "Name: budget, Length: 1223, dtype: int64"
      ]
     },
     "execution_count": 24,
     "metadata": {},
     "output_type": "execute_result"
    }
   ],
   "source": [
    "metadata.budget.value_counts()"
   ]
  },
  {
   "cell_type": "markdown",
   "metadata": {},
   "source": [
    "This attribute has too many values (80%) that are 0 (impossible value). Hence, budget will be removed as a feature. "
   ]
  },
  {
   "cell_type": "code",
   "execution_count": 25,
   "metadata": {},
   "outputs": [
    {
     "name": "stdout",
     "output_type": "stream",
     "text": [
      "Shape\n",
      "(45466, 20)\n",
      "Column Headers\n",
      "genres\n",
      "tmdbId\n",
      "imdb_id\n",
      "original_language\n",
      "overview\n",
      "popularity\n",
      "production_companies\n",
      "production_countries\n",
      "release_date\n",
      "revenue\n",
      "runtime\n",
      "spoken_languages\n",
      "status\n",
      "tagline\n",
      "title\n",
      "video\n",
      "vote_average\n",
      "vote_count\n",
      "collectionId\n",
      "collectionName\n"
     ]
    }
   ],
   "source": [
    "#Feature removal from \"metadata\"\n",
    "metadata = metadata.drop(['budget'], axis=1)\n",
    "#Checking to see if all the necessary columns are there\n",
    "print(\"Shape\")\n",
    "print(metadata.shape)\n",
    "print('Column Headers')\n",
    "for col in metadata.columns:\n",
    "    print(col)"
   ]
  },
  {
   "cell_type": "markdown",
   "metadata": {},
   "source": [
    "# Attribute: popularity"
   ]
  },
  {
   "cell_type": "code",
   "execution_count": 26,
   "metadata": {},
   "outputs": [
    {
     "data": {
      "image/png": "[encoded data removed]",
      "text/plain": [
       "<Figure size 432x288 with 1 Axes>"
      ]
     },
     "metadata": {
      "needs_background": "light"
     },
     "output_type": "display_data"
    },
    {
     "data": {
      "text/plain": [
       "6"
      ]
     },
     "execution_count": 26,
     "metadata": {},
     "output_type": "execute_result"
    }
   ],
   "source": [
    "#Before cleaning\n",
    "metadata.loc[:,'popularity'].hist(bins=50)\n",
    "plt.show()\n",
    "metadata.popularity.isnull().sum()"
   ]
  },
  {
   "cell_type": "code",
   "execution_count": 27,
   "metadata": {},
   "outputs": [
    {
     "data": {
      "text/plain": [
       "count    45460.000000\n",
       "mean         2.921478\n",
       "std          6.005414\n",
       "min          0.000000\n",
       "25%          0.385948\n",
       "50%          1.127685\n",
       "75%          3.678902\n",
       "max        547.488298\n",
       "Name: popularity, dtype: float64"
      ]
     },
     "execution_count": 27,
     "metadata": {},
     "output_type": "execute_result"
    }
   ],
   "source": [
    "metadata.popularity.describe()"
   ]
  },
  {
   "cell_type": "code",
   "execution_count": 28,
   "metadata": {},
   "outputs": [
    {
     "data": {
      "text/html": [
       "<div>\n",
       "<style scoped>\n",
       "    .dataframe tbody tr th:only-of-type {\n",
       "        vertical-align: middle;\n",
       "    }\n",
       "\n",
       "    .dataframe tbody tr th {\n",
       "        vertical-align: top;\n",
       "    }\n",
       "\n",
       "    .dataframe thead th {\n",
       "        text-align: right;\n",
       "    }\n",
       "</style>\n",
       "<table border=\"1\" class=\"dataframe\">\n",
       "  <thead>\n",
       "    <tr style=\"text-align: right;\">\n",
       "      <th></th>\n",
       "      <th>genres</th>\n",
       "      <th>tmdbId</th>\n",
       "      <th>imdb_id</th>\n",
       "      <th>original_language</th>\n",
       "      <th>overview</th>\n",
       "      <th>popularity</th>\n",
       "      <th>production_companies</th>\n",
       "      <th>production_countries</th>\n",
       "      <th>release_date</th>\n",
       "      <th>revenue</th>\n",
       "      <th>runtime</th>\n",
       "      <th>spoken_languages</th>\n",
       "      <th>status</th>\n",
       "      <th>tagline</th>\n",
       "      <th>title</th>\n",
       "      <th>video</th>\n",
       "      <th>vote_average</th>\n",
       "      <th>vote_count</th>\n",
       "      <th>collectionId</th>\n",
       "      <th>collectionName</th>\n",
       "    </tr>\n",
       "  </thead>\n",
       "  <tbody>\n",
       "    <tr>\n",
       "      <th>30700</th>\n",
       "      <td>[{'id': 10751, 'name': 'Family'}, {'id': 16, '...</td>\n",
       "      <td>211672</td>\n",
       "      <td>tt2293640</td>\n",
       "      <td>en</td>\n",
       "      <td>Minions Stuart, Kevin and Bob are recruited by...</td>\n",
       "      <td>547.488298</td>\n",
       "      <td>[{'name': 'Universal Pictures', 'id': 33}, {'n...</td>\n",
       "      <td>[{'iso_3166_1': 'US', 'name': 'United States o...</td>\n",
       "      <td>2015-06-17</td>\n",
       "      <td>1.156731e+09</td>\n",
       "      <td>91.0</td>\n",
       "      <td>[{'iso_639_1': 'en', 'name': 'English'}]</td>\n",
       "      <td>Released</td>\n",
       "      <td>Before Gru, they had a history of bad bosses</td>\n",
       "      <td>Minions</td>\n",
       "      <td>False</td>\n",
       "      <td>6.4</td>\n",
       "      <td>4729.0</td>\n",
       "      <td>86066</td>\n",
       "      <td>'Despicable Me Collection'</td>\n",
       "    </tr>\n",
       "  </tbody>\n",
       "</table>\n",
       "</div>"
      ],
      "text/plain": [
       "                                                  genres  tmdbId    imdb_id  \\\n",
       "30700  [{'id': 10751, 'name': 'Family'}, {'id': 16, '...  211672  tt2293640   \n",
       "\n",
       "      original_language                                           overview  \\\n",
       "30700                en  Minions Stuart, Kevin and Bob are recruited by...   \n",
       "\n",
       "       popularity                               production_companies  \\\n",
       "30700  547.488298  [{'name': 'Universal Pictures', 'id': 33}, {'n...   \n",
       "\n",
       "                                    production_countries release_date  \\\n",
       "30700  [{'iso_3166_1': 'US', 'name': 'United States o...   2015-06-17   \n",
       "\n",
       "            revenue  runtime                          spoken_languages  \\\n",
       "30700  1.156731e+09     91.0  [{'iso_639_1': 'en', 'name': 'English'}]   \n",
       "\n",
       "         status                                       tagline    title  video  \\\n",
       "30700  Released  Before Gru, they had a history of bad bosses  Minions  False   \n",
       "\n",
       "       vote_average  vote_count collectionId               collectionName  \n",
       "30700           6.4      4729.0        86066   'Despicable Me Collection'  "
      ]
     },
     "execution_count": 28,
     "metadata": {},
     "output_type": "execute_result"
    }
   ],
   "source": [
    "#Checking for outliers\n",
    "pop_filter = metadata.popularity>500\n",
    "metadata[pop_filter]"
   ]
  },
  {
   "cell_type": "code",
   "execution_count": 29,
   "metadata": {},
   "outputs": [
    {
     "data": {
      "image/png": "[encoded data removed]",
      "text/plain": [
       "<Figure size 432x288 with 1 Axes>"
      ]
     },
     "metadata": {
      "needs_background": "light"
     },
     "output_type": "display_data"
    },
    {
     "data": {
      "text/plain": [
       "0"
      ]
     },
     "execution_count": 29,
     "metadata": {},
     "output_type": "execute_result"
    }
   ],
   "source": [
    "#After cleaning\n",
    "metadata.loc[:,'popularity'].fillna(metadata.loc[:,'popularity'].mean(),inplace=True)\n",
    "metadata.loc[:,'popularity'].hist(bins=50)\n",
    "plt.show()\n",
    "metadata.popularity.isnull().sum()"
   ]
  },
  {
   "cell_type": "markdown",
   "metadata": {},
   "source": [
    "# Attribute: revenue"
   ]
  },
  {
   "cell_type": "code",
   "execution_count": 30,
   "metadata": {},
   "outputs": [
    {
     "data": {
      "image/png": "[encoded data removed]",
      "text/plain": [
       "<Figure size 432x288 with 1 Axes>"
      ]
     },
     "metadata": {
      "needs_background": "light"
     },
     "output_type": "display_data"
    },
    {
     "data": {
      "text/plain": [
       "6"
      ]
     },
     "execution_count": 30,
     "metadata": {},
     "output_type": "execute_result"
    }
   ],
   "source": [
    "#Before cleaning\n",
    "metadata.loc[:,'revenue'].hist(bins=50)\n",
    "plt.show()\n",
    "metadata.revenue.isnull().sum()"
   ]
  },
  {
   "cell_type": "code",
   "execution_count": 31,
   "metadata": {},
   "outputs": [
    {
     "data": {
      "text/plain": [
       "count    4.546000e+04\n",
       "mean     1.120935e+07\n",
       "std      6.433225e+07\n",
       "min      0.000000e+00\n",
       "25%      0.000000e+00\n",
       "50%      0.000000e+00\n",
       "75%      0.000000e+00\n",
       "max      2.787965e+09\n",
       "Name: revenue, dtype: float64"
      ]
     },
     "execution_count": 31,
     "metadata": {},
     "output_type": "execute_result"
    }
   ],
   "source": [
    "metadata.revenue.describe()"
   ]
  },
  {
   "cell_type": "code",
   "execution_count": 32,
   "metadata": {},
   "outputs": [
    {
     "data": {
      "text/plain": [
       "0.0            38052\n",
       "12000000.0        20\n",
       "10000000.0        19\n",
       "11000000.0        19\n",
       "2000000.0         18\n",
       "               ...  \n",
       "245724603.0        1\n",
       "12212123.0         1\n",
       "8203235.0          1\n",
       "25900.0            1\n",
       "12032983.0         1\n",
       "Name: revenue, Length: 6863, dtype: int64"
      ]
     },
     "execution_count": 32,
     "metadata": {},
     "output_type": "execute_result"
    }
   ],
   "source": [
    "metadata.revenue.value_counts()"
   ]
  },
  {
   "cell_type": "markdown",
   "metadata": {},
   "source": [
    "This attribute has too many values (84%) that are 0 (impossible value). Hence, revenue will be removed as a feature. "
   ]
  },
  {
   "cell_type": "code",
   "execution_count": 33,
   "metadata": {},
   "outputs": [
    {
     "name": "stdout",
     "output_type": "stream",
     "text": [
      "Shape\n",
      "(45466, 19)\n",
      "Column Headers\n",
      "genres\n",
      "tmdbId\n",
      "imdb_id\n",
      "original_language\n",
      "overview\n",
      "popularity\n",
      "production_companies\n",
      "production_countries\n",
      "release_date\n",
      "runtime\n",
      "spoken_languages\n",
      "status\n",
      "tagline\n",
      "title\n",
      "video\n",
      "vote_average\n",
      "vote_count\n",
      "collectionId\n",
      "collectionName\n"
     ]
    }
   ],
   "source": [
    "#Feature removal from \"metadata\"\n",
    "metadata = metadata.drop(['revenue'], axis=1)\n",
    "#Checking to see if all the necessary columns are there\n",
    "print(\"Shape\")\n",
    "print(metadata.shape)\n",
    "print('Column Headers')\n",
    "for col in metadata.columns:\n",
    "    print(col)"
   ]
  },
  {
   "cell_type": "markdown",
   "metadata": {},
   "source": [
    "# Attribute: runtime"
   ]
  },
  {
   "cell_type": "code",
   "execution_count": 34,
   "metadata": {},
   "outputs": [
    {
     "data": {
      "image/png": "[encoded data removed]",
      "text/plain": [
       "<Figure size 432x288 with 1 Axes>"
      ]
     },
     "metadata": {
      "needs_background": "light"
     },
     "output_type": "display_data"
    },
    {
     "data": {
      "text/plain": [
       "263"
      ]
     },
     "execution_count": 34,
     "metadata": {},
     "output_type": "execute_result"
    }
   ],
   "source": [
    "#Before cleaning\n",
    "metadata.loc[:,'runtime'].hist(bins=50)\n",
    "plt.show()\n",
    "metadata.runtime.isnull().sum()"
   ]
  },
  {
   "cell_type": "code",
   "execution_count": 35,
   "metadata": {},
   "outputs": [
    {
     "data": {
      "image/png": "[encoded data removed]",
      "text/plain": [
       "<Figure size 432x288 with 1 Axes>"
      ]
     },
     "metadata": {
      "needs_background": "light"
     },
     "output_type": "display_data"
    },
    {
     "data": {
      "text/plain": [
       "0"
      ]
     },
     "execution_count": 35,
     "metadata": {},
     "output_type": "execute_result"
    }
   ],
   "source": [
    "#After cleaning\n",
    "metadata.loc[:,'runtime'].fillna(metadata.loc[:,'runtime'].mean(),inplace=True)\n",
    "metadata.loc[:,'runtime'].hist(bins=50)\n",
    "plt.show()\n",
    "metadata.runtime.isnull().sum()"
   ]
  },
  {
   "cell_type": "markdown",
   "metadata": {},
   "source": [
    "# Attribute: vote_average"
   ]
  },
  {
   "cell_type": "code",
   "execution_count": 36,
   "metadata": {},
   "outputs": [
    {
     "data": {
      "image/png": "[encoded data removed]",
      "text/plain": [
       "<Figure size 432x288 with 1 Axes>"
      ]
     },
     "metadata": {
      "needs_background": "light"
     },
     "output_type": "display_data"
    },
    {
     "data": {
      "text/plain": [
       "6"
      ]
     },
     "execution_count": 36,
     "metadata": {},
     "output_type": "execute_result"
    }
   ],
   "source": [
    "#Before Cleaning\n",
    "metadata.loc[:,'vote_average'].hist(bins=50)\n",
    "plt.show()\n",
    "metadata.vote_average.isnull().sum()"
   ]
  },
  {
   "cell_type": "code",
   "execution_count": 37,
   "metadata": {},
   "outputs": [
    {
     "data": {
      "image/png": "[encoded data removed]",
      "text/plain": [
       "<Figure size 432x288 with 1 Axes>"
      ]
     },
     "metadata": {
      "needs_background": "light"
     },
     "output_type": "display_data"
    },
    {
     "data": {
      "text/plain": [
       "0"
      ]
     },
     "execution_count": 37,
     "metadata": {},
     "output_type": "execute_result"
    }
   ],
   "source": [
    "#After Cleaning\n",
    "metadata.loc[:,'vote_average'].fillna(metadata.loc[:,'vote_average'].mean(),inplace=True)\n",
    "metadata.loc[:,'vote_average'].hist(bins=50)\n",
    "plt.show()\n",
    "metadata.vote_average.isnull().sum()"
   ]
  },
  {
   "cell_type": "markdown",
   "metadata": {},
   "source": [
    "# Attribute: vote_count"
   ]
  },
  {
   "cell_type": "code",
   "execution_count": 38,
   "metadata": {},
   "outputs": [
    {
     "data": {
      "image/png": "[encoded data removed]",
      "text/plain": [
       "<Figure size 432x288 with 1 Axes>"
      ]
     },
     "metadata": {
      "needs_background": "light"
     },
     "output_type": "display_data"
    },
    {
     "data": {
      "text/plain": [
       "6"
      ]
     },
     "execution_count": 38,
     "metadata": {},
     "output_type": "execute_result"
    }
   ],
   "source": [
    "#Before cleaning\n",
    "metadata.loc[:,'vote_count'].hist(bins=50)\n",
    "plt.show()\n",
    "metadata.vote_count.isnull().sum()"
   ]
  },
  {
   "cell_type": "code",
   "execution_count": 39,
   "metadata": {},
   "outputs": [
    {
     "data": {
      "text/plain": [
       "count    45460.000000\n",
       "mean       109.897338\n",
       "std        491.310374\n",
       "min          0.000000\n",
       "25%          3.000000\n",
       "50%         10.000000\n",
       "75%         34.000000\n",
       "max      14075.000000\n",
       "Name: vote_count, dtype: float64"
      ]
     },
     "execution_count": 39,
     "metadata": {},
     "output_type": "execute_result"
    }
   ],
   "source": [
    "metadata.vote_count.describe()"
   ]
  },
  {
   "cell_type": "code",
   "execution_count": 40,
   "metadata": {},
   "outputs": [
    {
     "data": {
      "text/plain": [
       "1.0       3264\n",
       "2.0       3132\n",
       "0.0       2899\n",
       "3.0       2787\n",
       "4.0       2480\n",
       "          ... \n",
       "4461.0       1\n",
       "1085.0       1\n",
       "1539.0       1\n",
       "2487.0       1\n",
       "3086.0       1\n",
       "Name: vote_count, Length: 1820, dtype: int64"
      ]
     },
     "execution_count": 40,
     "metadata": {},
     "output_type": "execute_result"
    }
   ],
   "source": [
    "metadata.vote_count.value_counts()"
   ]
  },
  {
   "cell_type": "code",
   "execution_count": 41,
   "metadata": {},
   "outputs": [
    {
     "data": {
      "image/png": "[encoded data removed]",
      "text/plain": [
       "<Figure size 432x288 with 1 Axes>"
      ]
     },
     "metadata": {
      "needs_background": "light"
     },
     "output_type": "display_data"
    },
    {
     "data": {
      "text/plain": [
       "0"
      ]
     },
     "execution_count": 41,
     "metadata": {},
     "output_type": "execute_result"
    }
   ],
   "source": [
    "#After cleaning\n",
    "metadata.loc[:,'vote_count'].fillna(metadata.loc[:,'vote_count'].mean(),inplace=True)\n",
    "metadata.loc[:,'vote_count'].hist(bins=50)\n",
    "plt.show()\n",
    "metadata.vote_count.isnull().sum()"
   ]
  },
  {
   "cell_type": "markdown",
   "metadata": {},
   "source": [
    "# Attribute : release_date"
   ]
  },
  {
   "cell_type": "code",
   "execution_count": 42,
   "metadata": {},
   "outputs": [
    {
     "name": "stdout",
     "output_type": "stream",
     "text": [
      "object\n",
      "datetime64[ns]\n"
     ]
    }
   ],
   "source": [
    "print (metadata['release_date'].dtype)\n",
    "metadata['release_date'] = pd.to_datetime(metadata['release_date'],errors='coerce')\n",
    "print (metadata['release_date'].dtype)\n",
    "metadata['year'] = metadata['release_date'].apply(lambda x: str(x).split('-') [0] if x != np.nan else np.nan)\n",
    "metadata['year'].head()\n",
    "metadata.year.isnull().sum()\n",
    "metadata = metadata.drop('release_date', axis=1)"
   ]
  },
  {
   "cell_type": "markdown",
   "metadata": {},
   "source": [
    "# Attribute : id(tmdbId) & imdb_id"
   ]
  },
  {
   "cell_type": "code",
   "execution_count": 43,
   "metadata": {},
   "outputs": [
    {
     "name": "stdout",
     "output_type": "stream",
     "text": [
      "0    tt0114709\n",
      "1    tt0113497\n",
      "2    tt0113228\n",
      "3    tt0114885\n",
      "4    tt0113041\n",
      "Name: imdb_id, dtype: object\n"
     ]
    }
   ],
   "source": [
    "#Before cleaning\n",
    "print(metadata['imdb_id'].head(5))"
   ]
  },
  {
   "cell_type": "code",
   "execution_count": 44,
   "metadata": {},
   "outputs": [
    {
     "name": "stdout",
     "output_type": "stream",
     "text": [
      "0    114709\n",
      "1    113497\n",
      "2    113228\n",
      "3    114885\n",
      "4    113041\n",
      "Name: imdb_id, dtype: object\n"
     ]
    }
   ],
   "source": [
    "#After Cleaning\n",
    "metadata['imdb_id'] = metadata['imdb_id'].str[3:]\n",
    "print(metadata['imdb_id'].head(5))"
   ]
  },
  {
   "cell_type": "code",
   "execution_count": 45,
   "metadata": {},
   "outputs": [
    {
     "data": {
      "text/plain": [
       "0"
      ]
     },
     "execution_count": 45,
     "metadata": {},
     "output_type": "execute_result"
    }
   ],
   "source": [
    "metadata.tmdbId.isnull().sum()"
   ]
  },
  {
   "cell_type": "code",
   "execution_count": 46,
   "metadata": {},
   "outputs": [
    {
     "data": {
      "text/plain": [
       "17"
      ]
     },
     "execution_count": 46,
     "metadata": {},
     "output_type": "execute_result"
    }
   ],
   "source": [
    "metadata.imdb_id.isnull().sum()"
   ]
  },
  {
   "cell_type": "code",
   "execution_count": 47,
   "metadata": {},
   "outputs": [],
   "source": [
    "# Missing IDs set to 0\n",
    "metadata[\"imdb_id\"] = metadata[\"imdb_id\"].fillna(0)"
   ]
  },
  {
   "cell_type": "code",
   "execution_count": 48,
   "metadata": {},
   "outputs": [],
   "source": [
    "tmdbID_of_missing_imdbID = metadata.loc[metadata['imdb_id'] == 0, 'tmdbId']"
   ]
  },
  {
   "cell_type": "code",
   "execution_count": 49,
   "metadata": {},
   "outputs": [
    {
     "data": {
      "text/plain": [
       "8966      36337\n",
       "13757    200796\n",
       "13821     75015\n",
       "17382     36663\n",
       "17510     47116\n",
       "18959     28500\n",
       "19322    118013\n",
       "20806     15257\n",
       "20937     55576\n",
       "21916    293412\n",
       "22987     45514\n",
       "23744     30146\n",
       "33753    324017\n",
       "36955    161535\n",
       "40809     65256\n",
       "41832    430514\n",
       "45070    439314\n",
       "Name: tmdbId, dtype: object"
      ]
     },
     "execution_count": 49,
     "metadata": {},
     "output_type": "execute_result"
    }
   ],
   "source": [
    "tmdbID_of_missing_imdbID"
   ]
  },
  {
   "cell_type": "code",
   "execution_count": 50,
   "metadata": {},
   "outputs": [
    {
     "data": {
      "text/plain": [
       "13"
      ]
     },
     "execution_count": 50,
     "metadata": {},
     "output_type": "execute_result"
    }
   ],
   "source": [
    "links.tmdbId.isnull().sum()"
   ]
  },
  {
   "cell_type": "code",
   "execution_count": 51,
   "metadata": {},
   "outputs": [
    {
     "data": {
      "text/plain": [
       "0"
      ]
     },
     "execution_count": 51,
     "metadata": {},
     "output_type": "execute_result"
    }
   ],
   "source": [
    "links.imdbId.isnull().sum()"
   ]
  },
  {
   "cell_type": "code",
   "execution_count": 52,
   "metadata": {},
   "outputs": [
    {
     "name": "stdout",
     "output_type": "stream",
     "text": [
      "Series([], Name: imdbId, dtype: int64)\n",
      "Series([], Name: imdbId, dtype: int64)\n",
      "Series([], Name: imdbId, dtype: int64)\n",
      "Series([], Name: imdbId, dtype: int64)\n",
      "Series([], Name: imdbId, dtype: int64)\n",
      "Series([], Name: imdbId, dtype: int64)\n",
      "Series([], Name: imdbId, dtype: int64)\n",
      "Series([], Name: imdbId, dtype: int64)\n",
      "Series([], Name: imdbId, dtype: int64)\n",
      "Series([], Name: imdbId, dtype: int64)\n",
      "Series([], Name: imdbId, dtype: int64)\n",
      "Series([], Name: imdbId, dtype: int64)\n",
      "Series([], Name: imdbId, dtype: int64)\n",
      "Series([], Name: imdbId, dtype: int64)\n",
      "Series([], Name: imdbId, dtype: int64)\n",
      "Series([], Name: imdbId, dtype: int64)\n",
      "Series([], Name: imdbId, dtype: int64)\n"
     ]
    },
    {
     "name": "stderr",
     "output_type": "stream",
     "text": [
      "C:\\Users\\Promita\\anaconda3\\lib\\site-packages\\pandas\\core\\ops\\array_ops.py:253: FutureWarning: elementwise comparison failed; returning scalar instead, but in the future will perform elementwise comparison\n",
      "  res_values = method(rvalues)\n"
     ]
    }
   ],
   "source": [
    "for x in tmdbID_of_missing_imdbID:\n",
    "    print (links.loc[links['tmdbId'] == x, 'imdbId'])"
   ]
  },
  {
   "cell_type": "code",
   "execution_count": 53,
   "metadata": {},
   "outputs": [
    {
     "data": {
      "text/plain": [
       "(45466, 19)"
      ]
     },
     "execution_count": 53,
     "metadata": {},
     "output_type": "execute_result"
    }
   ],
   "source": [
    "metadata.shape"
   ]
  },
  {
   "cell_type": "code",
   "execution_count": 54,
   "metadata": {},
   "outputs": [
    {
     "data": {
      "text/plain": [
       "(9125, 3)"
      ]
     },
     "execution_count": 54,
     "metadata": {},
     "output_type": "execute_result"
    }
   ],
   "source": [
    "links.shape"
   ]
  },
  {
   "cell_type": "markdown",
   "metadata": {},
   "source": [
    "links file size is small and has no entry for the missing values of imdb_id in metadata."
   ]
  },
  {
   "cell_type": "markdown",
   "metadata": {},
   "source": [
    "# Attribute : status"
   ]
  },
  {
   "cell_type": "code",
   "execution_count": 55,
   "metadata": {},
   "outputs": [
    {
     "data": {
      "image/png": "[encoded data removed]",
      "text/plain": [
       "<Figure size 432x288 with 1 Axes>"
      ]
     },
     "metadata": {
      "needs_background": "light"
     },
     "output_type": "display_data"
    },
    {
     "data": {
      "text/plain": [
       "87"
      ]
     },
     "execution_count": 55,
     "metadata": {},
     "output_type": "execute_result"
    }
   ],
   "source": [
    "#Before cleaning\n",
    "metadata.loc[:,'status'].hist(bins=50)\n",
    "plt.show()\n",
    "metadata.status.isnull().sum()"
   ]
  },
  {
   "cell_type": "code",
   "execution_count": 56,
   "metadata": {},
   "outputs": [
    {
     "data": {
      "image/png": "[encoded data removed]",
      "text/plain": [
       "<Figure size 432x288 with 1 Axes>"
      ]
     },
     "metadata": {
      "needs_background": "light"
     },
     "output_type": "display_data"
    },
    {
     "data": {
      "text/plain": [
       "0"
      ]
     },
     "execution_count": 56,
     "metadata": {},
     "output_type": "execute_result"
    }
   ],
   "source": [
    "#After cleaning\n",
    "metadata.loc[:,'status'].fillna('Released',inplace=True)\n",
    "metadata.loc[:,'status'].hist(bins=50)\n",
    "plt.show()\n",
    "metadata.status.isnull().sum()"
   ]
  },
  {
   "cell_type": "markdown",
   "metadata": {},
   "source": [
    "# Attribute : video"
   ]
  },
  {
   "cell_type": "code",
   "execution_count": 57,
   "metadata": {},
   "outputs": [
    {
     "data": {
      "image/png": "[encoded data removed]",
      "text/plain": [
       "<Figure size 432x288 with 1 Axes>"
      ]
     },
     "metadata": {
      "needs_background": "light"
     },
     "output_type": "display_data"
    },
    {
     "data": {
      "text/plain": [
       "6"
      ]
     },
     "execution_count": 57,
     "metadata": {},
     "output_type": "execute_result"
    }
   ],
   "source": [
    "#Before cleaning\n",
    "metadata['video'].value_counts().plot(kind='bar')\n",
    "plt.show()\n",
    "metadata.video.isnull().sum()"
   ]
  },
  {
   "cell_type": "code",
   "execution_count": 58,
   "metadata": {},
   "outputs": [
    {
     "data": {
      "image/png": "[encoded data removed]",
      "text/plain": [
       "<Figure size 432x288 with 1 Axes>"
      ]
     },
     "metadata": {
      "needs_background": "light"
     },
     "output_type": "display_data"
    },
    {
     "data": {
      "text/plain": [
       "0"
      ]
     },
     "execution_count": 58,
     "metadata": {},
     "output_type": "execute_result"
    }
   ],
   "source": [
    "#After cleaning\n",
    "metadata.loc[:,'video'].fillna(False,inplace=True)\n",
    "metadata['video'].value_counts().plot(kind='bar')\n",
    "plt.show()\n",
    "metadata.video.isnull().sum()"
   ]
  },
  {
   "cell_type": "markdown",
   "metadata": {},
   "source": [
    "# Attribute: original_language"
   ]
  },
  {
   "cell_type": "code",
   "execution_count": 59,
   "metadata": {},
   "outputs": [
    {
     "data": {
      "text/plain": [
       "11"
      ]
     },
     "execution_count": 59,
     "metadata": {},
     "output_type": "execute_result"
    }
   ],
   "source": [
    "metadata['original_language'].isnull().sum()"
   ]
  },
  {
   "cell_type": "code",
   "execution_count": 60,
   "metadata": {},
   "outputs": [
    {
     "data": {
      "text/plain": [
       "en       32269\n",
       "fr        2438\n",
       "it        1529\n",
       "ja        1350\n",
       "de        1080\n",
       "         ...  \n",
       "104.0        1\n",
       "qu           1\n",
       "eo           1\n",
       "82.0         1\n",
       "zu           1\n",
       "Name: original_language, Length: 92, dtype: int64"
      ]
     },
     "execution_count": 60,
     "metadata": {},
     "output_type": "execute_result"
    }
   ],
   "source": [
    "metadata['original_language'].value_counts()"
   ]
  },
  {
   "cell_type": "code",
   "execution_count": 61,
   "metadata": {},
   "outputs": [],
   "source": [
    "metadata['original_language'].fillna('en',inplace=True)"
   ]
  },
  {
   "cell_type": "code",
   "execution_count": 62,
   "metadata": {},
   "outputs": [
    {
     "data": {
      "text/plain": [
       "0"
      ]
     },
     "execution_count": 62,
     "metadata": {},
     "output_type": "execute_result"
    }
   ],
   "source": [
    "metadata['original_language'].isnull().sum()"
   ]
  },
  {
   "cell_type": "markdown",
   "metadata": {},
   "source": [
    "# Attribute: overview"
   ]
  },
  {
   "cell_type": "code",
   "execution_count": 63,
   "metadata": {},
   "outputs": [
    {
     "data": {
      "text/plain": [
       "954"
      ]
     },
     "execution_count": 63,
     "metadata": {},
     "output_type": "execute_result"
    }
   ],
   "source": [
    "metadata['overview'].isnull().sum()"
   ]
  },
  {
   "cell_type": "code",
   "execution_count": 64,
   "metadata": {},
   "outputs": [
    {
     "data": {
      "text/plain": [
       "44307"
      ]
     },
     "execution_count": 64,
     "metadata": {},
     "output_type": "execute_result"
    }
   ],
   "source": [
    "metadata['overview'].nunique()"
   ]
  },
  {
   "cell_type": "code",
   "execution_count": 65,
   "metadata": {},
   "outputs": [
    {
     "data": {
      "text/plain": [
       "0"
      ]
     },
     "execution_count": 65,
     "metadata": {},
     "output_type": "execute_result"
    }
   ],
   "source": [
    "# Missing values set to \"unknown\"\n",
    "metadata.loc[:,'overview'].fillna(\"unknown\",inplace=True)\n",
    "metadata['overview'].isnull().sum()"
   ]
  },
  {
   "cell_type": "markdown",
   "metadata": {},
   "source": [
    "# Attribute: tagline"
   ]
  },
  {
   "cell_type": "code",
   "execution_count": 66,
   "metadata": {},
   "outputs": [
    {
     "data": {
      "text/plain": [
       "25054"
      ]
     },
     "execution_count": 66,
     "metadata": {},
     "output_type": "execute_result"
    }
   ],
   "source": [
    "metadata['tagline'].isnull().sum()"
   ]
  },
  {
   "cell_type": "code",
   "execution_count": 67,
   "metadata": {},
   "outputs": [
    {
     "data": {
      "text/plain": [
       "20283"
      ]
     },
     "execution_count": 67,
     "metadata": {},
     "output_type": "execute_result"
    }
   ],
   "source": [
    "metadata['tagline'].nunique()"
   ]
  },
  {
   "cell_type": "code",
   "execution_count": 68,
   "metadata": {},
   "outputs": [
    {
     "data": {
      "text/plain": [
       "0"
      ]
     },
     "execution_count": 68,
     "metadata": {},
     "output_type": "execute_result"
    }
   ],
   "source": [
    "# Missing values set to \"unknown\"\n",
    "metadata.loc[:,'tagline'].fillna(\"unknown\",inplace=True)\n",
    "metadata['tagline'].isnull().sum()"
   ]
  },
  {
   "cell_type": "markdown",
   "metadata": {},
   "source": [
    "# Attribute: title"
   ]
  },
  {
   "cell_type": "code",
   "execution_count": 69,
   "metadata": {},
   "outputs": [
    {
     "data": {
      "text/plain": [
       "6"
      ]
     },
     "execution_count": 69,
     "metadata": {},
     "output_type": "execute_result"
    }
   ],
   "source": [
    "metadata['title'].isnull().sum()"
   ]
  },
  {
   "cell_type": "code",
   "execution_count": 70,
   "metadata": {},
   "outputs": [
    {
     "data": {
      "text/plain": [
       "42277"
      ]
     },
     "execution_count": 70,
     "metadata": {},
     "output_type": "execute_result"
    }
   ],
   "source": [
    "metadata['title'].nunique()"
   ]
  },
  {
   "cell_type": "markdown",
   "metadata": {},
   "source": [
    "It is not possible to work with movies without titles. Hence these movies will be dropped."
   ]
  },
  {
   "cell_type": "code",
   "execution_count": 71,
   "metadata": {},
   "outputs": [],
   "source": [
    "metadata = metadata.dropna(axis=0, subset=['title'])"
   ]
  },
  {
   "cell_type": "code",
   "execution_count": 72,
   "metadata": {},
   "outputs": [
    {
     "data": {
      "text/plain": [
       "0"
      ]
     },
     "execution_count": 72,
     "metadata": {},
     "output_type": "execute_result"
    }
   ],
   "source": [
    "metadata['title'].isnull().sum()"
   ]
  },
  {
   "cell_type": "markdown",
   "metadata": {},
   "source": [
    "# Attributes: spoken_languages"
   ]
  },
  {
   "cell_type": "code",
   "execution_count": 73,
   "metadata": {},
   "outputs": [
    {
     "name": "stdout",
     "output_type": "stream",
     "text": [
      "[{'iso_639_1': 'en', 'name': 'English'}]\n"
     ]
    }
   ],
   "source": [
    "#Print spoken languages of the first movie\n",
    "print(metadata.iloc[0]['spoken_languages'])"
   ]
  },
  {
   "cell_type": "code",
   "execution_count": 74,
   "metadata": {},
   "outputs": [],
   "source": [
    "#Convert all NaN into stringified empty lists\n",
    "metadata['spoken_languages'] = metadata['spoken_languages'].fillna('[]')"
   ]
  },
  {
   "cell_type": "code",
   "execution_count": 75,
   "metadata": {},
   "outputs": [],
   "source": [
    "#Apply literal_eval to convert to the list object\n",
    "metadata['spoken_languages'] = metadata['spoken_languages'].apply(literal_eval)"
   ]
  },
  {
   "cell_type": "code",
   "execution_count": 76,
   "metadata": {},
   "outputs": [],
   "source": [
    "#Convert list of dictionaries to a list of strings\n",
    "metadata['spoken_languages'] = metadata['spoken_languages'].apply(lambda x: [i['name'] for i in x] if isinstance(x, list) else [])"
   ]
  },
  {
   "cell_type": "code",
   "execution_count": 77,
   "metadata": {},
   "outputs": [],
   "source": [
    "metadata['spoken_languages'] = metadata['spoken_languages'].apply(lambda x: ','.join(map(str, x)))"
   ]
  },
  {
   "cell_type": "code",
   "execution_count": 78,
   "metadata": {},
   "outputs": [],
   "source": [
    "#cleaning missing values by filling them with the most frequent values"
   ]
  },
  {
   "cell_type": "code",
   "execution_count": 79,
   "metadata": {},
   "outputs": [
    {
     "data": {
      "text/plain": [
       "0"
      ]
     },
     "execution_count": 79,
     "metadata": {},
     "output_type": "execute_result"
    }
   ],
   "source": [
    "metadata['spoken_languages'].isnull().sum()"
   ]
  },
  {
   "cell_type": "code",
   "execution_count": 80,
   "metadata": {},
   "outputs": [
    {
     "data": {
      "text/plain": [
       "English                                            22395\n",
       "                                                    3952\n",
       "Français                                            1853\n",
       "日本語                                                 1289\n",
       "Italiano                                            1218\n",
       "                                                   ...  \n",
       "български език,English,Français,Pусский,Español        1\n",
       "English,Magyar,Română,Deutsch                          1\n",
       "普通话,English,Pусский                                    1\n",
       "English,Français,ภาษาไทย                               1\n",
       "ελληνικά,English,Türkçe                                1\n",
       "Name: spoken_languages, Length: 1842, dtype: int64"
      ]
     },
     "execution_count": 80,
     "metadata": {},
     "output_type": "execute_result"
    }
   ],
   "source": [
    "metadata.spoken_languages.value_counts()"
   ]
  },
  {
   "cell_type": "code",
   "execution_count": 81,
   "metadata": {},
   "outputs": [
    {
     "data": {
      "text/plain": [
       "3952"
      ]
     },
     "execution_count": 81,
     "metadata": {},
     "output_type": "execute_result"
    }
   ],
   "source": [
    "metadata.spoken_languages[metadata['spoken_languages'].str.len() == 0].count()"
   ]
  },
  {
   "cell_type": "code",
   "execution_count": 82,
   "metadata": {},
   "outputs": [
    {
     "name": "stderr",
     "output_type": "stream",
     "text": [
      "<ipython-input-82-f4f6c58a04b5>:1: SettingWithCopyWarning: \n",
      "A value is trying to be set on a copy of a slice from a DataFrame\n",
      "\n",
      "See the caveats in the documentation: https://pandas.pydata.org/pandas-docs/stable/user_guide/indexing.html#returning-a-view-versus-a-copy\n",
      "  metadata.spoken_languages[metadata['spoken_languages'].str.len() == 0] = 'English'\n"
     ]
    }
   ],
   "source": [
    "metadata.spoken_languages[metadata['spoken_languages'].str.len() == 0] = 'English'"
   ]
  },
  {
   "cell_type": "code",
   "execution_count": 83,
   "metadata": {},
   "outputs": [
    {
     "data": {
      "text/plain": [
       "0"
      ]
     },
     "execution_count": 83,
     "metadata": {},
     "output_type": "execute_result"
    }
   ],
   "source": [
    "metadata.spoken_languages[metadata['spoken_languages'].str.len() == 0].count()"
   ]
  },
  {
   "cell_type": "code",
   "execution_count": 84,
   "metadata": {},
   "outputs": [
    {
     "data": {
      "text/plain": [
       "English                          26347\n",
       "Français                          1853\n",
       "日本語                               1289\n",
       "Italiano                          1218\n",
       "Español                            902\n",
       "                                 ...  \n",
       "English,Magyar,Română,Deutsch        1\n",
       "普通话,English,Pусский                  1\n",
       "Bahasa melayu,普通话,English            1\n",
       "English,日本語,हिन्दी                   1\n",
       "Dansk,Norsk,,svenska                 1\n",
       "Name: spoken_languages, Length: 1841, dtype: int64"
      ]
     },
     "execution_count": 84,
     "metadata": {},
     "output_type": "execute_result"
    }
   ],
   "source": [
    "metadata.spoken_languages.value_counts()"
   ]
  },
  {
   "cell_type": "markdown",
   "metadata": {},
   "source": [
    "# Attribute: genres"
   ]
  },
  {
   "cell_type": "code",
   "execution_count": 85,
   "metadata": {},
   "outputs": [
    {
     "name": "stdout",
     "output_type": "stream",
     "text": [
      "[{'id': 16, 'name': 'Animation'}, {'id': 35, 'name': 'Comedy'}, {'id': 10751, 'name': 'Family'}]\n"
     ]
    }
   ],
   "source": [
    "#Print genres of the first movie\n",
    "print(metadata.iloc[0]['genres'])"
   ]
  },
  {
   "cell_type": "code",
   "execution_count": 86,
   "metadata": {},
   "outputs": [],
   "source": [
    "#Convert all NaN into stringified empty lists\n",
    "metadata['genres'] = metadata['genres'].fillna('[]')"
   ]
  },
  {
   "cell_type": "code",
   "execution_count": 87,
   "metadata": {},
   "outputs": [],
   "source": [
    "#Apply literal_eval to convert to the list object\n",
    "metadata['genres'] = metadata['genres'].apply(literal_eval)"
   ]
  },
  {
   "cell_type": "code",
   "execution_count": 88,
   "metadata": {},
   "outputs": [],
   "source": [
    "#Convert list of dictionaries to a list of strings\n",
    "metadata['genres'] = metadata['genres'].apply(lambda x: [i['name'] for i in x] if isinstance(x, list) else [])"
   ]
  },
  {
   "cell_type": "code",
   "execution_count": 89,
   "metadata": {},
   "outputs": [],
   "source": [
    "metadata['genres'] = metadata['genres'].apply(lambda x: ','.join(map(str, x)))"
   ]
  },
  {
   "cell_type": "code",
   "execution_count": 90,
   "metadata": {},
   "outputs": [
    {
     "data": {
      "text/plain": [
       "0"
      ]
     },
     "execution_count": 90,
     "metadata": {},
     "output_type": "execute_result"
    }
   ],
   "source": [
    "metadata.genres.isnull().sum()"
   ]
  },
  {
   "cell_type": "code",
   "execution_count": 91,
   "metadata": {},
   "outputs": [
    {
     "data": {
      "text/plain": [
       "Drama                                              5000\n",
       "Comedy                                             3621\n",
       "Documentary                                        2723\n",
       "                                                   2442\n",
       "Drama,Romance                                      1301\n",
       "                                                   ... \n",
       "War,Thriller,Comedy,Drama,Mystery                     1\n",
       "Crime,Drama,Mystery,Thriller,Comedy                   1\n",
       "Family,Animation,Music                                1\n",
       "Crime,Drama,Foreign,History,Thriller                  1\n",
       "Fantasy,Animation,Horror,Action,Science Fiction       1\n",
       "Name: genres, Length: 4065, dtype: int64"
      ]
     },
     "execution_count": 91,
     "metadata": {},
     "output_type": "execute_result"
    }
   ],
   "source": [
    "metadata.genres.value_counts()"
   ]
  },
  {
   "cell_type": "code",
   "execution_count": 92,
   "metadata": {},
   "outputs": [
    {
     "data": {
      "text/plain": [
       "2442"
      ]
     },
     "execution_count": 92,
     "metadata": {},
     "output_type": "execute_result"
    }
   ],
   "source": [
    "metadata.genres[metadata['genres'].str.len() == 0].count()"
   ]
  },
  {
   "cell_type": "code",
   "execution_count": 93,
   "metadata": {},
   "outputs": [
    {
     "name": "stderr",
     "output_type": "stream",
     "text": [
      "<ipython-input-93-32203c30e1be>:1: SettingWithCopyWarning: \n",
      "A value is trying to be set on a copy of a slice from a DataFrame\n",
      "\n",
      "See the caveats in the documentation: https://pandas.pydata.org/pandas-docs/stable/user_guide/indexing.html#returning-a-view-versus-a-copy\n",
      "  metadata.genres[metadata['genres'].str.len() == 0] = 'Drama'\n"
     ]
    }
   ],
   "source": [
    "metadata.genres[metadata['genres'].str.len() == 0] = 'Drama'"
   ]
  },
  {
   "cell_type": "code",
   "execution_count": 94,
   "metadata": {},
   "outputs": [
    {
     "data": {
      "text/plain": [
       "0"
      ]
     },
     "execution_count": 94,
     "metadata": {},
     "output_type": "execute_result"
    }
   ],
   "source": [
    "metadata.genres[metadata['genres'].str.len() == 0].count()"
   ]
  },
  {
   "cell_type": "code",
   "execution_count": 95,
   "metadata": {},
   "outputs": [
    {
     "data": {
      "text/plain": [
       "Drama                                  7442\n",
       "Comedy                                 3621\n",
       "Documentary                            2723\n",
       "Drama,Romance                          1301\n",
       "Comedy,Drama                           1135\n",
       "                                       ... \n",
       "Horror,Adventure                          1\n",
       "Horror,Comedy,Music                       1\n",
       "Fantasy,Adventure,Animation               1\n",
       "Romance,Music,TV Movie,Comedy             1\n",
       "Action,Crime,Horror,Science Fiction       1\n",
       "Name: genres, Length: 4064, dtype: int64"
      ]
     },
     "execution_count": 95,
     "metadata": {},
     "output_type": "execute_result"
    }
   ],
   "source": [
    "metadata.genres.value_counts()"
   ]
  },
  {
   "cell_type": "markdown",
   "metadata": {},
   "source": [
    "# Attribute: production_companies"
   ]
  },
  {
   "cell_type": "code",
   "execution_count": 96,
   "metadata": {},
   "outputs": [
    {
     "name": "stdout",
     "output_type": "stream",
     "text": [
      "[{'name': 'Pixar Animation Studios', 'id': 3}]\n"
     ]
    }
   ],
   "source": [
    "#Print production_companies of the first movie\n",
    "print(metadata.iloc[0]['production_companies'])\n",
    "#Convert all NaN into stringified empty lists\n",
    "metadata['production_companies'] = metadata['production_companies'].fillna('[]')\n",
    "#Apply literal_eval to convert to the list object\n",
    "metadata['production_companies'] = metadata['production_companies'].apply(literal_eval)\n",
    "#Convert list of dictionaries to a list of strings\n",
    "metadata['production_companies'] = metadata['production_companies'].apply(lambda x: [i['name'] for i in x] if isinstance(x, list) else [])"
   ]
  },
  {
   "cell_type": "code",
   "execution_count": 97,
   "metadata": {},
   "outputs": [
    {
     "name": "stdout",
     "output_type": "stream",
     "text": [
      "0\n"
     ]
    }
   ],
   "source": [
    "print(metadata.production_companies.isnull().sum())"
   ]
  },
  {
   "cell_type": "code",
   "execution_count": 98,
   "metadata": {},
   "outputs": [],
   "source": [
    "metadata['production_companies'] = metadata['production_companies'].apply(lambda x: ','.join(map(str, x)))"
   ]
  },
  {
   "cell_type": "code",
   "execution_count": 99,
   "metadata": {},
   "outputs": [
    {
     "data": {
      "text/plain": [
       "0"
      ]
     },
     "execution_count": 99,
     "metadata": {},
     "output_type": "execute_result"
    }
   ],
   "source": [
    "metadata['production_companies'].isnull().sum()"
   ]
  },
  {
   "cell_type": "code",
   "execution_count": 100,
   "metadata": {},
   "outputs": [
    {
     "data": {
      "text/plain": [
       "                                                                                      11875\n",
       "Metro-Goldwyn-Mayer (MGM)                                                               742\n",
       "Warner Bros.                                                                            540\n",
       "Paramount Pictures                                                                      505\n",
       "Twentieth Century Fox Film Corporation                                                  439\n",
       "                                                                                      ...  \n",
       "Metro-Goldwyn-Mayer (MGM),Jerry Thorpe Productions                                        1\n",
       "Madhouse,Kadokawa Haruki Jimusho,Kadokawa Shoten Publishing Co.,Project Team Argos        1\n",
       "Vertigo Entertainment,Energy Entertainment,RatPac-Dune Entertainment                      1\n",
       "Snow Globe Productions                                                                    1\n",
       "Avalanche Productions,EuropaCorp,Seven Productions                                        1\n",
       "Name: production_companies, Length: 22672, dtype: int64"
      ]
     },
     "execution_count": 100,
     "metadata": {},
     "output_type": "execute_result"
    }
   ],
   "source": [
    "metadata.production_companies.value_counts()"
   ]
  },
  {
   "cell_type": "code",
   "execution_count": 101,
   "metadata": {},
   "outputs": [
    {
     "data": {
      "text/plain": [
       "11875"
      ]
     },
     "execution_count": 101,
     "metadata": {},
     "output_type": "execute_result"
    }
   ],
   "source": [
    "metadata.production_companies[metadata['production_companies'].str.len() == 0].count()"
   ]
  },
  {
   "cell_type": "code",
   "execution_count": 102,
   "metadata": {},
   "outputs": [
    {
     "name": "stderr",
     "output_type": "stream",
     "text": [
      "<ipython-input-102-15c83c5cb368>:1: SettingWithCopyWarning: \n",
      "A value is trying to be set on a copy of a slice from a DataFrame\n",
      "\n",
      "See the caveats in the documentation: https://pandas.pydata.org/pandas-docs/stable/user_guide/indexing.html#returning-a-view-versus-a-copy\n",
      "  metadata.production_companies[metadata['production_companies'].str.len() == 0] = 'Metro-Goldwyn-Mayer (MGM)'\n"
     ]
    }
   ],
   "source": [
    "metadata.production_companies[metadata['production_companies'].str.len() == 0] = 'Metro-Goldwyn-Mayer (MGM)'"
   ]
  },
  {
   "cell_type": "code",
   "execution_count": 103,
   "metadata": {},
   "outputs": [
    {
     "data": {
      "text/plain": [
       "0"
      ]
     },
     "execution_count": 103,
     "metadata": {},
     "output_type": "execute_result"
    }
   ],
   "source": [
    "metadata.production_companies[metadata['production_companies'].str.len() == 0].count()"
   ]
  },
  {
   "cell_type": "code",
   "execution_count": 104,
   "metadata": {},
   "outputs": [
    {
     "data": {
      "text/plain": [
       "Metro-Goldwyn-Mayer (MGM)                                                                                                                                            12617\n",
       "Warner Bros.                                                                                                                                                           540\n",
       "Paramount Pictures                                                                                                                                                     505\n",
       "Twentieth Century Fox Film Corporation                                                                                                                                 439\n",
       "Universal Pictures                                                                                                                                                     320\n",
       "                                                                                                                                                                     ...  \n",
       "MACT Productions,Canal+,Stefi 2,Lichtblick Film- und Fernsehproduktion (I),Magnolia Mae Films,European Co-production Fund,Intrinsica Films                               1\n",
       "Picture Farm                                                                                                                                                             1\n",
       "CB Films,French Productions                                                                                                                                              1\n",
       "France 3 Cinéma,Wild Bunch,La Petite Reine,Canal+,Ciné+,France Télévisions,Orange Studios,La Classe Américaine,SofiTVCiné,Sarke Studio,NJJ Capital,Westart Invest        1\n",
       "Origami Films,Bee Films                                                                                                                                                  1\n",
       "Name: production_companies, Length: 22671, dtype: int64"
      ]
     },
     "execution_count": 104,
     "metadata": {},
     "output_type": "execute_result"
    }
   ],
   "source": [
    "metadata.production_companies.value_counts()"
   ]
  },
  {
   "cell_type": "markdown",
   "metadata": {},
   "source": [
    "# Attribute: production_countries"
   ]
  },
  {
   "cell_type": "code",
   "execution_count": 105,
   "metadata": {},
   "outputs": [
    {
     "name": "stdout",
     "output_type": "stream",
     "text": [
      "[{'iso_3166_1': 'US', 'name': 'United States of America'}]\n"
     ]
    }
   ],
   "source": [
    "#Print production_countries of the first movie\n",
    "print(metadata.iloc[0]['production_countries'])"
   ]
  },
  {
   "cell_type": "code",
   "execution_count": 106,
   "metadata": {},
   "outputs": [
    {
     "name": "stdout",
     "output_type": "stream",
     "text": [
      "[{'iso_3166_1': 'US', 'name': 'United States of America'}]\n"
     ]
    }
   ],
   "source": [
    "#Print production_countries of the first movie\n",
    "print(metadata.iloc[0]['production_countries'])\n",
    "#Convert all NaN into stringified empty lists\n",
    "metadata['production_countries'] = metadata['production_countries'].fillna('[]')\n",
    "#Apply literal_eval to convert to the list object\n",
    "metadata['production_countries'] = metadata['production_countries'].apply(literal_eval)\n",
    "#Convert list of dictionaries to a list of strings\n",
    "metadata['production_countries'] = metadata['production_countries'].apply(lambda x: [i['name'] for i in x] if isinstance(x, list) else [])"
   ]
  },
  {
   "cell_type": "code",
   "execution_count": 107,
   "metadata": {},
   "outputs": [
    {
     "name": "stdout",
     "output_type": "stream",
     "text": [
      "0\n"
     ]
    }
   ],
   "source": [
    "print(metadata.production_countries.isnull().sum())"
   ]
  },
  {
   "cell_type": "code",
   "execution_count": 108,
   "metadata": {},
   "outputs": [],
   "source": [
    "metadata['production_countries'] = metadata['production_countries'].apply(lambda x: ','.join(map(str, x)))"
   ]
  },
  {
   "cell_type": "code",
   "execution_count": 109,
   "metadata": {},
   "outputs": [
    {
     "data": {
      "text/plain": [
       "0"
      ]
     },
     "execution_count": 109,
     "metadata": {},
     "output_type": "execute_result"
    }
   ],
   "source": [
    "metadata['production_countries'].isnull().sum()"
   ]
  },
  {
   "cell_type": "code",
   "execution_count": 110,
   "metadata": {},
   "outputs": [
    {
     "data": {
      "text/plain": [
       "United States of America                                                 17851\n",
       "                                                                          6282\n",
       "United Kingdom                                                            2238\n",
       "France                                                                    1654\n",
       "Japan                                                                     1356\n",
       "                                                                         ...  \n",
       "Botswana,United States of America,South Africa                               1\n",
       "France,India,United States of America                                        1\n",
       "Czech Republic,France,Germany,United Kingdom,United States of America        1\n",
       "East Germany,Czech Republic                                                  1\n",
       "United States of America,Belgium,Netherlands,United Kingdom                  1\n",
       "Name: production_countries, Length: 2390, dtype: int64"
      ]
     },
     "execution_count": 110,
     "metadata": {},
     "output_type": "execute_result"
    }
   ],
   "source": [
    "metadata.production_countries.value_counts()"
   ]
  },
  {
   "cell_type": "code",
   "execution_count": 111,
   "metadata": {},
   "outputs": [
    {
     "data": {
      "text/plain": [
       "6282"
      ]
     },
     "execution_count": 111,
     "metadata": {},
     "output_type": "execute_result"
    }
   ],
   "source": [
    "metadata.production_countries[metadata['production_countries'].str.len() == 0].count()"
   ]
  },
  {
   "cell_type": "code",
   "execution_count": 112,
   "metadata": {},
   "outputs": [
    {
     "name": "stderr",
     "output_type": "stream",
     "text": [
      "<ipython-input-112-252ca0656874>:1: SettingWithCopyWarning: \n",
      "A value is trying to be set on a copy of a slice from a DataFrame\n",
      "\n",
      "See the caveats in the documentation: https://pandas.pydata.org/pandas-docs/stable/user_guide/indexing.html#returning-a-view-versus-a-copy\n",
      "  metadata.production_countries[metadata['production_countries'].str.len() == 0] = 'United States of America'\n"
     ]
    }
   ],
   "source": [
    "metadata.production_countries[metadata['production_countries'].str.len() == 0] = 'United States of America'"
   ]
  },
  {
   "cell_type": "code",
   "execution_count": 113,
   "metadata": {},
   "outputs": [
    {
     "data": {
      "text/plain": [
       "0"
      ]
     },
     "execution_count": 113,
     "metadata": {},
     "output_type": "execute_result"
    }
   ],
   "source": [
    "metadata.production_countries[metadata['production_countries'].str.len() == 0].count()"
   ]
  },
  {
   "cell_type": "code",
   "execution_count": 114,
   "metadata": {},
   "outputs": [
    {
     "data": {
      "text/plain": [
       "United States of America                                                 24133\n",
       "United Kingdom                                                            2238\n",
       "France                                                                    1654\n",
       "Japan                                                                     1356\n",
       "Italy                                                                     1030\n",
       "                                                                         ...  \n",
       "Botswana,United States of America,South Africa                               1\n",
       "France,India,United States of America                                        1\n",
       "Czech Republic,France,Germany,United Kingdom,United States of America        1\n",
       "East Germany,Czech Republic                                                  1\n",
       "Cambodia                                                                     1\n",
       "Name: production_countries, Length: 2389, dtype: int64"
      ]
     },
     "execution_count": 114,
     "metadata": {},
     "output_type": "execute_result"
    }
   ],
   "source": [
    "metadata.production_countries.value_counts()"
   ]
  },
  {
   "cell_type": "markdown",
   "metadata": {},
   "source": [
    "# Dropping Duplicates"
   ]
  },
  {
   "cell_type": "code",
   "execution_count": 115,
   "metadata": {},
   "outputs": [
    {
     "data": {
      "text/plain": [
       "17"
      ]
     },
     "execution_count": 115,
     "metadata": {},
     "output_type": "execute_result"
    }
   ],
   "source": [
    "metadata.duplicated().sum()"
   ]
  },
  {
   "cell_type": "code",
   "execution_count": 116,
   "metadata": {},
   "outputs": [
    {
     "data": {
      "text/html": [
       "<div>\n",
       "<style scoped>\n",
       "    .dataframe tbody tr th:only-of-type {\n",
       "        vertical-align: middle;\n",
       "    }\n",
       "\n",
       "    .dataframe tbody tr th {\n",
       "        vertical-align: top;\n",
       "    }\n",
       "\n",
       "    .dataframe thead th {\n",
       "        text-align: right;\n",
       "    }\n",
       "</style>\n",
       "<table border=\"1\" class=\"dataframe\">\n",
       "  <thead>\n",
       "    <tr style=\"text-align: right;\">\n",
       "      <th></th>\n",
       "      <th>genres</th>\n",
       "      <th>tmdbId</th>\n",
       "      <th>imdb_id</th>\n",
       "      <th>original_language</th>\n",
       "      <th>overview</th>\n",
       "      <th>popularity</th>\n",
       "      <th>production_companies</th>\n",
       "      <th>production_countries</th>\n",
       "      <th>runtime</th>\n",
       "      <th>spoken_languages</th>\n",
       "      <th>status</th>\n",
       "      <th>tagline</th>\n",
       "      <th>title</th>\n",
       "      <th>video</th>\n",
       "      <th>vote_average</th>\n",
       "      <th>vote_count</th>\n",
       "      <th>collectionId</th>\n",
       "      <th>collectionName</th>\n",
       "      <th>year</th>\n",
       "    </tr>\n",
       "  </thead>\n",
       "  <tbody>\n",
       "    <tr>\n",
       "      <th>1465</th>\n",
       "      <td>Drama,Romance</td>\n",
       "      <td>105045</td>\n",
       "      <td>111613</td>\n",
       "      <td>de</td>\n",
       "      <td>East-Berlin, 1961, shortly after the erection ...</td>\n",
       "      <td>0.122178</td>\n",
       "      <td>Studio Babelsberg,Centre National de la Cinéma...</td>\n",
       "      <td>Germany</td>\n",
       "      <td>115.0</td>\n",
       "      <td>Deutsch</td>\n",
       "      <td>Released</td>\n",
       "      <td>A love, a hope, a wall.</td>\n",
       "      <td>The Promise</td>\n",
       "      <td>False</td>\n",
       "      <td>5.0</td>\n",
       "      <td>1.0</td>\n",
       "      <td>-99</td>\n",
       "      <td>unknown</td>\n",
       "      <td>1995</td>\n",
       "    </tr>\n",
       "    <tr>\n",
       "      <th>9165</th>\n",
       "      <td>Crime,Drama,Thriller</td>\n",
       "      <td>5511</td>\n",
       "      <td>062229</td>\n",
       "      <td>fr</td>\n",
       "      <td>Hitman Jef Costello is a perfectionist who alw...</td>\n",
       "      <td>9.091288</td>\n",
       "      <td>Fida cinematografica,Compagnie Industrielle et...</td>\n",
       "      <td>France,Italy</td>\n",
       "      <td>105.0</td>\n",
       "      <td>Français</td>\n",
       "      <td>Released</td>\n",
       "      <td>There is no solitude greater than that of the ...</td>\n",
       "      <td>Le Samouraï</td>\n",
       "      <td>False</td>\n",
       "      <td>7.9</td>\n",
       "      <td>187.0</td>\n",
       "      <td>-99</td>\n",
       "      <td>unknown</td>\n",
       "      <td>1967</td>\n",
       "    </tr>\n",
       "    <tr>\n",
       "      <th>9327</th>\n",
       "      <td>Adventure,Animation,Drama,Action,Foreign</td>\n",
       "      <td>23305</td>\n",
       "      <td>295682</td>\n",
       "      <td>en</td>\n",
       "      <td>In feudal India, a warrior (Khan) who renounce...</td>\n",
       "      <td>1.967992</td>\n",
       "      <td>Filmfour</td>\n",
       "      <td>France,Germany,India,United Kingdom</td>\n",
       "      <td>86.0</td>\n",
       "      <td>हिन्दी</td>\n",
       "      <td>Released</td>\n",
       "      <td>unknown</td>\n",
       "      <td>The Warrior</td>\n",
       "      <td>False</td>\n",
       "      <td>6.3</td>\n",
       "      <td>15.0</td>\n",
       "      <td>-99</td>\n",
       "      <td>unknown</td>\n",
       "      <td>2001</td>\n",
       "    </tr>\n",
       "    <tr>\n",
       "      <th>13375</th>\n",
       "      <td>Thriller,Mystery</td>\n",
       "      <td>141971</td>\n",
       "      <td>180333</td>\n",
       "      <td>fi</td>\n",
       "      <td>Recovering from a nail gun shot to the head an...</td>\n",
       "      <td>0.411949</td>\n",
       "      <td>Filmiteollisuus Fine</td>\n",
       "      <td>Finland</td>\n",
       "      <td>108.0</td>\n",
       "      <td>suomi</td>\n",
       "      <td>Released</td>\n",
       "      <td>Which one is the first to return - memory or t...</td>\n",
       "      <td>Blackout</td>\n",
       "      <td>False</td>\n",
       "      <td>6.7</td>\n",
       "      <td>3.0</td>\n",
       "      <td>-99</td>\n",
       "      <td>unknown</td>\n",
       "      <td>2008</td>\n",
       "    </tr>\n",
       "    <tr>\n",
       "      <th>16764</th>\n",
       "      <td>Thriller,Mystery</td>\n",
       "      <td>141971</td>\n",
       "      <td>180333</td>\n",
       "      <td>fi</td>\n",
       "      <td>Recovering from a nail gun shot to the head an...</td>\n",
       "      <td>0.411949</td>\n",
       "      <td>Filmiteollisuus Fine</td>\n",
       "      <td>Finland</td>\n",
       "      <td>108.0</td>\n",
       "      <td>suomi</td>\n",
       "      <td>Released</td>\n",
       "      <td>Which one is the first to return - memory or t...</td>\n",
       "      <td>Blackout</td>\n",
       "      <td>False</td>\n",
       "      <td>6.7</td>\n",
       "      <td>3.0</td>\n",
       "      <td>-99</td>\n",
       "      <td>unknown</td>\n",
       "      <td>2008</td>\n",
       "    </tr>\n",
       "    <tr>\n",
       "      <th>21165</th>\n",
       "      <td>Fantasy,Drama,Science Fiction</td>\n",
       "      <td>119916</td>\n",
       "      <td>080000</td>\n",
       "      <td>en</td>\n",
       "      <td>Prospero, the true Duke of Milan is now living...</td>\n",
       "      <td>0.000018</td>\n",
       "      <td>Metro-Goldwyn-Mayer (MGM)</td>\n",
       "      <td>United States of America</td>\n",
       "      <td>123.0</td>\n",
       "      <td>English</td>\n",
       "      <td>Released</td>\n",
       "      <td>unknown</td>\n",
       "      <td>The Tempest</td>\n",
       "      <td>False</td>\n",
       "      <td>0.0</td>\n",
       "      <td>0.0</td>\n",
       "      <td>-99</td>\n",
       "      <td>unknown</td>\n",
       "      <td>1980</td>\n",
       "    </tr>\n",
       "    <tr>\n",
       "      <th>21854</th>\n",
       "      <td>Drama,Science Fiction,Animation</td>\n",
       "      <td>152795</td>\n",
       "      <td>821641</td>\n",
       "      <td>en</td>\n",
       "      <td>More than two decades after catapulting to sta...</td>\n",
       "      <td>8.534039</td>\n",
       "      <td>Pandora Filmproduktion,Entre Chien et Loup,Opu...</td>\n",
       "      <td>Belgium,France,Germany,Israel,Luxembourg,Poland</td>\n",
       "      <td>122.0</td>\n",
       "      <td>English</td>\n",
       "      <td>Released</td>\n",
       "      <td>unknown</td>\n",
       "      <td>The Congress</td>\n",
       "      <td>False</td>\n",
       "      <td>6.4</td>\n",
       "      <td>165.0</td>\n",
       "      <td>-99</td>\n",
       "      <td>unknown</td>\n",
       "      <td>2013</td>\n",
       "    </tr>\n",
       "    <tr>\n",
       "      <th>22151</th>\n",
       "      <td>Action,Horror,Science Fiction</td>\n",
       "      <td>18440</td>\n",
       "      <td>499456</td>\n",
       "      <td>en</td>\n",
       "      <td>When a comet strikes Earth and kicks up a clou...</td>\n",
       "      <td>1.436085</td>\n",
       "      <td>Metro-Goldwyn-Mayer (MGM)</td>\n",
       "      <td>United States of America</td>\n",
       "      <td>89.0</td>\n",
       "      <td>English</td>\n",
       "      <td>Released</td>\n",
       "      <td>unknown</td>\n",
       "      <td>Days of Darkness</td>\n",
       "      <td>False</td>\n",
       "      <td>5.0</td>\n",
       "      <td>5.0</td>\n",
       "      <td>-99</td>\n",
       "      <td>unknown</td>\n",
       "      <td>2007</td>\n",
       "    </tr>\n",
       "    <tr>\n",
       "      <th>23044</th>\n",
       "      <td>Drama</td>\n",
       "      <td>25541</td>\n",
       "      <td>327820</td>\n",
       "      <td>da</td>\n",
       "      <td>Former Danish servicemen Lars and Jimmy are th...</td>\n",
       "      <td>2.587911</td>\n",
       "      <td>Metro-Goldwyn-Mayer (MGM)</td>\n",
       "      <td>Sweden,Denmark</td>\n",
       "      <td>90.0</td>\n",
       "      <td>Dansk</td>\n",
       "      <td>Released</td>\n",
       "      <td>unknown</td>\n",
       "      <td>Brotherhood</td>\n",
       "      <td>False</td>\n",
       "      <td>7.1</td>\n",
       "      <td>21.0</td>\n",
       "      <td>-99</td>\n",
       "      <td>unknown</td>\n",
       "      <td>2009</td>\n",
       "    </tr>\n",
       "    <tr>\n",
       "      <th>24844</th>\n",
       "      <td>Comedy,Drama</td>\n",
       "      <td>11115</td>\n",
       "      <td>446676</td>\n",
       "      <td>en</td>\n",
       "      <td>As an ex-gambler teaches a hot-shot college ki...</td>\n",
       "      <td>6.880365</td>\n",
       "      <td>Andertainment Group,Crescent City Pictures,Tag...</td>\n",
       "      <td>United States of America</td>\n",
       "      <td>85.0</td>\n",
       "      <td>English</td>\n",
       "      <td>Released</td>\n",
       "      <td>unknown</td>\n",
       "      <td>Deal</td>\n",
       "      <td>False</td>\n",
       "      <td>5.2</td>\n",
       "      <td>22.0</td>\n",
       "      <td>-99</td>\n",
       "      <td>unknown</td>\n",
       "      <td>2008</td>\n",
       "    </tr>\n",
       "    <tr>\n",
       "      <th>28860</th>\n",
       "      <td>Drama,Comedy</td>\n",
       "      <td>168538</td>\n",
       "      <td>084387</td>\n",
       "      <td>en</td>\n",
       "      <td>In Zola's Paris, an ingenue arrives at a tony ...</td>\n",
       "      <td>1.276602</td>\n",
       "      <td>Cannon Group,Metro-Goldwyn-Mayer (MGM)</td>\n",
       "      <td>United States of America</td>\n",
       "      <td>92.0</td>\n",
       "      <td>English</td>\n",
       "      <td>Released</td>\n",
       "      <td>unknown</td>\n",
       "      <td>Nana, the True Key of Pleasure</td>\n",
       "      <td>False</td>\n",
       "      <td>4.7</td>\n",
       "      <td>3.0</td>\n",
       "      <td>-99</td>\n",
       "      <td>unknown</td>\n",
       "      <td>1983</td>\n",
       "    </tr>\n",
       "    <tr>\n",
       "      <th>29374</th>\n",
       "      <td>Drama,Foreign</td>\n",
       "      <td>42495</td>\n",
       "      <td>067306</td>\n",
       "      <td>en</td>\n",
       "      <td>King Lear, old and tired, divides his kingdom ...</td>\n",
       "      <td>0.187901</td>\n",
       "      <td>Royal Shakespeare Company,Laterna Film,Athena ...</td>\n",
       "      <td>Denmark,United Kingdom</td>\n",
       "      <td>137.0</td>\n",
       "      <td>English</td>\n",
       "      <td>Rumored</td>\n",
       "      <td>unknown</td>\n",
       "      <td>King Lear</td>\n",
       "      <td>False</td>\n",
       "      <td>8.0</td>\n",
       "      <td>3.0</td>\n",
       "      <td>-99</td>\n",
       "      <td>unknown</td>\n",
       "      <td>1971</td>\n",
       "    </tr>\n",
       "    <tr>\n",
       "      <th>35798</th>\n",
       "      <td>Documentary</td>\n",
       "      <td>159849</td>\n",
       "      <td>173769</td>\n",
       "      <td>en</td>\n",
       "      <td>The third film of Frank Capra's 'Why We Fight\"...</td>\n",
       "      <td>0.473322</td>\n",
       "      <td>Metro-Goldwyn-Mayer (MGM)</td>\n",
       "      <td>United States of America</td>\n",
       "      <td>57.0</td>\n",
       "      <td>English</td>\n",
       "      <td>Released</td>\n",
       "      <td>unknown</td>\n",
       "      <td>Why We Fight: Divide and Conquer</td>\n",
       "      <td>False</td>\n",
       "      <td>5.0</td>\n",
       "      <td>1.0</td>\n",
       "      <td>158365</td>\n",
       "      <td>'Why We Fight'</td>\n",
       "      <td>1943</td>\n",
       "    </tr>\n",
       "    <tr>\n",
       "      <th>38871</th>\n",
       "      <td>Action,Drama,Romance,Adventure</td>\n",
       "      <td>99080</td>\n",
       "      <td>022537</td>\n",
       "      <td>en</td>\n",
       "      <td>Originally called White Thunder, American prod...</td>\n",
       "      <td>0.002362</td>\n",
       "      <td>Metro-Goldwyn-Mayer (MGM)</td>\n",
       "      <td>United States of America</td>\n",
       "      <td>70.0</td>\n",
       "      <td>English</td>\n",
       "      <td>Released</td>\n",
       "      <td>Actually produced during the Great Newfoundlan...</td>\n",
       "      <td>The Viking</td>\n",
       "      <td>False</td>\n",
       "      <td>0.0</td>\n",
       "      <td>0.0</td>\n",
       "      <td>-99</td>\n",
       "      <td>unknown</td>\n",
       "      <td>1931</td>\n",
       "    </tr>\n",
       "    <tr>\n",
       "      <th>40040</th>\n",
       "      <td>Drama,Fantasy</td>\n",
       "      <td>298721</td>\n",
       "      <td>818654</td>\n",
       "      <td>th</td>\n",
       "      <td>In a hospital, ten soldiers are being treated ...</td>\n",
       "      <td>2.535419</td>\n",
       "      <td>Match Factory, The,Louverture Films,Tordenfilm...</td>\n",
       "      <td>United Kingdom,United States of America,France...</td>\n",
       "      <td>122.0</td>\n",
       "      <td>English,ภาษาไทย</td>\n",
       "      <td>Released</td>\n",
       "      <td>unknown</td>\n",
       "      <td>Cemetery of Splendour</td>\n",
       "      <td>False</td>\n",
       "      <td>4.4</td>\n",
       "      <td>50.0</td>\n",
       "      <td>-99</td>\n",
       "      <td>unknown</td>\n",
       "      <td>2015</td>\n",
       "    </tr>\n",
       "    <tr>\n",
       "      <th>40276</th>\n",
       "      <td>Comedy</td>\n",
       "      <td>97995</td>\n",
       "      <td>127834</td>\n",
       "      <td>en</td>\n",
       "      <td>After breaking a mirror in his home, superstit...</td>\n",
       "      <td>0.141558</td>\n",
       "      <td>Max Linder Productions</td>\n",
       "      <td>United States of America</td>\n",
       "      <td>62.0</td>\n",
       "      <td>English</td>\n",
       "      <td>Released</td>\n",
       "      <td>unknown</td>\n",
       "      <td>Seven Years Bad Luck</td>\n",
       "      <td>False</td>\n",
       "      <td>5.6</td>\n",
       "      <td>4.0</td>\n",
       "      <td>-99</td>\n",
       "      <td>unknown</td>\n",
       "      <td>1921</td>\n",
       "    </tr>\n",
       "    <tr>\n",
       "      <th>45265</th>\n",
       "      <td>Comedy,Drama</td>\n",
       "      <td>265189</td>\n",
       "      <td>121382</td>\n",
       "      <td>sv</td>\n",
       "      <td>While holidaying in the French Alps, a Swedish...</td>\n",
       "      <td>12.165685</td>\n",
       "      <td>Motlys,Coproduction Office,Film i Väst</td>\n",
       "      <td>Norway,Sweden,France</td>\n",
       "      <td>118.0</td>\n",
       "      <td>Français,Norsk,svenska,English</td>\n",
       "      <td>Released</td>\n",
       "      <td>unknown</td>\n",
       "      <td>Force Majeure</td>\n",
       "      <td>False</td>\n",
       "      <td>6.8</td>\n",
       "      <td>255.0</td>\n",
       "      <td>-99</td>\n",
       "      <td>unknown</td>\n",
       "      <td>2014</td>\n",
       "    </tr>\n",
       "  </tbody>\n",
       "</table>\n",
       "</div>"
      ],
      "text/plain": [
       "                                         genres  tmdbId imdb_id  \\\n",
       "1465                              Drama,Romance  105045  111613   \n",
       "9165                       Crime,Drama,Thriller    5511  062229   \n",
       "9327   Adventure,Animation,Drama,Action,Foreign   23305  295682   \n",
       "13375                          Thriller,Mystery  141971  180333   \n",
       "16764                          Thriller,Mystery  141971  180333   \n",
       "21165             Fantasy,Drama,Science Fiction  119916  080000   \n",
       "21854           Drama,Science Fiction,Animation  152795  821641   \n",
       "22151             Action,Horror,Science Fiction   18440  499456   \n",
       "23044                                     Drama   25541  327820   \n",
       "24844                              Comedy,Drama   11115  446676   \n",
       "28860                              Drama,Comedy  168538  084387   \n",
       "29374                             Drama,Foreign   42495  067306   \n",
       "35798                               Documentary  159849  173769   \n",
       "38871            Action,Drama,Romance,Adventure   99080  022537   \n",
       "40040                             Drama,Fantasy  298721  818654   \n",
       "40276                                    Comedy   97995  127834   \n",
       "45265                              Comedy,Drama  265189  121382   \n",
       "\n",
       "      original_language                                           overview  \\\n",
       "1465                 de  East-Berlin, 1961, shortly after the erection ...   \n",
       "9165                 fr  Hitman Jef Costello is a perfectionist who alw...   \n",
       "9327                 en  In feudal India, a warrior (Khan) who renounce...   \n",
       "13375                fi  Recovering from a nail gun shot to the head an...   \n",
       "16764                fi  Recovering from a nail gun shot to the head an...   \n",
       "21165                en  Prospero, the true Duke of Milan is now living...   \n",
       "21854                en  More than two decades after catapulting to sta...   \n",
       "22151                en  When a comet strikes Earth and kicks up a clou...   \n",
       "23044                da  Former Danish servicemen Lars and Jimmy are th...   \n",
       "24844                en  As an ex-gambler teaches a hot-shot college ki...   \n",
       "28860                en  In Zola's Paris, an ingenue arrives at a tony ...   \n",
       "29374                en  King Lear, old and tired, divides his kingdom ...   \n",
       "35798                en  The third film of Frank Capra's 'Why We Fight\"...   \n",
       "38871                en  Originally called White Thunder, American prod...   \n",
       "40040                th  In a hospital, ten soldiers are being treated ...   \n",
       "40276                en  After breaking a mirror in his home, superstit...   \n",
       "45265                sv  While holidaying in the French Alps, a Swedish...   \n",
       "\n",
       "       popularity                               production_companies  \\\n",
       "1465     0.122178  Studio Babelsberg,Centre National de la Cinéma...   \n",
       "9165     9.091288  Fida cinematografica,Compagnie Industrielle et...   \n",
       "9327     1.967992                                           Filmfour   \n",
       "13375    0.411949                               Filmiteollisuus Fine   \n",
       "16764    0.411949                               Filmiteollisuus Fine   \n",
       "21165    0.000018                          Metro-Goldwyn-Mayer (MGM)   \n",
       "21854    8.534039  Pandora Filmproduktion,Entre Chien et Loup,Opu...   \n",
       "22151    1.436085                          Metro-Goldwyn-Mayer (MGM)   \n",
       "23044    2.587911                          Metro-Goldwyn-Mayer (MGM)   \n",
       "24844    6.880365  Andertainment Group,Crescent City Pictures,Tag...   \n",
       "28860    1.276602             Cannon Group,Metro-Goldwyn-Mayer (MGM)   \n",
       "29374    0.187901  Royal Shakespeare Company,Laterna Film,Athena ...   \n",
       "35798    0.473322                          Metro-Goldwyn-Mayer (MGM)   \n",
       "38871    0.002362                          Metro-Goldwyn-Mayer (MGM)   \n",
       "40040    2.535419  Match Factory, The,Louverture Films,Tordenfilm...   \n",
       "40276    0.141558                             Max Linder Productions   \n",
       "45265   12.165685             Motlys,Coproduction Office,Film i Väst   \n",
       "\n",
       "                                    production_countries  runtime  \\\n",
       "1465                                             Germany    115.0   \n",
       "9165                                        France,Italy    105.0   \n",
       "9327                 France,Germany,India,United Kingdom     86.0   \n",
       "13375                                            Finland    108.0   \n",
       "16764                                            Finland    108.0   \n",
       "21165                           United States of America    123.0   \n",
       "21854    Belgium,France,Germany,Israel,Luxembourg,Poland    122.0   \n",
       "22151                           United States of America     89.0   \n",
       "23044                                     Sweden,Denmark     90.0   \n",
       "24844                           United States of America     85.0   \n",
       "28860                           United States of America     92.0   \n",
       "29374                             Denmark,United Kingdom    137.0   \n",
       "35798                           United States of America     57.0   \n",
       "38871                           United States of America     70.0   \n",
       "40040  United Kingdom,United States of America,France...    122.0   \n",
       "40276                           United States of America     62.0   \n",
       "45265                               Norway,Sweden,France    118.0   \n",
       "\n",
       "                     spoken_languages    status  \\\n",
       "1465                          Deutsch  Released   \n",
       "9165                         Français  Released   \n",
       "9327                           हिन्दी  Released   \n",
       "13375                           suomi  Released   \n",
       "16764                           suomi  Released   \n",
       "21165                         English  Released   \n",
       "21854                         English  Released   \n",
       "22151                         English  Released   \n",
       "23044                           Dansk  Released   \n",
       "24844                         English  Released   \n",
       "28860                         English  Released   \n",
       "29374                         English   Rumored   \n",
       "35798                         English  Released   \n",
       "38871                         English  Released   \n",
       "40040                 English,ภาษาไทย  Released   \n",
       "40276                         English  Released   \n",
       "45265  Français,Norsk,svenska,English  Released   \n",
       "\n",
       "                                                 tagline  \\\n",
       "1465                             A love, a hope, a wall.   \n",
       "9165   There is no solitude greater than that of the ...   \n",
       "9327                                             unknown   \n",
       "13375  Which one is the first to return - memory or t...   \n",
       "16764  Which one is the first to return - memory or t...   \n",
       "21165                                            unknown   \n",
       "21854                                            unknown   \n",
       "22151                                            unknown   \n",
       "23044                                            unknown   \n",
       "24844                                            unknown   \n",
       "28860                                            unknown   \n",
       "29374                                            unknown   \n",
       "35798                                            unknown   \n",
       "38871  Actually produced during the Great Newfoundlan...   \n",
       "40040                                            unknown   \n",
       "40276                                            unknown   \n",
       "45265                                            unknown   \n",
       "\n",
       "                                  title  video  vote_average  vote_count  \\\n",
       "1465                        The Promise  False           5.0         1.0   \n",
       "9165                        Le Samouraï  False           7.9       187.0   \n",
       "9327                        The Warrior  False           6.3        15.0   \n",
       "13375                          Blackout  False           6.7         3.0   \n",
       "16764                          Blackout  False           6.7         3.0   \n",
       "21165                       The Tempest  False           0.0         0.0   \n",
       "21854                      The Congress  False           6.4       165.0   \n",
       "22151                  Days of Darkness  False           5.0         5.0   \n",
       "23044                       Brotherhood  False           7.1        21.0   \n",
       "24844                              Deal  False           5.2        22.0   \n",
       "28860    Nana, the True Key of Pleasure  False           4.7         3.0   \n",
       "29374                         King Lear  False           8.0         3.0   \n",
       "35798  Why We Fight: Divide and Conquer  False           5.0         1.0   \n",
       "38871                        The Viking  False           0.0         0.0   \n",
       "40040             Cemetery of Splendour  False           4.4        50.0   \n",
       "40276              Seven Years Bad Luck  False           5.6         4.0   \n",
       "45265                     Force Majeure  False           6.8       255.0   \n",
       "\n",
       "      collectionId   collectionName  year  \n",
       "1465           -99          unknown  1995  \n",
       "9165           -99          unknown  1967  \n",
       "9327           -99          unknown  2001  \n",
       "13375          -99          unknown  2008  \n",
       "16764          -99          unknown  2008  \n",
       "21165          -99          unknown  1980  \n",
       "21854          -99          unknown  2013  \n",
       "22151          -99          unknown  2007  \n",
       "23044          -99          unknown  2009  \n",
       "24844          -99          unknown  2008  \n",
       "28860          -99          unknown  1983  \n",
       "29374          -99          unknown  1971  \n",
       "35798       158365   'Why We Fight'  1943  \n",
       "38871          -99          unknown  1931  \n",
       "40040          -99          unknown  2015  \n",
       "40276          -99          unknown  1921  \n",
       "45265          -99          unknown  2014  "
      ]
     },
     "execution_count": 116,
     "metadata": {},
     "output_type": "execute_result"
    }
   ],
   "source": [
    "metadata[metadata.duplicated()]"
   ]
  },
  {
   "cell_type": "code",
   "execution_count": 117,
   "metadata": {},
   "outputs": [],
   "source": [
    "metadata = metadata.drop_duplicates()"
   ]
  },
  {
   "cell_type": "code",
   "execution_count": 118,
   "metadata": {},
   "outputs": [
    {
     "data": {
      "text/plain": [
       "0"
      ]
     },
     "execution_count": 118,
     "metadata": {},
     "output_type": "execute_result"
    }
   ],
   "source": [
    "metadata.duplicated().sum()"
   ]
  },
  {
   "cell_type": "code",
   "execution_count": 119,
   "metadata": {},
   "outputs": [
    {
     "data": {
      "text/plain": [
       "13"
      ]
     },
     "execution_count": 119,
     "metadata": {},
     "output_type": "execute_result"
    }
   ],
   "source": [
    "metadata.tmdbId.duplicated().sum()"
   ]
  },
  {
   "cell_type": "code",
   "execution_count": 120,
   "metadata": {},
   "outputs": [],
   "source": [
    "metadata = metadata.drop_duplicates(subset=['tmdbId'])"
   ]
  },
  {
   "cell_type": "code",
   "execution_count": 121,
   "metadata": {},
   "outputs": [
    {
     "data": {
      "text/plain": [
       "0"
      ]
     },
     "execution_count": 121,
     "metadata": {},
     "output_type": "execute_result"
    }
   ],
   "source": [
    "metadata.tmdbId.duplicated().sum()"
   ]
  },
  {
   "cell_type": "code",
   "execution_count": 122,
   "metadata": {},
   "outputs": [
    {
     "data": {
      "text/plain": [
       "667"
      ]
     },
     "execution_count": 122,
     "metadata": {},
     "output_type": "execute_result"
    }
   ],
   "source": [
    "metadata.imdb_id.duplicated().sum()"
   ]
  },
  {
   "cell_type": "code",
   "execution_count": 123,
   "metadata": {},
   "outputs": [],
   "source": [
    "metadata = metadata.drop_duplicates(subset=['imdb_id'])"
   ]
  },
  {
   "cell_type": "code",
   "execution_count": 124,
   "metadata": {},
   "outputs": [
    {
     "data": {
      "text/plain": [
       "0"
      ]
     },
     "execution_count": 124,
     "metadata": {},
     "output_type": "execute_result"
    }
   ],
   "source": [
    "metadata.imdb_id.duplicated().sum()"
   ]
  },
  {
   "cell_type": "markdown",
   "metadata": {},
   "source": [
    "# Exporting the cleaned dataframes to csv files"
   ]
  },
  {
   "cell_type": "code",
   "execution_count": 125,
   "metadata": {},
   "outputs": [],
   "source": [
    "ratings.to_csv(\"ratings_filtered.csv\", index=False)"
   ]
  },
  {
   "cell_type": "code",
   "execution_count": 126,
   "metadata": {},
   "outputs": [
    {
     "data": {
      "text/plain": [
       "['genres',\n",
       " 'tmdbId',\n",
       " 'imdb_id',\n",
       " 'original_language',\n",
       " 'overview',\n",
       " 'popularity',\n",
       " 'production_companies',\n",
       " 'production_countries',\n",
       " 'runtime',\n",
       " 'spoken_languages',\n",
       " 'status',\n",
       " 'tagline',\n",
       " 'title',\n",
       " 'video',\n",
       " 'vote_average',\n",
       " 'vote_count',\n",
       " 'collectionId',\n",
       " 'collectionName',\n",
       " 'year']"
      ]
     },
     "execution_count": 126,
     "metadata": {},
     "output_type": "execute_result"
    }
   ],
   "source": [
    "list(metadata.columns.values)"
   ]
  },
  {
   "cell_type": "code",
   "execution_count": 127,
   "metadata": {},
   "outputs": [],
   "source": [
    "metadata = metadata.reindex(sorted(metadata.columns),axis=1)"
   ]
  },
  {
   "cell_type": "code",
   "execution_count": 128,
   "metadata": {},
   "outputs": [
    {
     "data": {
      "text/plain": [
       "['collectionId',\n",
       " 'collectionName',\n",
       " 'genres',\n",
       " 'imdb_id',\n",
       " 'original_language',\n",
       " 'overview',\n",
       " 'popularity',\n",
       " 'production_companies',\n",
       " 'production_countries',\n",
       " 'runtime',\n",
       " 'spoken_languages',\n",
       " 'status',\n",
       " 'tagline',\n",
       " 'title',\n",
       " 'tmdbId',\n",
       " 'video',\n",
       " 'vote_average',\n",
       " 'vote_count',\n",
       " 'year']"
      ]
     },
     "execution_count": 128,
     "metadata": {},
     "output_type": "execute_result"
    }
   ],
   "source": [
    "list(metadata.columns.values)"
   ]
  },
  {
   "cell_type": "code",
   "execution_count": 129,
   "metadata": {},
   "outputs": [],
   "source": [
    "metadata.to_csv(\"metadata_filtered.csv\", index=False)"
   ]
  }
 ],
 "metadata": {
  "kernelspec": {
   "display_name": "Python 3",
   "language": "python",
   "name": "python3"
  },
  "language_info": {
   "codemirror_mode": {
    "name": "ipython",
    "version": 3
   },
   "file_extension": ".py",
   "mimetype": "text/x-python",
   "name": "python",
   "nbconvert_exporter": "python",
   "pygments_lexer": "ipython3",
   "version": "3.8.3"
  }
 },
 "nbformat": 4,
 "nbformat_minor": 2
}
