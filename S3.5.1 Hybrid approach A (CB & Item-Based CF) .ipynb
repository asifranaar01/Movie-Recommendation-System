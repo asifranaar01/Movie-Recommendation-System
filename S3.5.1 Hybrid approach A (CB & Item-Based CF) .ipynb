{
 "cells": [
  {
   "cell_type": "markdown",
   "metadata": {},
   "source": [
    "COS80024\n",
    "\n",
    "DATA SCIENCE PROJECT 1\n",
    "\n",
    "PROJECT 4: MOVIE RECOMMENDATION SYSTEM\n",
    "\n",
    "# Task S3.5.1 Hybrid approach A (CB & Item-Based CF) \n",
    "\n",
    "This task aims to develop, select, train and tune parameters for a hybrid approach using collaborative filter (item-based) and conten-based.\n",
    "\n",
    "Code Contributed by - Asif Rana, Student ID - 102866893"
   ]
  },
  {
   "cell_type": "markdown",
   "metadata": {},
   "source": [
    "#### A Hybrid Recommendation model has been created\n",
    "#### using the content based and collaborative item-based filtering"
   ]
  },
  {
   "cell_type": "code",
   "execution_count": 1,
   "metadata": {},
   "outputs": [],
   "source": [
    "# Importing all the necessary libraries\n",
    "import numpy as np\n",
    "import pandas as pd\n",
    "from sklearn.metrics import mean_squared_error\n",
    "from sklearn import metrics\n",
    "from math import sqrt\n",
    "from sklearn.metrics import mean_squared_error\n",
    "from sklearn.metrics import mean_absolute_error"
   ]
  },
  {
   "cell_type": "code",
   "execution_count": 2,
   "metadata": {},
   "outputs": [],
   "source": [
    "# Importing the csv data files \n",
    "content_df_test = pd.read_csv('predicted_content_based_test_df.csv',error_bad_lines=False, warn_bad_lines=True)\n",
    "content_df_train = pd.read_csv('train_predict_content_df.csv',error_bad_lines=False, warn_bad_lines=True)\n",
    "\n",
    "coll_item_df_test = pd.read_csv('test_df_cf_item.csv',error_bad_lines=False, warn_bad_lines=True)\n",
    "coll_item_df_train = pd.read_csv('train_df_cf_item.csv',error_bad_lines=False, warn_bad_lines=True)"
   ]
  },
  {
   "cell_type": "code",
   "execution_count": 5,
   "metadata": {},
   "outputs": [
    {
     "data": {
      "text/html": [
       "<div>\n",
       "<style scoped>\n",
       "    .dataframe tbody tr th:only-of-type {\n",
       "        vertical-align: middle;\n",
       "    }\n",
       "\n",
       "    .dataframe tbody tr th {\n",
       "        vertical-align: top;\n",
       "    }\n",
       "\n",
       "    .dataframe thead th {\n",
       "        text-align: right;\n",
       "    }\n",
       "</style>\n",
       "<table border=\"1\" class=\"dataframe\">\n",
       "  <thead>\n",
       "    <tr style=\"text-align: right;\">\n",
       "      <th></th>\n",
       "      <th>userId</th>\n",
       "      <th>movieId</th>\n",
       "      <th>rating</th>\n",
       "      <th>collectionId</th>\n",
       "      <th>collectionName</th>\n",
       "      <th>genres</th>\n",
       "      <th>imdb_id</th>\n",
       "      <th>original_language</th>\n",
       "      <th>overview</th>\n",
       "      <th>popularity</th>\n",
       "      <th>...</th>\n",
       "      <th>status</th>\n",
       "      <th>tagline</th>\n",
       "      <th>title</th>\n",
       "      <th>tmdbId</th>\n",
       "      <th>video</th>\n",
       "      <th>vote_average</th>\n",
       "      <th>vote_count</th>\n",
       "      <th>year</th>\n",
       "      <th>concat_title</th>\n",
       "      <th>predict</th>\n",
       "    </tr>\n",
       "  </thead>\n",
       "  <tbody>\n",
       "    <tr>\n",
       "      <th>0</th>\n",
       "      <td>1</td>\n",
       "      <td>3671</td>\n",
       "      <td>3.0</td>\n",
       "      <td>-99</td>\n",
       "      <td>unknown</td>\n",
       "      <td>Western,Comedy</td>\n",
       "      <td>71230</td>\n",
       "      <td>en</td>\n",
       "      <td>A town – where everyone seems to be named John...</td>\n",
       "      <td>13.233262</td>\n",
       "      <td>...</td>\n",
       "      <td>Released</td>\n",
       "      <td>Never give a saga an even break!</td>\n",
       "      <td>Blazing Saddles</td>\n",
       "      <td>11072</td>\n",
       "      <td>False</td>\n",
       "      <td>7.2</td>\n",
       "      <td>619.0</td>\n",
       "      <td>1974</td>\n",
       "      <td>blazingsaddles3671</td>\n",
       "      <td>2.374382</td>\n",
       "    </tr>\n",
       "    <tr>\n",
       "      <th>1</th>\n",
       "      <td>1</td>\n",
       "      <td>1061</td>\n",
       "      <td>3.0</td>\n",
       "      <td>-99</td>\n",
       "      <td>unknown</td>\n",
       "      <td>Crime,Drama,Thriller</td>\n",
       "      <td>117665</td>\n",
       "      <td>en</td>\n",
       "      <td>Two gangsters seek revenge on the state jail w...</td>\n",
       "      <td>9.198283</td>\n",
       "      <td>...</td>\n",
       "      <td>Released</td>\n",
       "      <td>When friendship runs deeper than blood.</td>\n",
       "      <td>Sleepers</td>\n",
       "      <td>819</td>\n",
       "      <td>False</td>\n",
       "      <td>7.3</td>\n",
       "      <td>729.0</td>\n",
       "      <td>1996</td>\n",
       "      <td>sleepers1061</td>\n",
       "      <td>2.248405</td>\n",
       "    </tr>\n",
       "    <tr>\n",
       "      <th>2</th>\n",
       "      <td>1</td>\n",
       "      <td>2193</td>\n",
       "      <td>2.0</td>\n",
       "      <td>-99</td>\n",
       "      <td>unknown</td>\n",
       "      <td>Adventure,Drama,Action</td>\n",
       "      <td>96446</td>\n",
       "      <td>en</td>\n",
       "      <td>Fearful of a prophecy stating that a girl chil...</td>\n",
       "      <td>9.918312</td>\n",
       "      <td>...</td>\n",
       "      <td>Released</td>\n",
       "      <td>Adventure doesn't come any bigger than this.</td>\n",
       "      <td>Willow</td>\n",
       "      <td>847</td>\n",
       "      <td>False</td>\n",
       "      <td>6.9</td>\n",
       "      <td>484.0</td>\n",
       "      <td>1988</td>\n",
       "      <td>willow2193</td>\n",
       "      <td>2.686465</td>\n",
       "    </tr>\n",
       "    <tr>\n",
       "      <th>3</th>\n",
       "      <td>1</td>\n",
       "      <td>1343</td>\n",
       "      <td>2.0</td>\n",
       "      <td>-99</td>\n",
       "      <td>unknown</td>\n",
       "      <td>Crime,Thriller</td>\n",
       "      <td>101540</td>\n",
       "      <td>en</td>\n",
       "      <td>Sam Bowden is a small-town corporate attorney....</td>\n",
       "      <td>10.302735</td>\n",
       "      <td>...</td>\n",
       "      <td>Released</td>\n",
       "      <td>There is nothing in the dark that isn't there ...</td>\n",
       "      <td>Cape Fear</td>\n",
       "      <td>1598</td>\n",
       "      <td>False</td>\n",
       "      <td>7.0</td>\n",
       "      <td>692.0</td>\n",
       "      <td>1991</td>\n",
       "      <td>capefear1343</td>\n",
       "      <td>2.636384</td>\n",
       "    </tr>\n",
       "    <tr>\n",
       "      <th>4</th>\n",
       "      <td>1</td>\n",
       "      <td>1339</td>\n",
       "      <td>3.5</td>\n",
       "      <td>-99</td>\n",
       "      <td>unknown</td>\n",
       "      <td>Romance,Horror</td>\n",
       "      <td>103874</td>\n",
       "      <td>en</td>\n",
       "      <td>When Dracula leaves the captive Jonathan Harke...</td>\n",
       "      <td>16.777675</td>\n",
       "      <td>...</td>\n",
       "      <td>Released</td>\n",
       "      <td>Love never dies.</td>\n",
       "      <td>Dracula</td>\n",
       "      <td>6114</td>\n",
       "      <td>False</td>\n",
       "      <td>7.1</td>\n",
       "      <td>1087.0</td>\n",
       "      <td>1992</td>\n",
       "      <td>dracula1339</td>\n",
       "      <td>1.892346</td>\n",
       "    </tr>\n",
       "  </tbody>\n",
       "</table>\n",
       "<p>5 rows × 24 columns</p>\n",
       "</div>"
      ],
      "text/plain": [
       "   userId  movieId  rating  collectionId collectionName  \\\n",
       "0       1     3671     3.0           -99        unknown   \n",
       "1       1     1061     3.0           -99        unknown   \n",
       "2       1     2193     2.0           -99        unknown   \n",
       "3       1     1343     2.0           -99        unknown   \n",
       "4       1     1339     3.5           -99        unknown   \n",
       "\n",
       "                   genres  imdb_id original_language  \\\n",
       "0          Western,Comedy    71230                en   \n",
       "1    Crime,Drama,Thriller   117665                en   \n",
       "2  Adventure,Drama,Action    96446                en   \n",
       "3          Crime,Thriller   101540                en   \n",
       "4          Romance,Horror   103874                en   \n",
       "\n",
       "                                            overview  popularity  ...  \\\n",
       "0  A town – where everyone seems to be named John...   13.233262  ...   \n",
       "1  Two gangsters seek revenge on the state jail w...    9.198283  ...   \n",
       "2  Fearful of a prophecy stating that a girl chil...    9.918312  ...   \n",
       "3  Sam Bowden is a small-town corporate attorney....   10.302735  ...   \n",
       "4  When Dracula leaves the captive Jonathan Harke...   16.777675  ...   \n",
       "\n",
       "     status                                            tagline  \\\n",
       "0  Released                   Never give a saga an even break!   \n",
       "1  Released            When friendship runs deeper than blood.   \n",
       "2  Released       Adventure doesn't come any bigger than this.   \n",
       "3  Released  There is nothing in the dark that isn't there ...   \n",
       "4  Released                                   Love never dies.   \n",
       "\n",
       "             title tmdbId  video vote_average vote_count  year  \\\n",
       "0  Blazing Saddles  11072  False          7.2      619.0  1974   \n",
       "1         Sleepers    819  False          7.3      729.0  1996   \n",
       "2           Willow    847  False          6.9      484.0  1988   \n",
       "3        Cape Fear   1598  False          7.0      692.0  1991   \n",
       "4          Dracula   6114  False          7.1     1087.0  1992   \n",
       "\n",
       "         concat_title   predict  \n",
       "0  blazingsaddles3671  2.374382  \n",
       "1        sleepers1061  2.248405  \n",
       "2          willow2193  2.686465  \n",
       "3        capefear1343  2.636384  \n",
       "4         dracula1339  1.892346  \n",
       "\n",
       "[5 rows x 24 columns]"
      ]
     },
     "execution_count": 5,
     "metadata": {},
     "output_type": "execute_result"
    }
   ],
   "source": [
    "content_df_test.head()"
   ]
  },
  {
   "cell_type": "code",
   "execution_count": 18,
   "metadata": {},
   "outputs": [],
   "source": [
    "# Defining the dataframe and storing the predictions from the two models\n",
    "df_train = pd.DataFrame()\n",
    "df_train['content_train'] = content_df_train['prediction']\n",
    "df_train['collab_train'] = coll_item_df_train['predicted_rating']\n",
    "df_train['rating'] = coll_item_df_train['rating']\n",
    "df_train = df_train.dropna()\n",
    "\n",
    "df_test = pd.DataFrame()\n",
    "df_test['content_test'] = content_df_test['predict']\n",
    "df_test['collab_test'] = coll_item_df_test['predicted_rating']\n",
    "df_test['rating'] = coll_item_df_test['rating']\n",
    "df_test = df_test.dropna()\n",
    "\n",
    "x_train = df_train.drop('rating', axis=1).values\n",
    "x_test = df_test.drop('rating', axis=1).values\n",
    "y_train= df_train['rating'].values\n",
    "y_test = df_test['rating'].values"
   ]
  },
  {
   "cell_type": "markdown",
   "metadata": {},
   "source": [
    "### Randomforest Regressor model"
   ]
  },
  {
   "cell_type": "code",
   "execution_count": 53,
   "metadata": {},
   "outputs": [
    {
     "name": "stdout",
     "output_type": "stream",
     "text": [
      "Fitting 5 folds for each of 10 candidates, totalling 50 fits\n",
      "[CV] n_estimators=10, min_samples_split=100, max_leaf_nodes=7, max_depth=7 \n",
      "[CV]  n_estimators=10, min_samples_split=100, max_leaf_nodes=7, max_depth=7, score=0.206, total=   0.1s\n",
      "[CV] n_estimators=10, min_samples_split=100, max_leaf_nodes=7, max_depth=7 \n"
     ]
    },
    {
     "name": "stderr",
     "output_type": "stream",
     "text": [
      "[Parallel(n_jobs=1)]: Using backend SequentialBackend with 1 concurrent workers.\n",
      "[Parallel(n_jobs=1)]: Done   1 out of   1 | elapsed:    0.0s remaining:    0.0s\n"
     ]
    },
    {
     "name": "stdout",
     "output_type": "stream",
     "text": [
      "[CV]  n_estimators=10, min_samples_split=100, max_leaf_nodes=7, max_depth=7, score=0.280, total=   0.1s\n",
      "[CV] n_estimators=10, min_samples_split=100, max_leaf_nodes=7, max_depth=7 \n",
      "[CV]  n_estimators=10, min_samples_split=100, max_leaf_nodes=7, max_depth=7, score=0.196, total=   0.1s\n",
      "[CV] n_estimators=10, min_samples_split=100, max_leaf_nodes=7, max_depth=7 \n"
     ]
    },
    {
     "name": "stderr",
     "output_type": "stream",
     "text": [
      "[Parallel(n_jobs=1)]: Done   2 out of   2 | elapsed:    0.1s remaining:    0.0s\n"
     ]
    },
    {
     "name": "stdout",
     "output_type": "stream",
     "text": [
      "[CV]  n_estimators=10, min_samples_split=100, max_leaf_nodes=7, max_depth=7, score=0.131, total=   0.1s\n",
      "[CV] n_estimators=10, min_samples_split=100, max_leaf_nodes=7, max_depth=7 \n",
      "[CV]  n_estimators=10, min_samples_split=100, max_leaf_nodes=7, max_depth=7, score=0.185, total=   0.1s\n",
      "[CV] n_estimators=10, min_samples_split=300, max_leaf_nodes=7, max_depth=7 \n",
      "[CV]  n_estimators=10, min_samples_split=300, max_leaf_nodes=7, max_depth=7, score=0.209, total=   0.1s\n",
      "[CV] n_estimators=10, min_samples_split=300, max_leaf_nodes=7, max_depth=7 \n",
      "[CV]  n_estimators=10, min_samples_split=300, max_leaf_nodes=7, max_depth=7, score=0.265, total=   0.1s\n",
      "[CV] n_estimators=10, min_samples_split=300, max_leaf_nodes=7, max_depth=7 \n",
      "[CV]  n_estimators=10, min_samples_split=300, max_leaf_nodes=7, max_depth=7, score=0.197, total=   0.1s\n",
      "[CV] n_estimators=10, min_samples_split=300, max_leaf_nodes=7, max_depth=7 \n",
      "[CV]  n_estimators=10, min_samples_split=300, max_leaf_nodes=7, max_depth=7, score=0.128, total=   0.1s\n",
      "[CV] n_estimators=10, min_samples_split=300, max_leaf_nodes=7, max_depth=7 \n",
      "[CV]  n_estimators=10, min_samples_split=300, max_leaf_nodes=7, max_depth=7, score=0.186, total=   0.1s\n",
      "[CV] n_estimators=7, min_samples_split=300, max_leaf_nodes=7, max_depth=6 \n",
      "[CV]  n_estimators=7, min_samples_split=300, max_leaf_nodes=7, max_depth=6, score=0.203, total=   0.1s\n",
      "[CV] n_estimators=7, min_samples_split=300, max_leaf_nodes=7, max_depth=6 \n",
      "[CV]  n_estimators=7, min_samples_split=300, max_leaf_nodes=7, max_depth=6, score=0.263, total=   0.1s\n",
      "[CV] n_estimators=7, min_samples_split=300, max_leaf_nodes=7, max_depth=6 \n",
      "[CV]  n_estimators=7, min_samples_split=300, max_leaf_nodes=7, max_depth=6, score=0.189, total=   0.1s\n",
      "[CV] n_estimators=7, min_samples_split=300, max_leaf_nodes=7, max_depth=6 \n",
      "[CV]  n_estimators=7, min_samples_split=300, max_leaf_nodes=7, max_depth=6, score=0.129, total=   0.1s\n",
      "[CV] n_estimators=7, min_samples_split=300, max_leaf_nodes=7, max_depth=6 \n",
      "[CV]  n_estimators=7, min_samples_split=300, max_leaf_nodes=7, max_depth=6, score=0.187, total=   0.2s\n",
      "[CV] n_estimators=10, min_samples_split=300, max_leaf_nodes=5, max_depth=7 \n",
      "[CV]  n_estimators=10, min_samples_split=300, max_leaf_nodes=5, max_depth=7, score=0.207, total=   0.1s\n",
      "[CV] n_estimators=10, min_samples_split=300, max_leaf_nodes=5, max_depth=7 \n",
      "[CV]  n_estimators=10, min_samples_split=300, max_leaf_nodes=5, max_depth=7, score=0.267, total=   0.1s\n",
      "[CV] n_estimators=10, min_samples_split=300, max_leaf_nodes=5, max_depth=7 \n",
      "[CV]  n_estimators=10, min_samples_split=300, max_leaf_nodes=5, max_depth=7, score=0.200, total=   0.1s\n",
      "[CV] n_estimators=10, min_samples_split=300, max_leaf_nodes=5, max_depth=7 \n",
      "[CV]  n_estimators=10, min_samples_split=300, max_leaf_nodes=5, max_depth=7, score=0.129, total=   0.1s\n",
      "[CV] n_estimators=10, min_samples_split=300, max_leaf_nodes=5, max_depth=7 \n",
      "[CV]  n_estimators=10, min_samples_split=300, max_leaf_nodes=5, max_depth=7, score=0.186, total=   0.1s\n",
      "[CV] n_estimators=10, min_samples_split=300, max_leaf_nodes=4, max_depth=5 \n",
      "[CV]  n_estimators=10, min_samples_split=300, max_leaf_nodes=4, max_depth=5, score=0.208, total=   0.1s\n",
      "[CV] n_estimators=10, min_samples_split=300, max_leaf_nodes=4, max_depth=5 \n",
      "[CV]  n_estimators=10, min_samples_split=300, max_leaf_nodes=4, max_depth=5, score=0.264, total=   0.1s\n",
      "[CV] n_estimators=10, min_samples_split=300, max_leaf_nodes=4, max_depth=5 \n",
      "[CV]  n_estimators=10, min_samples_split=300, max_leaf_nodes=4, max_depth=5, score=0.189, total=   0.1s\n",
      "[CV] n_estimators=10, min_samples_split=300, max_leaf_nodes=4, max_depth=5 \n",
      "[CV]  n_estimators=10, min_samples_split=300, max_leaf_nodes=4, max_depth=5, score=0.128, total=   0.1s\n",
      "[CV] n_estimators=10, min_samples_split=300, max_leaf_nodes=4, max_depth=5 \n",
      "[CV]  n_estimators=10, min_samples_split=300, max_leaf_nodes=4, max_depth=5, score=0.184, total=   0.2s\n",
      "[CV] n_estimators=10, min_samples_split=100, max_leaf_nodes=6, max_depth=6 \n",
      "[CV]  n_estimators=10, min_samples_split=100, max_leaf_nodes=6, max_depth=6, score=0.207, total=   0.2s\n",
      "[CV] n_estimators=10, min_samples_split=100, max_leaf_nodes=6, max_depth=6 \n",
      "[CV]  n_estimators=10, min_samples_split=100, max_leaf_nodes=6, max_depth=6, score=0.279, total=   0.1s\n",
      "[CV] n_estimators=10, min_samples_split=100, max_leaf_nodes=6, max_depth=6 \n",
      "[CV]  n_estimators=10, min_samples_split=100, max_leaf_nodes=6, max_depth=6, score=0.200, total=   0.1s\n",
      "[CV] n_estimators=10, min_samples_split=100, max_leaf_nodes=6, max_depth=6 \n",
      "[CV]  n_estimators=10, min_samples_split=100, max_leaf_nodes=6, max_depth=6, score=0.132, total=   0.2s\n",
      "[CV] n_estimators=10, min_samples_split=100, max_leaf_nodes=6, max_depth=6 \n",
      "[CV]  n_estimators=10, min_samples_split=100, max_leaf_nodes=6, max_depth=6, score=0.185, total=   0.2s\n",
      "[CV] n_estimators=9, min_samples_split=100, max_leaf_nodes=6, max_depth=7 \n",
      "[CV]  n_estimators=9, min_samples_split=100, max_leaf_nodes=6, max_depth=7, score=0.204, total=   0.2s\n",
      "[CV] n_estimators=9, min_samples_split=100, max_leaf_nodes=6, max_depth=7 \n",
      "[CV]  n_estimators=9, min_samples_split=100, max_leaf_nodes=6, max_depth=7, score=0.279, total=   0.1s\n",
      "[CV] n_estimators=9, min_samples_split=100, max_leaf_nodes=6, max_depth=7 \n",
      "[CV]  n_estimators=9, min_samples_split=100, max_leaf_nodes=6, max_depth=7, score=0.200, total=   0.1s\n",
      "[CV] n_estimators=9, min_samples_split=100, max_leaf_nodes=6, max_depth=7 \n",
      "[CV]  n_estimators=9, min_samples_split=100, max_leaf_nodes=6, max_depth=7, score=0.130, total=   0.1s\n",
      "[CV] n_estimators=9, min_samples_split=100, max_leaf_nodes=6, max_depth=7 \n",
      "[CV]  n_estimators=9, min_samples_split=100, max_leaf_nodes=6, max_depth=7, score=0.187, total=   0.1s\n",
      "[CV] n_estimators=8, min_samples_split=100, max_leaf_nodes=4, max_depth=6 \n",
      "[CV]  n_estimators=8, min_samples_split=100, max_leaf_nodes=4, max_depth=6, score=0.206, total=   0.1s\n",
      "[CV] n_estimators=8, min_samples_split=100, max_leaf_nodes=4, max_depth=6 \n",
      "[CV]  n_estimators=8, min_samples_split=100, max_leaf_nodes=4, max_depth=6, score=0.264, total=   0.1s\n",
      "[CV] n_estimators=8, min_samples_split=100, max_leaf_nodes=4, max_depth=6 \n",
      "[CV]  n_estimators=8, min_samples_split=100, max_leaf_nodes=4, max_depth=6, score=0.189, total=   0.1s\n",
      "[CV] n_estimators=8, min_samples_split=100, max_leaf_nodes=4, max_depth=6 \n",
      "[CV]  n_estimators=8, min_samples_split=100, max_leaf_nodes=4, max_depth=6, score=0.125, total=   0.1s\n",
      "[CV] n_estimators=8, min_samples_split=100, max_leaf_nodes=4, max_depth=6 \n",
      "[CV]  n_estimators=8, min_samples_split=100, max_leaf_nodes=4, max_depth=6, score=0.182, total=   0.1s\n",
      "[CV] n_estimators=8, min_samples_split=200, max_leaf_nodes=7, max_depth=7 \n",
      "[CV]  n_estimators=8, min_samples_split=200, max_leaf_nodes=7, max_depth=7, score=0.202, total=   0.1s\n",
      "[CV] n_estimators=8, min_samples_split=200, max_leaf_nodes=7, max_depth=7 \n",
      "[CV]  n_estimators=8, min_samples_split=200, max_leaf_nodes=7, max_depth=7, score=0.277, total=   0.1s\n",
      "[CV] n_estimators=8, min_samples_split=200, max_leaf_nodes=7, max_depth=7 \n",
      "[CV]  n_estimators=8, min_samples_split=200, max_leaf_nodes=7, max_depth=7, score=0.192, total=   0.1s\n",
      "[CV] n_estimators=8, min_samples_split=200, max_leaf_nodes=7, max_depth=7 \n",
      "[CV]  n_estimators=8, min_samples_split=200, max_leaf_nodes=7, max_depth=7, score=0.128, total=   0.1s\n",
      "[CV] n_estimators=8, min_samples_split=200, max_leaf_nodes=7, max_depth=7 \n",
      "[CV]  n_estimators=8, min_samples_split=200, max_leaf_nodes=7, max_depth=7, score=0.188, total=   0.1s\n",
      "[CV] n_estimators=8, min_samples_split=300, max_leaf_nodes=7, max_depth=6 \n",
      "[CV]  n_estimators=8, min_samples_split=300, max_leaf_nodes=7, max_depth=6, score=0.203, total=   0.1s\n",
      "[CV] n_estimators=8, min_samples_split=300, max_leaf_nodes=7, max_depth=6 \n",
      "[CV]  n_estimators=8, min_samples_split=300, max_leaf_nodes=7, max_depth=6, score=0.264, total=   0.1s\n",
      "[CV] n_estimators=8, min_samples_split=300, max_leaf_nodes=7, max_depth=6 \n",
      "[CV]  n_estimators=8, min_samples_split=300, max_leaf_nodes=7, max_depth=6, score=0.193, total=   0.1s\n",
      "[CV] n_estimators=8, min_samples_split=300, max_leaf_nodes=7, max_depth=6 \n",
      "[CV]  n_estimators=8, min_samples_split=300, max_leaf_nodes=7, max_depth=6, score=0.130, total=   0.1s\n",
      "[CV] n_estimators=8, min_samples_split=300, max_leaf_nodes=7, max_depth=6 \n",
      "[CV]  n_estimators=8, min_samples_split=300, max_leaf_nodes=7, max_depth=6, score=0.187, total=   0.1s\n"
     ]
    },
    {
     "name": "stderr",
     "output_type": "stream",
     "text": [
      "[Parallel(n_jobs=1)]: Done  50 out of  50 | elapsed:    5.4s finished\n"
     ]
    }
   ],
   "source": [
    "from sklearn.ensemble import RandomForestRegressor\n",
    "from sklearn.model_selection import RandomizedSearchCV\n",
    "grid_param = {'n_estimators': [7,8,9,10,12,15], 'max_depth':  [5,6,7], \\\n",
    "              'min_samples_split': [100,200,300], 'max_leaf_nodes': [4,5,6,7]}\n",
    "regr = RandomForestRegressor(random_state=0)\n",
    "regr_hypertuned = RandomizedSearchCV(estimator = regr, param_distributions = grid_param, cv=5, verbose = 3, random_state= 42 )\n",
    "regr_hypertuned.fit(x_train, y_train)\n",
    "\n",
    "pred = regr_hypertuned.predict(x_test) #make prediction on test set\n",
    "\n",
    "error = sqrt(mean_squared_error(y_test, pred)) #calculate rmse\n",
    "\n",
    "mae = round(mean_absolute_error(y_test, pred))\n"
   ]
  },
  {
   "cell_type": "code",
   "execution_count": 54,
   "metadata": {},
   "outputs": [
    {
     "data": {
      "text/plain": [
       "{'n_estimators': 10,\n",
       " 'min_samples_split': 100,\n",
       " 'max_leaf_nodes': 6,\n",
       " 'max_depth': 6}"
      ]
     },
     "execution_count": 54,
     "metadata": {},
     "output_type": "execute_result"
    }
   ],
   "source": [
    "regr_hypertuned.best_params_"
   ]
  },
  {
   "cell_type": "code",
   "execution_count": 55,
   "metadata": {},
   "outputs": [
    {
     "name": "stdout",
     "output_type": "stream",
     "text": [
      "RMSE value is: 0.9376730044321864\n",
      "Mean Absolute Error is: 1.0\n"
     ]
    }
   ],
   "source": [
    "print('RMSE value is:', error)\n",
    "print('Mean Absolute Error is:',mae)"
   ]
  },
  {
   "cell_type": "markdown",
   "metadata": {},
   "source": [
    "### K-Nearest Neighbor Regressor Model"
   ]
  },
  {
   "cell_type": "code",
   "execution_count": 29,
   "metadata": {},
   "outputs": [
    {
     "name": "stdout",
     "output_type": "stream",
     "text": [
      "RMSE value for k= 20 is: 0.9752251450088467\n",
      "Mean Absolute Error for k= 20 is: 1.0\n",
      "RMSE value for k= 25 is: 0.9703039915745858\n",
      "Mean Absolute Error for k= 25 is: 1.0\n",
      "RMSE value for k= 30 is: 0.967824734139702\n",
      "Mean Absolute Error for k= 30 is: 1.0\n"
     ]
    }
   ],
   "source": [
    "from sklearn import neighbors\n",
    "from sklearn.metrics import mean_squared_error \n",
    "from math import sqrt\n",
    "\n",
    "K_list = [20,25,30]\n",
    "for i in range(len(K_list)):\n",
    "    model = neighbors.KNeighborsRegressor(n_neighbors = K_list[i])\n",
    "    model.fit(x_train, y_train)  #fit the model\n",
    "    pred = model.predict(x_test) #make prediction on test set\n",
    "\n",
    "    error = sqrt(mean_squared_error(y_test, pred)) #calculate rmse\n",
    "    print('RMSE value for k=' , K_list[i] , 'is:', error)\n",
    "    mae = round(mean_absolute_error(y_test, pred))\n",
    "    print('Mean Absolute Error for k=' , K_list[i], 'is:',mae)"
   ]
  },
  {
   "cell_type": "markdown",
   "metadata": {},
   "source": [
    "## Best Performance is with the Randomforest Model\n",
    "### RMSE value for is: 0.937\n",
    "### Mean Absolute Error: 1.0"
   ]
  },
  {
   "cell_type": "code",
   "execution_count": 56,
   "metadata": {},
   "outputs": [],
   "source": [
    "# Storing the model in pickle file\n",
    "import pickle\n",
    "\n",
    "pkl_filename = \"hybrid_collaborative-item_content.pkl\"\n",
    "with open(pkl_filename, 'wb') as file:\n",
    "    pickle.dump(regr_hypertuned, file)"
   ]
  },
  {
   "cell_type": "code",
   "execution_count": 57,
   "metadata": {},
   "outputs": [],
   "source": [
    "with open('hybrid_collaborative-item_content.pkl', 'rb') as file:\n",
    "    pickle_model = pickle.load(file)\n",
    "    \n",
    "\n",
    "Ypredict = pickle_model.predict(x_test)"
   ]
  },
  {
   "cell_type": "code",
   "execution_count": 58,
   "metadata": {},
   "outputs": [
    {
     "data": {
      "text/plain": [
       "array([2.76421811, 2.76421811, 2.659185  , ..., 3.8955736 , 3.70739723,\n",
       "       3.65133913])"
      ]
     },
     "execution_count": 58,
     "metadata": {},
     "output_type": "execute_result"
    }
   ],
   "source": [
    "Ypredict"
   ]
  },
  {
   "cell_type": "code",
   "execution_count": null,
   "metadata": {},
   "outputs": [],
   "source": []
  }
 ],
 "metadata": {
  "kernelspec": {
   "display_name": "Python 3",
   "language": "python",
   "name": "python3"
  },
  "language_info": {
   "codemirror_mode": {
    "name": "ipython",
    "version": 3
   },
   "file_extension": ".py",
   "mimetype": "text/x-python",
   "name": "python",
   "nbconvert_exporter": "python",
   "pygments_lexer": "ipython3",
   "version": "3.7.6"
  }
 },
 "nbformat": 4,
 "nbformat_minor": 4
}
