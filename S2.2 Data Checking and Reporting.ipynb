{
 "cells": [
  {
   "cell_type": "markdown",
   "metadata": {},
   "source": [
    "COS80024\n",
    "\n",
    "DATA SCIENCE PROJECT 1\n",
    "\n",
    "PROJECT 4: MOVIE RECOMMENDATION SYSTEM\n",
    "\n",
    "# S2.2: Data Checking and Reporting (Executor: Nakib)\n",
    "\n",
    "This task aims to have basic understanding about the dataset and report important findings\n",
    "\n",
    "Task Leader: Nakib"
   ]
  },
  {
   "cell_type": "code",
   "execution_count": 1,
   "metadata": {},
   "outputs": [
    {
     "name": "stdout",
     "output_type": "stream",
     "text": [
      "Collecting package metadata (current_repodata.json): ...working... done\n",
      "Solving environment: ...working... done\n",
      "\n",
      "## Package Plan ##\n",
      "\n",
      "  environment location: C:\\Users\\Promita\\anaconda3\n",
      "\n",
      "  added / updated specs:\n",
      "    - xlrd\n",
      "\n",
      "\n",
      "The following packages will be downloaded:\n",
      "\n",
      "    package                    |            build\n",
      "    ---------------------------|-----------------\n",
      "    conda-4.9.0                |           py38_0         2.9 MB\n",
      "    ------------------------------------------------------------\n",
      "                                           Total:         2.9 MB\n",
      "\n",
      "The following packages will be UPDATED:\n",
      "\n",
      "  conda              conda-forge::conda-4.8.5-py38h9bdc248~ --> pkgs/main::conda-4.9.0-py38_0\n",
      "\n",
      "\n",
      "\n",
      "Downloading and Extracting Packages\n",
      "\n",
      "conda-4.9.0          | 2.9 MB    |            |   0% \n",
      "conda-4.9.0          | 2.9 MB    | #6         |  16% \n",
      "conda-4.9.0          | 2.9 MB    | #####8     |  59% \n",
      "conda-4.9.0          | 2.9 MB    | ########## | 100% \n",
      "conda-4.9.0          | 2.9 MB    | ########## | 100% \n",
      "Preparing transaction: ...working... done\n",
      "Verifying transaction: ...working... done\n",
      "Executing transaction: ...working... done\n"
     ]
    }
   ],
   "source": [
    "#Importing Necessary Modules\n",
    "\n",
    "import numpy as np\n",
    "import pandas as pd\n",
    "import matplotlib.pyplot as plt\n",
    "import scipy.stats\n",
    "import sys\n",
    "!conda install --yes --prefix {sys.prefix} xlrd"
   ]
  },
  {
   "cell_type": "markdown",
   "metadata": {},
   "source": [
    "# The required datasets are uploaded as dataframes."
   ]
  },
  {
   "cell_type": "code",
   "execution_count": 2,
   "metadata": {},
   "outputs": [
    {
     "name": "stderr",
     "output_type": "stream",
     "text": [
      "C:\\Users\\Promita\\anaconda3\\lib\\site-packages\\IPython\\core\\interactiveshell.py:3071: DtypeWarning: Columns (10) have mixed types.Specify dtype option on import or set low_memory=False.\n",
      "  has_raised = await self.run_ast_nodes(code_ast.body, cell_name,\n"
     ]
    }
   ],
   "source": [
    "#Loading the files\n",
    "\n",
    "#Loading files\n",
    "\n",
    "#File 1: uploading the file \"movies_metadata\"\n",
    "metadata = pd.read_csv('movies_metadata.csv')\n",
    "\n",
    "#File 2: uploading the file \"datasets_links_small\"\n",
    "links = pd.read_csv('datasets_links_small.csv')\n",
    "\n",
    "#File 3: uploading the file \"ratings_small\"\n",
    "ratings = pd.read_csv('ratings_small.csv')"
   ]
  },
  {
   "cell_type": "markdown",
   "metadata": {},
   "source": [
    "# Checking metadata:"
   ]
  },
  {
   "cell_type": "code",
   "execution_count": 3,
   "metadata": {},
   "outputs": [
    {
     "name": "stdout",
     "output_type": "stream",
     "text": [
      "Shape\n",
      "(45466, 24)\n"
     ]
    }
   ],
   "source": [
    "print(\"Shape\")\n",
    "print(metadata.shape)"
   ]
  },
  {
   "cell_type": "code",
   "execution_count": 4,
   "metadata": {},
   "outputs": [
    {
     "name": "stdout",
     "output_type": "stream",
     "text": [
      "Column Headers\n",
      "adult\n",
      "belongs_to_collection\n",
      "budget\n",
      "genres\n",
      "homepage\n",
      "id\n",
      "imdb_id\n",
      "original_language\n",
      "original_title\n",
      "overview\n",
      "popularity\n",
      "poster_path\n",
      "production_companies\n",
      "production_countries\n",
      "release_date\n",
      "revenue\n",
      "runtime\n",
      "spoken_languages\n",
      "status\n",
      "tagline\n",
      "title\n",
      "video\n",
      "vote_average\n",
      "vote_count\n"
     ]
    }
   ],
   "source": [
    "print('Column Headers')\n",
    "for col in metadata.columns:\n",
    "    print(col)"
   ]
  },
  {
   "cell_type": "markdown",
   "metadata": {},
   "source": [
    "Features\n",
    "\n",
    "adult: Indicates if the movie is X-Rated or Adult.\n",
    "\n",
    "belongs_to_collection: A stringified dictionary that gives information on the movie series the particular film belongs to.\n",
    "\n",
    "budget: The budget of the movie in dollars.\n",
    "\n",
    "genres: A stringified list of dictionaries that list out all the genres associated with the movie.\n",
    "\n",
    "homepage: The Official Homepage of the move.\n",
    "\n",
    "id: The ID of the move.\n",
    "\n",
    "imdb_id: The IMDB ID of the movie.\n",
    "\n",
    "original_language: The language in which the movie was originally shot in.\n",
    "\n",
    "original_title: The original title of the movie.\n",
    "\n",
    "overview: A brief blurb of the movie.\n",
    "    \n",
    "popularity: The Popularity Score assigned by TMDB.\n",
    "\n",
    "poster_path: The URL of the poster image.\n",
    "\n",
    "production_companies: A stringified list of production companies involved with the making of the movie.\n",
    "\n",
    "production_countries: A stringified list of countries where the movie was shot/produced in.\n",
    "\n",
    "release_date: Theatrical Release Date of the movie.\n",
    "\n",
    "revenue: The total revenue of the movie in dollars.\n",
    "\n",
    "runtime: The runtime of the movie in minutes.\n",
    "\n",
    "spoken_languages: A stringified list of spoken languages in the film.\n",
    "\n",
    "status: The status of the movie (Released, To Be Released, Announced, etc.)\n",
    "\n",
    "tagline: The tagline of the movie.\n",
    "\n",
    "title: The Official Title of the movie.\n",
    "\n",
    "video: Indicates if there is a video present of the movie with TMDB.\n",
    "\n",
    "vote_average: The average rating of the movie.\n",
    "\n",
    "vote_count: The number of votes by users, as counted by TMDB."
   ]
  },
  {
   "cell_type": "code",
   "execution_count": 5,
   "metadata": {},
   "outputs": [
    {
     "name": "stdout",
     "output_type": "stream",
     "text": [
      "Null Values\n",
      "adult                        0\n",
      "belongs_to_collection    40972\n",
      "budget                       0\n",
      "genres                       0\n",
      "homepage                 37684\n",
      "id                           0\n",
      "imdb_id                     17\n",
      "original_language           11\n",
      "original_title               0\n",
      "overview                   954\n",
      "popularity                   5\n",
      "poster_path                386\n",
      "production_companies         3\n",
      "production_countries         3\n",
      "release_date                87\n",
      "revenue                      6\n",
      "runtime                    263\n",
      "spoken_languages             6\n",
      "status                      87\n",
      "tagline                  25054\n",
      "title                        6\n",
      "video                        6\n",
      "vote_average                 6\n",
      "vote_count                   6\n",
      "dtype: int64\n"
     ]
    }
   ],
   "source": [
    "print(\"Null Values\")\n",
    "print(metadata.isna().sum())"
   ]
  },
  {
   "cell_type": "code",
   "execution_count": 6,
   "metadata": {},
   "outputs": [
    {
     "name": "stdout",
     "output_type": "stream",
     "text": [
      "IDs with Duplicates\n",
      "adult                    13\n",
      "belongs_to_collection     0\n",
      "budget                   13\n",
      "genres                   13\n",
      "homepage                  2\n",
      "id                       13\n",
      "imdb_id                  13\n",
      "original_language        13\n",
      "original_title           13\n",
      "overview                 13\n",
      "popularity               13\n",
      "poster_path              13\n",
      "production_companies     13\n",
      "production_countries     13\n",
      "release_date             13\n",
      "revenue                  13\n",
      "runtime                  13\n",
      "spoken_languages         13\n",
      "status                   13\n",
      "tagline                   4\n",
      "title                    13\n",
      "video                    13\n",
      "vote_average             13\n",
      "vote_count               13\n",
      "dtype: int64\n"
     ]
    }
   ],
   "source": [
    "print(\"IDs with Duplicates\")\n",
    "bool_series = metadata.duplicated()\n",
    "print(metadata[bool_series].count())"
   ]
  },
  {
   "cell_type": "code",
   "execution_count": 7,
   "metadata": {},
   "outputs": [
    {
     "data": {
      "text/plain": [
       "adult                        5\n",
       "belongs_to_collection     1698\n",
       "budget                    1226\n",
       "genres                    4069\n",
       "homepage                  7673\n",
       "id                       45436\n",
       "imdb_id                  45417\n",
       "original_language           92\n",
       "original_title           43373\n",
       "overview                 44307\n",
       "popularity               44176\n",
       "poster_path              45024\n",
       "production_companies     22708\n",
       "production_countries      2393\n",
       "release_date             17336\n",
       "revenue                   6863\n",
       "runtime                    353\n",
       "spoken_languages          1931\n",
       "status                       6\n",
       "tagline                  20283\n",
       "title                    42277\n",
       "video                        2\n",
       "vote_average                92\n",
       "vote_count                1820\n",
       "dtype: int64"
      ]
     },
     "execution_count": 7,
     "metadata": {},
     "output_type": "execute_result"
    }
   ],
   "source": [
    "metadata.nunique()"
   ]
  },
  {
   "cell_type": "code",
   "execution_count": 8,
   "metadata": {},
   "outputs": [
    {
     "data": {
      "text/plain": [
       "array([\"{'id': 10194, 'name': 'Toy Story Collection', 'poster_path': '/7G9915LfUQ2lVfwMEEhDsn3kT4B.jpg', 'backdrop_path': '/9FBwqcd9IRruEDUrTdcaafOMKUq.jpg'}\",\n",
       "       nan,\n",
       "       \"{'id': 119050, 'name': 'Grumpy Old Men Collection', 'poster_path': '/nLvUdqgPgm3F85NMCii9gVFUcet.jpg', 'backdrop_path': '/hypTnLot2z8wpFS7qwsQHW1uV8u.jpg'}\",\n",
       "       ...,\n",
       "       \"{'id': 148603, 'name': 'Ducobu Collection', 'poster_path': '/rd7AWZUy2QFPIblNWToVmdfXQcA.jpg', 'backdrop_path': '/7mzKmoIrvGapvsSbAVlX4HtCnFj.jpg'}\",\n",
       "       \"{'id': 152918, 'name': 'Mister Blot Collection', 'poster_path': '/44PYEwwjGts8pAob59RHd6zlkKc.jpg', 'backdrop_path': '/5uoPsNiFpUYNamSGqE8okN27VRK.jpg'}\",\n",
       "       \"{'id': 200641, 'name': 'Red Lotus Collection', 'poster_path': '/yf9Eod9ANXyHTzDpAxz9ezgvlL4.jpg', 'backdrop_path': '/3fhHbLeO3DqdHvgHg5szs399eBb.jpg'}\"],\n",
       "      dtype=object)"
      ]
     },
     "execution_count": 8,
     "metadata": {},
     "output_type": "execute_result"
    }
   ],
   "source": [
    "metadata['belongs_to_collection'].unique()"
   ]
  },
  {
   "cell_type": "code",
   "execution_count": 9,
   "metadata": {},
   "outputs": [
    {
     "name": "stdout",
     "output_type": "stream",
     "text": [
      "['30000000' '65000000' '0' ... '3417000' '25868826' '1254040']\n",
      "36573\n",
      "budget\n",
      "/ff9qCepilowshEtG2GYWwzt2bs4.jpg        1\n",
      "/zV8bHuSL6WXoD6FWogP9j4x80bL.jpg        1\n",
      "/zaSf5OG7V8X8gqFvly88zDdRm46.jpg        1\n",
      "0                                   36553\n",
      "1                                      25\n",
      "                                    ...  \n",
      "9900000                                 2\n",
      "99000000                                1\n",
      "994000                                  1\n",
      "996519                                  1\n",
      "998000                                  1\n",
      "Name: id, Length: 1226, dtype: int64\n"
     ]
    }
   ],
   "source": [
    "print(metadata['budget'].unique())\n",
    "print((metadata.budget == '0').sum())\n",
    "budget_sort = metadata.sort_values(by= 'budget')\n",
    "print(budget_sort.groupby('budget')['id'].nunique())"
   ]
  },
  {
   "cell_type": "code",
   "execution_count": 10,
   "metadata": {},
   "outputs": [
    {
     "data": {
      "text/plain": [
       "genres\n",
       "[]                                                                                                                                                                                                                 2442\n",
       "[{'id': 10402, 'name': 'Music'}, {'id': 10749, 'name': 'Romance'}, {'id': 10751, 'name': 'Family'}, {'id': 14, 'name': 'Fantasy'}]                                                                                    1\n",
       "[{'id': 10402, 'name': 'Music'}, {'id': 10749, 'name': 'Romance'}, {'id': 10751, 'name': 'Family'}]                                                                                                                   2\n",
       "[{'id': 10402, 'name': 'Music'}, {'id': 10749, 'name': 'Romance'}, {'id': 10752, 'name': 'War'}]                                                                                                                      1\n",
       "[{'id': 10402, 'name': 'Music'}, {'id': 10749, 'name': 'Romance'}, {'id': 14, 'name': 'Fantasy'}]                                                                                                                     1\n",
       "                                                                                                                                                                                                                   ... \n",
       "[{'id': 99, 'name': 'Documentary'}, {'id': 9648, 'name': 'Mystery'}]                                                                                                                                                  4\n",
       "[{'id': 99, 'name': 'Documentary'}]                                                                                                                                                                                2721\n",
       "[{'name': 'Aniplex', 'id': 2883}, {'name': 'GoHands', 'id': 7759}, {'name': 'BROSTA TV', 'id': 7760}, {'name': 'Mardock Scramble Production Committee', 'id': 7761}, {'name': 'Sentai Filmworks', 'id': 33751}]       1\n",
       "[{'name': 'Carousel Productions', 'id': 11176}, {'name': 'Vision View Entertainment', 'id': 11602}, {'name': 'Telescene Film Group Productions', 'id': 29812}]                                                        1\n",
       "[{'name': 'Odyssey Media', 'id': 17161}, {'name': 'Pulser Productions', 'id': 18012}, {'name': 'Rogue State', 'id': 18013}, {'name': 'The Cartel', 'id': 23822}]                                                      1\n",
       "Name: id, Length: 4069, dtype: int64"
      ]
     },
     "execution_count": 10,
     "metadata": {},
     "output_type": "execute_result"
    }
   ],
   "source": [
    "metadata.groupby('genres')['id'].nunique()"
   ]
  },
  {
   "cell_type": "code",
   "execution_count": 11,
   "metadata": {},
   "outputs": [
    {
     "data": {
      "text/plain": [
       "array(['en', 'fr', 'zh', 'it', 'fa', 'nl', 'de', 'cn', 'ar', 'es', 'ru',\n",
       "       'sv', 'ja', 'ko', 'sr', 'bn', 'he', 'pt', 'wo', 'ro', 'hu', 'cy',\n",
       "       'vi', 'cs', 'da', 'no', 'nb', 'pl', 'el', 'sh', 'xx', 'mk', 'bo',\n",
       "       'ca', 'fi', 'th', 'sk', 'bs', 'hi', 'tr', 'is', 'ps', 'ab', 'eo',\n",
       "       'ka', 'mn', 'bm', 'zu', 'uk', 'af', 'la', 'et', 'ku', 'fy', 'lv',\n",
       "       'ta', 'sl', 'tl', 'ur', 'rw', 'id', 'bg', 'mr', 'lt', 'kk', 'ms',\n",
       "       'sq', nan, '104.0', 'qu', 'te', 'am', 'jv', 'tg', 'ml', 'hr', 'lo',\n",
       "       'ay', 'kn', 'eu', 'ne', 'pa', 'ky', 'gl', '68.0', 'uz', 'sm', 'mt',\n",
       "       '82.0', 'hy', 'iu', 'lb', 'si'], dtype=object)"
      ]
     },
     "execution_count": 11,
     "metadata": {},
     "output_type": "execute_result"
    }
   ],
   "source": [
    "metadata['original_language'].unique()"
   ]
  },
  {
   "cell_type": "code",
   "execution_count": 12,
   "metadata": {},
   "outputs": [
    {
     "data": {
      "text/plain": [
       "No overview found.                                                                                                                                                                                                                                                                                                                                                                                                                                                                                                                                                                133\n",
       "No Overview                                                                                                                                                                                                                                                                                                                                                                                                                                                                                                                                                                         7\n",
       "                                                                                                                                                                                                                                                                                                                                                                                                                                                                                                                                                                                    5\n",
       "Recovering from a nail gun shot to the head and 13 months of coma, doctor Pekka Valinta starts to unravel the mystery of his past, still suffering from total amnesia.                                                                                                                                                                                                                                                                                                                                                                                                              3\n",
       "A few funny little novels about different aspects of life.                                                                                                                                                                                                                                                                                                                                                                                                                                                                                                                          3\n",
       "                                                                                                                                                                                                                                                                                                                                                                                                                                                                                                                                                                                 ... \n",
       "Young Cedric (Ceddie) Errol and his widowed mother (known only as \"Dearest\") live in genteel poverty in 1880s Brooklyn after the death of his father. Cedric's grandfather, the Earl of Dorincourt, has long ago disowned his son for marrying an American. But after the death of the Earl's remaining son, he decides to accept the little Cedric as Lord Fauntleroy, his heir.                                                                                                                                                                                                   1\n",
       "Portland book editor Natalie Holland has chosen the wrong guy – another underachiever – once again. With her life going nowhere fast, she accepts a job offer from publisher and friend Avery Goldstein and moves to Los Angeles.  A woman of depth and principle, Portland chic Natalie is a fish out of water in LA. Things only get worse when she learns she’s been hired to edit the latest romance novel from bestselling author Beverly Wilcox, a powerful, glamorous and intimidating figure straight out of \"The Devil Wears Prada\".                                       1\n",
       "A barren soundstage is stylishly utilized to create a minimalist small-town setting in which a mysterious woman named Grace hides from the criminals who pursue her. The town is two-faced and offers to harbor Grace as long as she can make it worth their effort, so Grace works hard under the employ of various townspeople to win their favor. Tensions flare, however, and Grace's status as a helpless outsider provokes vicious contempt and abuse from the citizens of Dogville.                                                                                          1\n",
       "Disturbing the Peace follows a group of former enemy combatants - Israeli soldiers from the most elite units, and Palestinian fighters, many of whom served years in prison - who have come together to challenge the status quo and and say “enough\".  The film traces their transformational journeys from soldiers committed to armed battle to non-violent peace activists.  It is a story of the human potential unleashed when we stop participating in a story that no longer serves us, and with the power of our convictions take action to create a new possibility.      1\n",
       "An anonymous hacker has hacked all of Paris' cameras and observes the city unbeknownst to its inhabitants. Petty crimes and moments of stolen intimacy, he sees everything. Until the day that an explosion lays wasted to the Gare d'Austerlitz. The police starts tracking down an Al Queda satellite group. The hacker succeeds in finding images of the explosion and discovers that it was a young couple who planted the bomb. Using the city's cameras, he decides to hunt down the criminals.                                                                               1\n",
       "Name: overview, Length: 44307, dtype: int64"
      ]
     },
     "execution_count": 12,
     "metadata": {},
     "output_type": "execute_result"
    }
   ],
   "source": [
    "metadata['overview'].value_counts(ascending=False)"
   ]
  },
  {
   "cell_type": "code",
   "execution_count": 13,
   "metadata": {},
   "outputs": [
    {
     "data": {
      "text/plain": [
       "count     45461\n",
       "unique    44176\n",
       "top         0.0\n",
       "freq         34\n",
       "Name: popularity, dtype: object"
      ]
     },
     "execution_count": 13,
     "metadata": {},
     "output_type": "execute_result"
    }
   ],
   "source": [
    "metadata['popularity'].describe()"
   ]
  },
  {
   "cell_type": "code",
   "execution_count": 14,
   "metadata": {},
   "outputs": [
    {
     "data": {
      "text/plain": [
       "[]                                                                                                                                                                                                                                             11875\n",
       "[{'name': 'Metro-Goldwyn-Mayer (MGM)', 'id': 8411}]                                                                                                                                                                                              742\n",
       "[{'name': 'Warner Bros.', 'id': 6194}]                                                                                                                                                                                                           540\n",
       "[{'name': 'Paramount Pictures', 'id': 4}]                                                                                                                                                                                                        505\n",
       "[{'name': 'Twentieth Century Fox Film Corporation', 'id': 306}]                                                                                                                                                                                  439\n",
       "                                                                                                                                                                                                                                               ...  \n",
       "[{'name': 'Ameland Films', 'id': 64038}, {'name': 'Quadrant Motion Pictures', 'id': 64040}, {'name': 'Lawrence & Holloman Productions', 'id': 64041}]                                                                                              1\n",
       "[{'name': 'Yari Film Group', 'id': 2448}, {'name': 'Archer Entertainment', 'id': 3577}]                                                                                                                                                            1\n",
       "[{'name': 'Arte', 'id': 201}, {'name': 'Canal+', 'id': 5358}, {'name': 'Bayerischer Rundfunk (BR)', 'id': 7333}, {'name': 'Bavaria Film International', 'id': 11731}, {'name': 'Centre National de la Cinématographie (CNC)', 'id': 18367}]        1\n",
       "[{'name': 'Mezhrabpomfilm', 'id': 8970}, {'name': 'Azerfilm', 'id': 69475}]                                                                                                                                                                        1\n",
       "[{'name': 'A&E Television Networks', 'id': 11858}]                                                                                                                                                                                                 1\n",
       "Name: production_companies, Length: 22708, dtype: int64"
      ]
     },
     "execution_count": 14,
     "metadata": {},
     "output_type": "execute_result"
    }
   ],
   "source": [
    "metadata['production_companies'].value_counts(ascending=False)"
   ]
  },
  {
   "cell_type": "code",
   "execution_count": 15,
   "metadata": {},
   "outputs": [
    {
     "data": {
      "text/plain": [
       "[{'iso_3166_1': 'US', 'name': 'United States of America'}]                                                                                                                                                                                                           17851\n",
       "[]                                                                                                                                                                                                                                                                    6282\n",
       "[{'iso_3166_1': 'GB', 'name': 'United Kingdom'}]                                                                                                                                                                                                                      2238\n",
       "[{'iso_3166_1': 'FR', 'name': 'France'}]                                                                                                                                                                                                                              1654\n",
       "[{'iso_3166_1': 'JP', 'name': 'Japan'}]                                                                                                                                                                                                                               1356\n",
       "                                                                                                                                                                                                                                                                     ...  \n",
       "[{'iso_3166_1': 'CA', 'name': 'Canada'}, {'iso_3166_1': 'CL', 'name': 'Chile'}, {'iso_3166_1': 'US', 'name': 'United States of America'}]                                                                                                                                1\n",
       "[{'iso_3166_1': 'AR', 'name': 'Argentina'}, {'iso_3166_1': 'ES', 'name': 'Spain'}, {'iso_3166_1': 'FR', 'name': 'France'}]                                                                                                                                               1\n",
       "[{'iso_3166_1': 'TH', 'name': 'Thailand'}, {'iso_3166_1': 'AT', 'name': 'Austria'}, {'iso_3166_1': 'FR', 'name': 'France'}]                                                                                                                                              1\n",
       "[{'iso_3166_1': 'FR', 'name': 'France'}, {'iso_3166_1': 'CZ', 'name': 'Czech Republic'}, {'iso_3166_1': 'DK', 'name': 'Denmark'}, {'iso_3166_1': 'DE', 'name': 'Germany'}, {'iso_3166_1': 'IT', 'name': 'Italy'}, {'iso_3166_1': 'GB', 'name': 'United Kingdom'}]        1\n",
       "[{'iso_3166_1': 'SE', 'name': 'Sweden'}, {'iso_3166_1': 'PL', 'name': 'Poland'}]                                                                                                                                                                                         1\n",
       "Name: production_countries, Length: 2393, dtype: int64"
      ]
     },
     "execution_count": 15,
     "metadata": {},
     "output_type": "execute_result"
    }
   ],
   "source": [
    "metadata['production_countries'].value_counts(ascending=False)"
   ]
  },
  {
   "cell_type": "code",
   "execution_count": 16,
   "metadata": {},
   "outputs": [
    {
     "data": {
      "text/plain": [
       "2008-01-01    136\n",
       "2009-01-01    121\n",
       "2007-01-01    118\n",
       "2005-01-01    111\n",
       "2006-01-01    101\n",
       "             ... \n",
       "1956-04-13      1\n",
       "1955-11-03      1\n",
       "2003-03-01      1\n",
       "2002-12-24      1\n",
       "1984-01-03      1\n",
       "Name: release_date, Length: 17336, dtype: int64"
      ]
     },
     "execution_count": 16,
     "metadata": {},
     "output_type": "execute_result"
    }
   ],
   "source": [
    "metadata['release_date'].value_counts(ascending=False)"
   ]
  },
  {
   "cell_type": "code",
   "execution_count": 17,
   "metadata": {},
   "outputs": [
    {
     "name": "stdout",
     "output_type": "stream",
     "text": [
      "count    4.546000e+04\n",
      "mean     1.120935e+07\n",
      "std      6.433225e+07\n",
      "min      0.000000e+00\n",
      "25%      0.000000e+00\n",
      "50%      0.000000e+00\n",
      "75%      0.000000e+00\n",
      "max      2.787965e+09\n",
      "Name: revenue, dtype: float64\n"
     ]
    },
    {
     "data": {
      "text/plain": [
       "0.0            38052\n",
       "12000000.0        20\n",
       "10000000.0        19\n",
       "11000000.0        19\n",
       "2000000.0         18\n",
       "               ...  \n",
       "245724603.0        1\n",
       "12212123.0         1\n",
       "8203235.0          1\n",
       "25900.0            1\n",
       "12032983.0         1\n",
       "Name: revenue, Length: 6863, dtype: int64"
      ]
     },
     "execution_count": 17,
     "metadata": {},
     "output_type": "execute_result"
    }
   ],
   "source": [
    "print(metadata['revenue'].describe(include='all'))\n",
    "metadata['revenue'].value_counts(ascending=False)"
   ]
  },
  {
   "cell_type": "code",
   "execution_count": 18,
   "metadata": {},
   "outputs": [
    {
     "name": "stdout",
     "output_type": "stream",
     "text": [
      "count    45203.000000\n",
      "mean        94.128199\n",
      "std         38.407810\n",
      "min          0.000000\n",
      "25%         85.000000\n",
      "50%         95.000000\n",
      "75%        107.000000\n",
      "max       1256.000000\n",
      "Name: runtime, dtype: float64\n"
     ]
    },
    {
     "data": {
      "text/plain": [
       "90.0      2556\n",
       "0.0       1558\n",
       "100.0     1470\n",
       "95.0      1412\n",
       "93.0      1214\n",
       "          ... \n",
       "238.0        1\n",
       "316.0        1\n",
       "258.0        1\n",
       "780.0        1\n",
       "1256.0       1\n",
       "Name: runtime, Length: 353, dtype: int64"
      ]
     },
     "execution_count": 18,
     "metadata": {},
     "output_type": "execute_result"
    }
   ],
   "source": [
    "print(metadata['runtime'].describe(include='all'))\n",
    "metadata['runtime'].value_counts(ascending=False)"
   ]
  },
  {
   "cell_type": "code",
   "execution_count": 19,
   "metadata": {},
   "outputs": [
    {
     "data": {
      "text/plain": [
       "[{'iso_639_1': 'en', 'name': 'English'}]                                                                                                                             22395\n",
       "[]                                                                                                                                                                    3829\n",
       "[{'iso_639_1': 'fr', 'name': 'Français'}]                                                                                                                             1853\n",
       "[{'iso_639_1': 'ja', 'name': '日本語'}]                                                                                                                                  1289\n",
       "[{'iso_639_1': 'it', 'name': 'Italiano'}]                                                                                                                             1218\n",
       "                                                                                                                                                                     ...  \n",
       "[{'iso_639_1': 'ha', 'name': 'Hausa'}, {'iso_639_1': 'ig', 'name': ''}, {'iso_639_1': 'en', 'name': 'English'}]                                                          1\n",
       "[{'iso_639_1': 'en', 'name': 'English'}, {'iso_639_1': 'fr', 'name': 'Français'}, {'iso_639_1': 'ar', 'name': 'العربية'}, {'iso_639_1': 'de', 'name': 'Deutsch'}]        1\n",
       "[{'iso_639_1': 'en', 'name': 'English'}, {'iso_639_1': 'fi', 'name': 'suomi'}, {'iso_639_1': 'ru', 'name': 'Pусский'}]                                                   1\n",
       "[{'iso_639_1': 'ca', 'name': 'Català'}, {'iso_639_1': 'ja', 'name': '日本語'}]                                                                                              1\n",
       "[{'iso_639_1': 'cn', 'name': '广州话 / 廣州話'}, {'iso_639_1': 'it', 'name': 'Italiano'}, {'iso_639_1': 'zh', 'name': '普通话'}]                                                  1\n",
       "Name: spoken_languages, Length: 1931, dtype: int64"
      ]
     },
     "execution_count": 19,
     "metadata": {},
     "output_type": "execute_result"
    }
   ],
   "source": [
    "metadata['spoken_languages'].value_counts(ascending=False)"
   ]
  },
  {
   "cell_type": "code",
   "execution_count": 20,
   "metadata": {},
   "outputs": [
    {
     "data": {
      "text/plain": [
       "Released           45014\n",
       "Rumored              230\n",
       "Post Production       98\n",
       "In Production         20\n",
       "Planned               15\n",
       "Canceled               2\n",
       "Name: status, dtype: int64"
      ]
     },
     "execution_count": 20,
     "metadata": {},
     "output_type": "execute_result"
    }
   ],
   "source": [
    "metadata['status'].value_counts(ascending=False)"
   ]
  },
  {
   "cell_type": "code",
   "execution_count": 21,
   "metadata": {},
   "outputs": [
    {
     "data": {
      "text/plain": [
       "Based on a true story.                        7\n",
       "Trust no one.                                 4\n",
       "-                                             4\n",
       "Be careful what you wish for.                 4\n",
       "Drama                                         3\n",
       "                                             ..\n",
       "His First Big-Screen Adventure!               1\n",
       "A Thousand Thrills, And Hayley Mills!         1\n",
       "Evil's Roots Run Deep                         1\n",
       "One Final Night to Save the Day.              1\n",
       "Nothing is more mysterious than the blood.    1\n",
       "Name: tagline, Length: 20283, dtype: int64"
      ]
     },
     "execution_count": 21,
     "metadata": {},
     "output_type": "execute_result"
    }
   ],
   "source": [
    "metadata['tagline'].value_counts(ascending=False)"
   ]
  },
  {
   "cell_type": "code",
   "execution_count": 22,
   "metadata": {},
   "outputs": [
    {
     "data": {
      "text/plain": [
       "Cinderella                              11\n",
       "Hamlet                                   9\n",
       "Alice in Wonderland                      9\n",
       "Les Misérables                           8\n",
       "Beauty and the Beast                     8\n",
       "                                        ..\n",
       "On the Town                              1\n",
       "Wal-Mart: The High Cost of Low Price     1\n",
       "Jackass 3D                               1\n",
       "Serial                                   1\n",
       "Lies My Father Told Me                   1\n",
       "Name: title, Length: 42277, dtype: int64"
      ]
     },
     "execution_count": 22,
     "metadata": {},
     "output_type": "execute_result"
    }
   ],
   "source": [
    "metadata['title'].value_counts(ascending=False)"
   ]
  },
  {
   "cell_type": "code",
   "execution_count": 23,
   "metadata": {},
   "outputs": [
    {
     "data": {
      "text/plain": [
       "False    45367\n",
       "True        93\n",
       "Name: video, dtype: int64"
      ]
     },
     "execution_count": 23,
     "metadata": {},
     "output_type": "execute_result"
    }
   ],
   "source": [
    "metadata['video'].value_counts(ascending=False)"
   ]
  },
  {
   "cell_type": "code",
   "execution_count": 24,
   "metadata": {},
   "outputs": [
    {
     "name": "stdout",
     "output_type": "stream",
     "text": [
      "count    45460.000000\n",
      "mean         5.618207\n",
      "std          1.924216\n",
      "min          0.000000\n",
      "25%          5.000000\n",
      "50%          6.000000\n",
      "75%          6.800000\n",
      "max         10.000000\n",
      "Name: vote_average, dtype: float64\n"
     ]
    },
    {
     "data": {
      "text/plain": [
       "0.0    2998\n",
       "6.0    2468\n",
       "5.0    2001\n",
       "7.0    1886\n",
       "6.5    1722\n",
       "       ... \n",
       "9.4       3\n",
       "9.8       1\n",
       "0.7       1\n",
       "9.6       1\n",
       "1.1       1\n",
       "Name: vote_average, Length: 92, dtype: int64"
      ]
     },
     "execution_count": 24,
     "metadata": {},
     "output_type": "execute_result"
    }
   ],
   "source": [
    "print(metadata['vote_average'].describe(include='all'))\n",
    "metadata['vote_average'].value_counts(ascending=False)"
   ]
  },
  {
   "cell_type": "code",
   "execution_count": 25,
   "metadata": {},
   "outputs": [
    {
     "name": "stdout",
     "output_type": "stream",
     "text": [
      "count    45460.000000\n",
      "mean       109.897338\n",
      "std        491.310374\n",
      "min          0.000000\n",
      "25%          3.000000\n",
      "50%         10.000000\n",
      "75%         34.000000\n",
      "max      14075.000000\n",
      "Name: vote_count, dtype: float64\n"
     ]
    },
    {
     "data": {
      "text/plain": [
       "1.0       3264\n",
       "2.0       3132\n",
       "0.0       2899\n",
       "3.0       2787\n",
       "4.0       2480\n",
       "          ... \n",
       "4461.0       1\n",
       "1085.0       1\n",
       "1539.0       1\n",
       "2487.0       1\n",
       "3086.0       1\n",
       "Name: vote_count, Length: 1820, dtype: int64"
      ]
     },
     "execution_count": 25,
     "metadata": {},
     "output_type": "execute_result"
    }
   ],
   "source": [
    "print(metadata['vote_count'].describe(include='all'))\n",
    "metadata['vote_count'].value_counts(ascending=False)"
   ]
  },
  {
   "cell_type": "markdown",
   "metadata": {},
   "source": [
    "# Checking links:"
   ]
  },
  {
   "cell_type": "code",
   "execution_count": 26,
   "metadata": {},
   "outputs": [
    {
     "name": "stdout",
     "output_type": "stream",
     "text": [
      "Shape\n",
      "(9125, 3)\n"
     ]
    }
   ],
   "source": [
    "print(\"Shape\")\n",
    "print(links.shape)"
   ]
  },
  {
   "cell_type": "code",
   "execution_count": 27,
   "metadata": {},
   "outputs": [
    {
     "name": "stdout",
     "output_type": "stream",
     "text": [
      "Column Headers\n",
      "movieId\n",
      "imdbId\n",
      "tmdbId\n"
     ]
    }
   ],
   "source": [
    "print('Column Headers')\n",
    "for col in links.columns:\n",
    "    print(col)"
   ]
  },
  {
   "cell_type": "code",
   "execution_count": 28,
   "metadata": {},
   "outputs": [
    {
     "name": "stdout",
     "output_type": "stream",
     "text": [
      "Null Values\n",
      "movieId     0\n",
      "imdbId      0\n",
      "tmdbId     13\n",
      "dtype: int64\n"
     ]
    }
   ],
   "source": [
    "print(\"Null Values\")\n",
    "print(links.isna().sum())"
   ]
  },
  {
   "cell_type": "code",
   "execution_count": 29,
   "metadata": {},
   "outputs": [
    {
     "name": "stdout",
     "output_type": "stream",
     "text": [
      "Duplicates\n",
      "Empty DataFrame\n",
      "Columns: [movieId, imdbId, tmdbId]\n",
      "Index: []\n"
     ]
    }
   ],
   "source": [
    "print(\"Duplicates\")\n",
    "bool_series = links.duplicated()\n",
    "print(links[bool_series])"
   ]
  },
  {
   "cell_type": "code",
   "execution_count": 30,
   "metadata": {},
   "outputs": [
    {
     "data": {
      "text/plain": [
       "movieId    9125\n",
       "imdbId     9125\n",
       "tmdbId     9112\n",
       "dtype: int64"
      ]
     },
     "execution_count": 30,
     "metadata": {},
     "output_type": "execute_result"
    }
   ],
   "source": [
    "links.nunique()"
   ]
  },
  {
   "cell_type": "code",
   "execution_count": 31,
   "metadata": {},
   "outputs": [],
   "source": [
    "rows_with_NaN = links[links.isnull().any(axis=1)]"
   ]
  },
  {
   "cell_type": "code",
   "execution_count": 32,
   "metadata": {},
   "outputs": [
    {
     "data": {
      "text/html": [
       "<div>\n",
       "<style scoped>\n",
       "    .dataframe tbody tr th:only-of-type {\n",
       "        vertical-align: middle;\n",
       "    }\n",
       "\n",
       "    .dataframe tbody tr th {\n",
       "        vertical-align: top;\n",
       "    }\n",
       "\n",
       "    .dataframe thead th {\n",
       "        text-align: right;\n",
       "    }\n",
       "</style>\n",
       "<table border=\"1\" class=\"dataframe\">\n",
       "  <thead>\n",
       "    <tr style=\"text-align: right;\">\n",
       "      <th></th>\n",
       "      <th>movieId</th>\n",
       "      <th>imdbId</th>\n",
       "      <th>tmdbId</th>\n",
       "    </tr>\n",
       "  </thead>\n",
       "  <tbody>\n",
       "    <tr>\n",
       "      <th>607</th>\n",
       "      <td>720</td>\n",
       "      <td>118114</td>\n",
       "      <td>NaN</td>\n",
       "    </tr>\n",
       "    <tr>\n",
       "      <th>608</th>\n",
       "      <td>721</td>\n",
       "      <td>114103</td>\n",
       "      <td>NaN</td>\n",
       "    </tr>\n",
       "    <tr>\n",
       "      <th>640</th>\n",
       "      <td>769</td>\n",
       "      <td>116992</td>\n",
       "      <td>NaN</td>\n",
       "    </tr>\n",
       "    <tr>\n",
       "      <th>910</th>\n",
       "      <td>1133</td>\n",
       "      <td>111357</td>\n",
       "      <td>NaN</td>\n",
       "    </tr>\n",
       "    <tr>\n",
       "      <th>2282</th>\n",
       "      <td>2851</td>\n",
       "      <td>81454</td>\n",
       "      <td>NaN</td>\n",
       "    </tr>\n",
       "    <tr>\n",
       "      <th>3246</th>\n",
       "      <td>4051</td>\n",
       "      <td>56600</td>\n",
       "      <td>NaN</td>\n",
       "    </tr>\n",
       "    <tr>\n",
       "      <th>5826</th>\n",
       "      <td>26587</td>\n",
       "      <td>92337</td>\n",
       "      <td>NaN</td>\n",
       "    </tr>\n",
       "    <tr>\n",
       "      <th>7408</th>\n",
       "      <td>72781</td>\n",
       "      <td>1104746</td>\n",
       "      <td>NaN</td>\n",
       "    </tr>\n",
       "    <tr>\n",
       "      <th>7438</th>\n",
       "      <td>73759</td>\n",
       "      <td>495212</td>\n",
       "      <td>NaN</td>\n",
       "    </tr>\n",
       "    <tr>\n",
       "      <th>7588</th>\n",
       "      <td>79299</td>\n",
       "      <td>874957</td>\n",
       "      <td>NaN</td>\n",
       "    </tr>\n",
       "    <tr>\n",
       "      <th>8045</th>\n",
       "      <td>94466</td>\n",
       "      <td>2085059</td>\n",
       "      <td>NaN</td>\n",
       "    </tr>\n",
       "    <tr>\n",
       "      <th>8505</th>\n",
       "      <td>108548</td>\n",
       "      <td>898266</td>\n",
       "      <td>NaN</td>\n",
       "    </tr>\n",
       "    <tr>\n",
       "      <th>8507</th>\n",
       "      <td>108583</td>\n",
       "      <td>72500</td>\n",
       "      <td>NaN</td>\n",
       "    </tr>\n",
       "  </tbody>\n",
       "</table>\n",
       "</div>"
      ],
      "text/plain": [
       "      movieId   imdbId  tmdbId\n",
       "607       720   118114     NaN\n",
       "608       721   114103     NaN\n",
       "640       769   116992     NaN\n",
       "910      1133   111357     NaN\n",
       "2282     2851    81454     NaN\n",
       "3246     4051    56600     NaN\n",
       "5826    26587    92337     NaN\n",
       "7408    72781  1104746     NaN\n",
       "7438    73759   495212     NaN\n",
       "7588    79299   874957     NaN\n",
       "8045    94466  2085059     NaN\n",
       "8505   108548   898266     NaN\n",
       "8507   108583    72500     NaN"
      ]
     },
     "execution_count": 32,
     "metadata": {},
     "output_type": "execute_result"
    }
   ],
   "source": [
    "rows_with_NaN"
   ]
  },
  {
   "cell_type": "markdown",
   "metadata": {},
   "source": [
    "# Checking ratings:"
   ]
  },
  {
   "cell_type": "code",
   "execution_count": 33,
   "metadata": {},
   "outputs": [
    {
     "name": "stdout",
     "output_type": "stream",
     "text": [
      "Shape\n",
      "(100004, 4)\n"
     ]
    }
   ],
   "source": [
    "print(\"Shape\")\n",
    "print(ratings.shape)"
   ]
  },
  {
   "cell_type": "code",
   "execution_count": 34,
   "metadata": {},
   "outputs": [
    {
     "name": "stdout",
     "output_type": "stream",
     "text": [
      "Column Headers\n",
      "userId\n",
      "movieId\n",
      "rating\n",
      "timestamp\n"
     ]
    }
   ],
   "source": [
    "print('Column Headers')\n",
    "for col in ratings.columns:\n",
    "    print(col)"
   ]
  },
  {
   "cell_type": "code",
   "execution_count": 35,
   "metadata": {},
   "outputs": [
    {
     "name": "stdout",
     "output_type": "stream",
     "text": [
      "Null Values\n",
      "userId       0\n",
      "movieId      0\n",
      "rating       0\n",
      "timestamp    0\n",
      "dtype: int64\n"
     ]
    }
   ],
   "source": [
    "print(\"Null Values\")\n",
    "print(ratings.isna().sum())"
   ]
  },
  {
   "cell_type": "code",
   "execution_count": 36,
   "metadata": {},
   "outputs": [
    {
     "name": "stdout",
     "output_type": "stream",
     "text": [
      "Duplicates\n",
      "Empty DataFrame\n",
      "Columns: [userId, movieId, rating, timestamp]\n",
      "Index: []\n"
     ]
    }
   ],
   "source": [
    "print(\"Duplicates\")\n",
    "bool_series = ratings.duplicated()\n",
    "print(ratings[bool_series])"
   ]
  },
  {
   "cell_type": "code",
   "execution_count": 37,
   "metadata": {},
   "outputs": [
    {
     "data": {
      "text/plain": [
       "userId         671\n",
       "movieId       9066\n",
       "rating          10\n",
       "timestamp    78141\n",
       "dtype: int64"
      ]
     },
     "execution_count": 37,
     "metadata": {},
     "output_type": "execute_result"
    }
   ],
   "source": [
    "ratings.nunique()"
   ]
  },
  {
   "cell_type": "code",
   "execution_count": 38,
   "metadata": {},
   "outputs": [
    {
     "data": {
      "text/plain": [
       "array([2.5, 3. , 2. , 4. , 3.5, 1. , 5. , 4.5, 1.5, 0.5])"
      ]
     },
     "execution_count": 38,
     "metadata": {},
     "output_type": "execute_result"
    }
   ],
   "source": [
    "ratings['rating'].unique()"
   ]
  }
 ],
 "metadata": {
  "kernelspec": {
   "display_name": "Python 3",
   "language": "python",
   "name": "python3"
  },
  "language_info": {
   "codemirror_mode": {
    "name": "ipython",
    "version": 3
   },
   "file_extension": ".py",
   "mimetype": "text/x-python",
   "name": "python",
   "nbconvert_exporter": "python",
   "pygments_lexer": "ipython3",
   "version": "3.8.3"
  }
 },
 "nbformat": 4,
 "nbformat_minor": 2
}
