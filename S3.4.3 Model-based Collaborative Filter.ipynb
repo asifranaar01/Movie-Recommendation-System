{
 "cells": [
  {
   "cell_type": "markdown",
   "metadata": {},
   "source": [
    "COS80024\n",
    "\n",
    "DATA SCIENCE PROJECT 1\n",
    "\n",
    "PROJECT 4: MOVIE RECOMMENDATION SYSTEM\n",
    "\n",
    "# S3.4.3: Model-based Collaborative Filter  (Executor: Nakib)\n",
    "\n",
    "This task aims to develop, select, train and tune parameters for a memory based collaborative filter based on items. \n",
    "\n",
    "Task Leader: Promita"
   ]
  },
  {
   "cell_type": "code",
   "execution_count": 1,
   "metadata": {},
   "outputs": [],
   "source": [
    "# Load the Python libraries\n",
    "import os\n",
    "import pandas as pd\n",
    "import numpy as np\n",
    "from sklearn.model_selection import train_test_split\n",
    "import pickle\n",
    "import time\n",
    "\n",
    "# Load Surprise libraries\n",
    "from surprise import SVD\n",
    "from surprise import Reader\n",
    "from surprise import Dataset\n",
    "from surprise import accuracy\n",
    "\n",
    "# Load plotting libraries\n",
    "import matplotlib.pyplot as plt"
   ]
  },
  {
   "cell_type": "code",
   "execution_count": 2,
   "metadata": {},
   "outputs": [],
   "source": [
    "#Loading files\n",
    "\n",
    "#File 1: uploading the training data\n",
    "train = pd.read_csv('train_df.csv')\n",
    "\n",
    "#File 2: uploading the testing data\n",
    "test = pd.read_csv('test_df.csv')"
   ]
  },
  {
   "cell_type": "code",
   "execution_count": 3,
   "metadata": {},
   "outputs": [],
   "source": [
    "#Remove all information except User ID, Movie ID and Title\n",
    "train_data = train[['userId','movieId','rating']]"
   ]
  },
  {
   "cell_type": "code",
   "execution_count": 4,
   "metadata": {},
   "outputs": [],
   "source": [
    "#Remove all information except User ID, Movie ID and Title\n",
    "test_data = test[['userId','movieId','rating']]"
   ]
  },
  {
   "cell_type": "code",
   "execution_count": 5,
   "metadata": {},
   "outputs": [],
   "source": [
    "#Read the data into a Surprise dataset\n",
    "reader = Reader(rating_scale = (1, 5))\n",
    "data_train = Dataset.load_from_df(train_data[['userId', 'movieId', 'rating']], reader)\n",
    "data_test = Dataset.load_from_df(test_data[['userId', 'movieId', 'rating']], reader)"
   ]
  },
  {
   "cell_type": "code",
   "execution_count": 6,
   "metadata": {},
   "outputs": [],
   "source": [
    "#Build full trainset\n",
    "data_train = data_train.build_full_trainset()\n",
    "data_test = data_test.build_full_trainset()"
   ]
  },
  {
   "cell_type": "code",
   "execution_count": 7,
   "metadata": {},
   "outputs": [
    {
     "name": "stdout",
     "output_type": "stream",
     "text": [
      "Train rating 3.5399152683169963\n"
     ]
    }
   ],
   "source": [
    "mean = data_train.global_mean\n",
    "print('Train rating', mean)"
   ]
  },
  {
   "cell_type": "code",
   "execution_count": 8,
   "metadata": {},
   "outputs": [
    {
     "name": "stdout",
     "output_type": "stream",
     "text": [
      "Test rating 3.645603576751118\n"
     ]
    }
   ],
   "source": [
    "mean = data_test.global_mean\n",
    "print('Test rating', mean)"
   ]
  },
  {
   "cell_type": "code",
   "execution_count": 9,
   "metadata": {},
   "outputs": [],
   "source": [
    "#Create the trainset and testset\n",
    "data_trainset = data_train.build_testset()\n",
    "data_testset = data_test.build_testset()"
   ]
  },
  {
   "cell_type": "code",
   "execution_count": 59,
   "metadata": {},
   "outputs": [],
   "source": [
    "#Create SVD algorithm with 5 factors\n",
    "k_factors = 5\n",
    "algo = SVD(n_factors= k_factors, n_epochs= 200, biased= True, lr_all= 0.005, reg_all= 0, init_mean= 0, init_std_dev= 0.01)"
   ]
  },
  {
   "cell_type": "code",
   "execution_count": 60,
   "metadata": {},
   "outputs": [],
   "source": [
    "#Train the algorithm on the trainset\n",
    "model_based = algo.fit(data_train)"
   ]
  },
  {
   "cell_type": "code",
   "execution_count": 61,
   "metadata": {},
   "outputs": [],
   "source": [
    "#Exporting pickle file\n",
    "filename = 'model-based_CF.pickle'\n",
    "pickle.dump(model_based, open(filename, 'wb'))"
   ]
  },
  {
   "cell_type": "code",
   "execution_count": 62,
   "metadata": {},
   "outputs": [
    {
     "name": "stdout",
     "output_type": "stream",
     "text": [
      "RMSE: 0.6144\n",
      "MAE:  0.4508\n"
     ]
    },
    {
     "data": {
      "text/plain": [
       "0.4508355237046407"
      ]
     },
     "execution_count": 62,
     "metadata": {},
     "output_type": "execute_result"
    }
   ],
   "source": [
    "#Calculate RMSE for training dataset\n",
    "train_pred = algo.test(data_trainset)\n",
    "accuracy.rmse(train_pred)\n",
    "accuracy.mae(train_pred)"
   ]
  },
  {
   "cell_type": "code",
   "execution_count": 63,
   "metadata": {},
   "outputs": [],
   "source": [
    "#Storing predicted rating for the train dataset\n",
    "pred_rating = []\n",
    "for i in range(len(train_pred)):\n",
    "    temp = train_pred[i].est\n",
    "    temp1 = round(temp,2)\n",
    "    pred_rating.append(temp1)\n",
    "pred_rating_df = pd.DataFrame(pred_rating, columns=['pred_rating'])\n",
    "df = train_data.join(pred_rating_df)"
   ]
  },
  {
   "cell_type": "code",
   "execution_count": 64,
   "metadata": {},
   "outputs": [],
   "source": [
    "#Export the train dataframe with the predicted ratings \n",
    "df.to_csv(\"train_df_cf_model.csv\", index=False)"
   ]
  },
  {
   "cell_type": "code",
   "execution_count": 65,
   "metadata": {},
   "outputs": [
    {
     "name": "stdout",
     "output_type": "stream",
     "text": [
      "RMSE: 0.9554\n",
      "MAE:  0.7236\n"
     ]
    },
    {
     "data": {
      "text/plain": [
       "0.7236316307697901"
      ]
     },
     "execution_count": 65,
     "metadata": {},
     "output_type": "execute_result"
    }
   ],
   "source": [
    "#Calculate RMSE for test dataset\n",
    "test_pred = algo.test(data_testset)\n",
    "accuracy.rmse(test_pred)\n",
    "accuracy.mae(test_pred)"
   ]
  },
  {
   "cell_type": "code",
   "execution_count": 66,
   "metadata": {},
   "outputs": [],
   "source": [
    "#Storing predicted rating for the test dataset\n",
    "pred_rating = []\n",
    "for i in range(len(test_pred)):\n",
    "    temp = test_pred[i].est\n",
    "    temp1 = round(temp,2)\n",
    "    pred_rating.append(temp1)\n",
    "pred_rating_df = pd.DataFrame(pred_rating, columns=['pred_rating'])\n",
    "df1 = test_data.join(pred_rating_df)"
   ]
  },
  {
   "cell_type": "code",
   "execution_count": 18,
   "metadata": {},
   "outputs": [],
   "source": [
    "#Export the test dataframe with the predicted ratings \n",
    "df1.to_csv(\"test_df_cf_model.csv\", index=False)"
   ]
  }
 ],
 "metadata": {
  "kernelspec": {
   "display_name": "Python 3",
   "language": "python",
   "name": "python3"
  },
  "language_info": {
   "codemirror_mode": {
    "name": "ipython",
    "version": 3
   },
   "file_extension": ".py",
   "mimetype": "text/x-python",
   "name": "python",
   "nbconvert_exporter": "python",
   "pygments_lexer": "ipython3",
   "version": "3.8.3"
  }
 },
 "nbformat": 4,
 "nbformat_minor": 4
}
