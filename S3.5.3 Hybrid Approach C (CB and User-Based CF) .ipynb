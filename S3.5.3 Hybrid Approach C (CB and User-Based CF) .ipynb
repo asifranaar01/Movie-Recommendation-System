{
 "cells": [
  {
   "cell_type": "markdown",
   "metadata": {},
   "source": [
    "COS80024\n",
    "\n",
    "DATA SCIENCE PROJECT 1\n",
    "\n",
    "PROJECT 4: MOVIE RECOMMENDATION SYSTEM\n",
    "\n",
    "# S3.5.3: Hybrid Approach C (Content-Based and User-Based Collaborative Filter)  (Executor: Nakib)\n",
    "\n",
    "This task aims to develop, select, train and tune parameters for a hybrid approach using collaborative filter (user-based) and conten-based.\n",
    "\n",
    "Task Leader: Nakib"
   ]
  },
  {
   "cell_type": "code",
   "execution_count": 1,
   "metadata": {},
   "outputs": [],
   "source": [
    "# Importing all the necessary libraries\n",
    "import numpy as np\n",
    "import pandas as pd\n",
    "from sklearn import metrics\n",
    "from math import sqrt\n",
    "from sklearn.metrics import mean_squared_error\n",
    "from sklearn.metrics import mean_absolute_error\n",
    "from sklearn.linear_model import LinearRegression\n",
    "from sklearn import svm"
   ]
  },
  {
   "cell_type": "code",
   "execution_count": 2,
   "metadata": {},
   "outputs": [],
   "source": [
    "# Importing the csv data files \n",
    "\n",
    "#predictions for trainset by content based model\n",
    "df1 = pd.read_csv('train_predict_content_df.csv',error_bad_lines=False, warn_bad_lines=True)\n",
    "#predictions for testset by content based model\n",
    "df2 = pd.read_csv('predicted_content_based_test_df.csv',error_bad_lines=False, warn_bad_lines=True)\n",
    "#predictions for trainset by model-based collaborative filter \n",
    "df3 = pd.read_csv('train_df_cf_user.csv',error_bad_lines=False, warn_bad_lines=True)\n",
    "#predictions for testset by model-based collaborative filter \n",
    "df4 = pd.read_csv('test_df_cf_user.csv',error_bad_lines=False, warn_bad_lines=True)"
   ]
  },
  {
   "cell_type": "code",
   "execution_count": 3,
   "metadata": {},
   "outputs": [],
   "source": [
    "#Concatenating predictions made on the trainset by the two models\n",
    "x_train = pd.merge(df1, df3)"
   ]
  },
  {
   "cell_type": "code",
   "execution_count": 4,
   "metadata": {},
   "outputs": [],
   "source": [
    "#Keeping only the relvant columns\n",
    "x_train = x_train[['prediction','predicted_rating','rating']]"
   ]
  },
  {
   "cell_type": "code",
   "execution_count": 5,
   "metadata": {},
   "outputs": [],
   "source": [
    "#Setting actual rating values for trainset as label\n",
    "y_train = x_train[['rating']]"
   ]
  },
  {
   "cell_type": "code",
   "execution_count": 6,
   "metadata": {},
   "outputs": [],
   "source": [
    "#Getting rid of the column 'rating' from x_train\n",
    "x_train = x_train.drop(columns=['rating'])"
   ]
  },
  {
   "cell_type": "code",
   "execution_count": 7,
   "metadata": {},
   "outputs": [],
   "source": [
    "#Concatenating predictions made on the testset by the two models\n",
    "x_test = pd.merge(df2, df4)"
   ]
  },
  {
   "cell_type": "code",
   "execution_count": 8,
   "metadata": {},
   "outputs": [],
   "source": [
    "#Keeping only the relvant columns\n",
    "x_test = x_test[['predict','predicted_rating']]"
   ]
  },
  {
   "cell_type": "code",
   "execution_count": 9,
   "metadata": {},
   "outputs": [],
   "source": [
    "#Setting actual rating values for testset as label\n",
    "y_test = df2[['rating']]"
   ]
  },
  {
   "cell_type": "markdown",
   "metadata": {},
   "source": [
    "# Linear Regression"
   ]
  },
  {
   "cell_type": "code",
   "execution_count": 10,
   "metadata": {},
   "outputs": [],
   "source": [
    "lr = LinearRegression()\n",
    "hybrid_c = lr.fit(x_train, y_train)\n",
    "lr_pred = lr.predict(x_test) "
   ]
  },
  {
   "cell_type": "code",
   "execution_count": 11,
   "metadata": {},
   "outputs": [
    {
     "name": "stdout",
     "output_type": "stream",
     "text": [
      "RMSE value is: 0.9381\n",
      "MAE value is: 0.7159\n"
     ]
    }
   ],
   "source": [
    "#calculate rmse\n",
    "error1 = sqrt(mean_squared_error(y_test, lr_pred)) \n",
    "#calculate mae\n",
    "error2 = mean_absolute_error(y_test, lr_pred)\n",
    "print('RMSE value is:', np.round(error1, 4))\n",
    "print('MAE value is:', np.round(error2, 4))"
   ]
  },
  {
   "cell_type": "code",
   "execution_count": 12,
   "metadata": {},
   "outputs": [
    {
     "name": "stdout",
     "output_type": "stream",
     "text": [
      "coefficient of determination: 0.4502766744258162\n",
      "intercept: [-0.41912068]\n",
      "slope: [[0.11217727 1.00520215]]\n"
     ]
    }
   ],
   "source": [
    "r_sq = lr.score(x_train, y_train)\n",
    "print('coefficient of determination:', r_sq)\n",
    "print('intercept:', lr.intercept_)\n",
    "print('slope:', lr.coef_)"
   ]
  },
  {
   "cell_type": "markdown",
   "metadata": {},
   "source": [
    "# Decision Tree"
   ]
  },
  {
   "cell_type": "code",
   "execution_count": 13,
   "metadata": {},
   "outputs": [],
   "source": [
    "from sklearn import tree\n",
    "dtr = tree.DecisionTreeRegressor()\n",
    "dtr.fit(x_train, y_train)\n",
    "dtr_pred = dtr.predict(x_test) "
   ]
  },
  {
   "cell_type": "code",
   "execution_count": 14,
   "metadata": {},
   "outputs": [
    {
     "name": "stdout",
     "output_type": "stream",
     "text": [
      "RMSE value is: 1.0814\n",
      "MAE value is: 0.8178\n"
     ]
    }
   ],
   "source": [
    "#calculate rmse\n",
    "error1 = sqrt(mean_squared_error(y_test, dtr_pred)) \n",
    "#calculate mae\n",
    "error2 = mean_absolute_error(y_test, dtr_pred)\n",
    "print('RMSE value is:', np.round(error1, 4))\n",
    "print('MAE value is:', np.round(error2, 4))"
   ]
  },
  {
   "cell_type": "markdown",
   "metadata": {},
   "source": [
    "# RandomForest Model"
   ]
  },
  {
   "cell_type": "code",
   "execution_count": 15,
   "metadata": {},
   "outputs": [
    {
     "name": "stdout",
     "output_type": "stream",
     "text": [
      "Fitting 5 folds for each of 10 candidates, totalling 50 fits\n",
      "[CV] n_estimators=10, min_samples_split=100, max_leaf_nodes=7, max_depth=7 \n",
      "[CV]  n_estimators=10, min_samples_split=100, max_leaf_nodes=7, max_depth=7, score=0.455, total=   0.2s\n",
      "[CV] n_estimators=10, min_samples_split=100, max_leaf_nodes=7, max_depth=7 \n"
     ]
    },
    {
     "name": "stderr",
     "output_type": "stream",
     "text": [
      "[Parallel(n_jobs=1)]: Using backend SequentialBackend with 1 concurrent workers.\n",
      "C:\\Users\\Nakib Kauser\\anaconda3\\lib\\site-packages\\sklearn\\model_selection\\_validation.py:531: DataConversionWarning: A column-vector y was passed when a 1d array was expected. Please change the shape of y to (n_samples,), for example using ravel().\n",
      "  estimator.fit(X_train, y_train, **fit_params)\n",
      "[Parallel(n_jobs=1)]: Done   1 out of   1 | elapsed:    0.1s remaining:    0.0s\n",
      "C:\\Users\\Nakib Kauser\\anaconda3\\lib\\site-packages\\sklearn\\model_selection\\_validation.py:531: DataConversionWarning: A column-vector y was passed when a 1d array was expected. Please change the shape of y to (n_samples,), for example using ravel().\n",
      "  estimator.fit(X_train, y_train, **fit_params)\n"
     ]
    },
    {
     "name": "stdout",
     "output_type": "stream",
     "text": [
      "[CV]  n_estimators=10, min_samples_split=100, max_leaf_nodes=7, max_depth=7, score=0.400, total=   0.2s\n",
      "[CV] n_estimators=10, min_samples_split=100, max_leaf_nodes=7, max_depth=7 \n",
      "[CV]  n_estimators=10, min_samples_split=100, max_leaf_nodes=7, max_depth=7, score=0.457, total=   0.2s\n",
      "[CV] n_estimators=10, min_samples_split=100, max_leaf_nodes=7, max_depth=7 \n"
     ]
    },
    {
     "name": "stderr",
     "output_type": "stream",
     "text": [
      "[Parallel(n_jobs=1)]: Done   2 out of   2 | elapsed:    0.3s remaining:    0.0s\n",
      "C:\\Users\\Nakib Kauser\\anaconda3\\lib\\site-packages\\sklearn\\model_selection\\_validation.py:531: DataConversionWarning: A column-vector y was passed when a 1d array was expected. Please change the shape of y to (n_samples,), for example using ravel().\n",
      "  estimator.fit(X_train, y_train, **fit_params)\n",
      "C:\\Users\\Nakib Kauser\\anaconda3\\lib\\site-packages\\sklearn\\model_selection\\_validation.py:531: DataConversionWarning: A column-vector y was passed when a 1d array was expected. Please change the shape of y to (n_samples,), for example using ravel().\n",
      "  estimator.fit(X_train, y_train, **fit_params)\n"
     ]
    },
    {
     "name": "stdout",
     "output_type": "stream",
     "text": [
      "[CV]  n_estimators=10, min_samples_split=100, max_leaf_nodes=7, max_depth=7, score=0.401, total=   0.2s\n",
      "[CV] n_estimators=10, min_samples_split=100, max_leaf_nodes=7, max_depth=7 \n",
      "[CV]  n_estimators=10, min_samples_split=100, max_leaf_nodes=7, max_depth=7, score=0.435, total=   0.2s\n",
      "[CV] n_estimators=10, min_samples_split=300, max_leaf_nodes=7, max_depth=7 \n"
     ]
    },
    {
     "name": "stderr",
     "output_type": "stream",
     "text": [
      "C:\\Users\\Nakib Kauser\\anaconda3\\lib\\site-packages\\sklearn\\model_selection\\_validation.py:531: DataConversionWarning: A column-vector y was passed when a 1d array was expected. Please change the shape of y to (n_samples,), for example using ravel().\n",
      "  estimator.fit(X_train, y_train, **fit_params)\n",
      "C:\\Users\\Nakib Kauser\\anaconda3\\lib\\site-packages\\sklearn\\model_selection\\_validation.py:531: DataConversionWarning: A column-vector y was passed when a 1d array was expected. Please change the shape of y to (n_samples,), for example using ravel().\n",
      "  estimator.fit(X_train, y_train, **fit_params)\n"
     ]
    },
    {
     "name": "stdout",
     "output_type": "stream",
     "text": [
      "[CV]  n_estimators=10, min_samples_split=300, max_leaf_nodes=7, max_depth=7, score=0.455, total=   0.2s\n",
      "[CV] n_estimators=10, min_samples_split=300, max_leaf_nodes=7, max_depth=7 \n",
      "[CV]  n_estimators=10, min_samples_split=300, max_leaf_nodes=7, max_depth=7, score=0.400, total=   0.2s\n",
      "[CV] n_estimators=10, min_samples_split=300, max_leaf_nodes=7, max_depth=7 \n"
     ]
    },
    {
     "name": "stderr",
     "output_type": "stream",
     "text": [
      "C:\\Users\\Nakib Kauser\\anaconda3\\lib\\site-packages\\sklearn\\model_selection\\_validation.py:531: DataConversionWarning: A column-vector y was passed when a 1d array was expected. Please change the shape of y to (n_samples,), for example using ravel().\n",
      "  estimator.fit(X_train, y_train, **fit_params)\n",
      "C:\\Users\\Nakib Kauser\\anaconda3\\lib\\site-packages\\sklearn\\model_selection\\_validation.py:531: DataConversionWarning: A column-vector y was passed when a 1d array was expected. Please change the shape of y to (n_samples,), for example using ravel().\n",
      "  estimator.fit(X_train, y_train, **fit_params)\n"
     ]
    },
    {
     "name": "stdout",
     "output_type": "stream",
     "text": [
      "[CV]  n_estimators=10, min_samples_split=300, max_leaf_nodes=7, max_depth=7, score=0.457, total=   0.2s\n",
      "[CV] n_estimators=10, min_samples_split=300, max_leaf_nodes=7, max_depth=7 \n",
      "[CV]  n_estimators=10, min_samples_split=300, max_leaf_nodes=7, max_depth=7, score=0.401, total=   0.2s\n",
      "[CV] n_estimators=10, min_samples_split=300, max_leaf_nodes=7, max_depth=7 \n"
     ]
    },
    {
     "name": "stderr",
     "output_type": "stream",
     "text": [
      "C:\\Users\\Nakib Kauser\\anaconda3\\lib\\site-packages\\sklearn\\model_selection\\_validation.py:531: DataConversionWarning: A column-vector y was passed when a 1d array was expected. Please change the shape of y to (n_samples,), for example using ravel().\n",
      "  estimator.fit(X_train, y_train, **fit_params)\n",
      "C:\\Users\\Nakib Kauser\\anaconda3\\lib\\site-packages\\sklearn\\model_selection\\_validation.py:531: DataConversionWarning: A column-vector y was passed when a 1d array was expected. Please change the shape of y to (n_samples,), for example using ravel().\n",
      "  estimator.fit(X_train, y_train, **fit_params)\n"
     ]
    },
    {
     "name": "stdout",
     "output_type": "stream",
     "text": [
      "[CV]  n_estimators=10, min_samples_split=300, max_leaf_nodes=7, max_depth=7, score=0.435, total=   0.2s\n",
      "[CV] n_estimators=7, min_samples_split=300, max_leaf_nodes=7, max_depth=6 \n",
      "[CV]  n_estimators=7, min_samples_split=300, max_leaf_nodes=7, max_depth=6, score=0.452, total=   0.1s\n",
      "[CV] n_estimators=7, min_samples_split=300, max_leaf_nodes=7, max_depth=6 \n"
     ]
    },
    {
     "name": "stderr",
     "output_type": "stream",
     "text": [
      "C:\\Users\\Nakib Kauser\\anaconda3\\lib\\site-packages\\sklearn\\model_selection\\_validation.py:531: DataConversionWarning: A column-vector y was passed when a 1d array was expected. Please change the shape of y to (n_samples,), for example using ravel().\n",
      "  estimator.fit(X_train, y_train, **fit_params)\n",
      "C:\\Users\\Nakib Kauser\\anaconda3\\lib\\site-packages\\sklearn\\model_selection\\_validation.py:531: DataConversionWarning: A column-vector y was passed when a 1d array was expected. Please change the shape of y to (n_samples,), for example using ravel().\n",
      "  estimator.fit(X_train, y_train, **fit_params)\n"
     ]
    },
    {
     "name": "stdout",
     "output_type": "stream",
     "text": [
      "[CV]  n_estimators=7, min_samples_split=300, max_leaf_nodes=7, max_depth=6, score=0.399, total=   0.2s\n",
      "[CV] n_estimators=7, min_samples_split=300, max_leaf_nodes=7, max_depth=6 \n",
      "[CV]  n_estimators=7, min_samples_split=300, max_leaf_nodes=7, max_depth=6, score=0.456, total=   0.2s\n",
      "[CV] n_estimators=7, min_samples_split=300, max_leaf_nodes=7, max_depth=6 \n"
     ]
    },
    {
     "name": "stderr",
     "output_type": "stream",
     "text": [
      "C:\\Users\\Nakib Kauser\\anaconda3\\lib\\site-packages\\sklearn\\model_selection\\_validation.py:531: DataConversionWarning: A column-vector y was passed when a 1d array was expected. Please change the shape of y to (n_samples,), for example using ravel().\n",
      "  estimator.fit(X_train, y_train, **fit_params)\n",
      "C:\\Users\\Nakib Kauser\\anaconda3\\lib\\site-packages\\sklearn\\model_selection\\_validation.py:531: DataConversionWarning: A column-vector y was passed when a 1d array was expected. Please change the shape of y to (n_samples,), for example using ravel().\n",
      "  estimator.fit(X_train, y_train, **fit_params)\n"
     ]
    },
    {
     "name": "stdout",
     "output_type": "stream",
     "text": [
      "[CV]  n_estimators=7, min_samples_split=300, max_leaf_nodes=7, max_depth=6, score=0.399, total=   0.2s\n",
      "[CV] n_estimators=7, min_samples_split=300, max_leaf_nodes=7, max_depth=6 \n",
      "[CV]  n_estimators=7, min_samples_split=300, max_leaf_nodes=7, max_depth=6, score=0.435, total=   0.2s\n",
      "[CV] n_estimators=10, min_samples_split=300, max_leaf_nodes=5, max_depth=7 \n"
     ]
    },
    {
     "name": "stderr",
     "output_type": "stream",
     "text": [
      "C:\\Users\\Nakib Kauser\\anaconda3\\lib\\site-packages\\sklearn\\model_selection\\_validation.py:531: DataConversionWarning: A column-vector y was passed when a 1d array was expected. Please change the shape of y to (n_samples,), for example using ravel().\n",
      "  estimator.fit(X_train, y_train, **fit_params)\n",
      "C:\\Users\\Nakib Kauser\\anaconda3\\lib\\site-packages\\sklearn\\model_selection\\_validation.py:531: DataConversionWarning: A column-vector y was passed when a 1d array was expected. Please change the shape of y to (n_samples,), for example using ravel().\n",
      "  estimator.fit(X_train, y_train, **fit_params)\n"
     ]
    },
    {
     "name": "stdout",
     "output_type": "stream",
     "text": [
      "[CV]  n_estimators=10, min_samples_split=300, max_leaf_nodes=5, max_depth=7, score=0.439, total=   0.2s\n",
      "[CV] n_estimators=10, min_samples_split=300, max_leaf_nodes=5, max_depth=7 \n"
     ]
    },
    {
     "name": "stderr",
     "output_type": "stream",
     "text": [
      "C:\\Users\\Nakib Kauser\\anaconda3\\lib\\site-packages\\sklearn\\model_selection\\_validation.py:531: DataConversionWarning: A column-vector y was passed when a 1d array was expected. Please change the shape of y to (n_samples,), for example using ravel().\n",
      "  estimator.fit(X_train, y_train, **fit_params)\n"
     ]
    },
    {
     "name": "stdout",
     "output_type": "stream",
     "text": [
      "[CV]  n_estimators=10, min_samples_split=300, max_leaf_nodes=5, max_depth=7, score=0.382, total=   0.2s\n",
      "[CV] n_estimators=10, min_samples_split=300, max_leaf_nodes=5, max_depth=7 \n",
      "[CV]  n_estimators=10, min_samples_split=300, max_leaf_nodes=5, max_depth=7, score=0.445, total=   0.2s"
     ]
    },
    {
     "name": "stderr",
     "output_type": "stream",
     "text": [
      "C:\\Users\\Nakib Kauser\\anaconda3\\lib\\site-packages\\sklearn\\model_selection\\_validation.py:531: DataConversionWarning: A column-vector y was passed when a 1d array was expected. Please change the shape of y to (n_samples,), for example using ravel().\n",
      "  estimator.fit(X_train, y_train, **fit_params)\n"
     ]
    },
    {
     "name": "stdout",
     "output_type": "stream",
     "text": [
      "\n",
      "[CV] n_estimators=10, min_samples_split=300, max_leaf_nodes=5, max_depth=7 \n",
      "[CV]  n_estimators=10, min_samples_split=300, max_leaf_nodes=5, max_depth=7, score=0.378, total=   0.2s\n",
      "[CV] n_estimators=10, min_samples_split=300, max_leaf_nodes=5, max_depth=7 \n"
     ]
    },
    {
     "name": "stderr",
     "output_type": "stream",
     "text": [
      "C:\\Users\\Nakib Kauser\\anaconda3\\lib\\site-packages\\sklearn\\model_selection\\_validation.py:531: DataConversionWarning: A column-vector y was passed when a 1d array was expected. Please change the shape of y to (n_samples,), for example using ravel().\n",
      "  estimator.fit(X_train, y_train, **fit_params)\n",
      "C:\\Users\\Nakib Kauser\\anaconda3\\lib\\site-packages\\sklearn\\model_selection\\_validation.py:531: DataConversionWarning: A column-vector y was passed when a 1d array was expected. Please change the shape of y to (n_samples,), for example using ravel().\n",
      "  estimator.fit(X_train, y_train, **fit_params)\n"
     ]
    },
    {
     "name": "stdout",
     "output_type": "stream",
     "text": [
      "[CV]  n_estimators=10, min_samples_split=300, max_leaf_nodes=5, max_depth=7, score=0.418, total=   0.2s\n",
      "[CV] n_estimators=10, min_samples_split=300, max_leaf_nodes=4, max_depth=5 \n",
      "[CV]  n_estimators=10, min_samples_split=300, max_leaf_nodes=4, max_depth=5, score=0.422, total=   0.2s\n",
      "[CV] n_estimators=10, min_samples_split=300, max_leaf_nodes=4, max_depth=5 \n"
     ]
    },
    {
     "name": "stderr",
     "output_type": "stream",
     "text": [
      "C:\\Users\\Nakib Kauser\\anaconda3\\lib\\site-packages\\sklearn\\model_selection\\_validation.py:531: DataConversionWarning: A column-vector y was passed when a 1d array was expected. Please change the shape of y to (n_samples,), for example using ravel().\n",
      "  estimator.fit(X_train, y_train, **fit_params)\n",
      "C:\\Users\\Nakib Kauser\\anaconda3\\lib\\site-packages\\sklearn\\model_selection\\_validation.py:531: DataConversionWarning: A column-vector y was passed when a 1d array was expected. Please change the shape of y to (n_samples,), for example using ravel().\n",
      "  estimator.fit(X_train, y_train, **fit_params)\n"
     ]
    },
    {
     "name": "stdout",
     "output_type": "stream",
     "text": [
      "[CV]  n_estimators=10, min_samples_split=300, max_leaf_nodes=4, max_depth=5, score=0.371, total=   0.1s\n",
      "[CV] n_estimators=10, min_samples_split=300, max_leaf_nodes=4, max_depth=5 \n",
      "[CV]  n_estimators=10, min_samples_split=300, max_leaf_nodes=4, max_depth=5, score=0.431, total=   0.2s\n",
      "[CV] n_estimators=10, min_samples_split=300, max_leaf_nodes=4, max_depth=5 \n"
     ]
    },
    {
     "name": "stderr",
     "output_type": "stream",
     "text": [
      "C:\\Users\\Nakib Kauser\\anaconda3\\lib\\site-packages\\sklearn\\model_selection\\_validation.py:531: DataConversionWarning: A column-vector y was passed when a 1d array was expected. Please change the shape of y to (n_samples,), for example using ravel().\n",
      "  estimator.fit(X_train, y_train, **fit_params)\n",
      "C:\\Users\\Nakib Kauser\\anaconda3\\lib\\site-packages\\sklearn\\model_selection\\_validation.py:531: DataConversionWarning: A column-vector y was passed when a 1d array was expected. Please change the shape of y to (n_samples,), for example using ravel().\n",
      "  estimator.fit(X_train, y_train, **fit_params)\n"
     ]
    },
    {
     "name": "stdout",
     "output_type": "stream",
     "text": [
      "[CV]  n_estimators=10, min_samples_split=300, max_leaf_nodes=4, max_depth=5, score=0.370, total=   0.2s\n",
      "[CV] n_estimators=10, min_samples_split=300, max_leaf_nodes=4, max_depth=5 \n",
      "[CV]  n_estimators=10, min_samples_split=300, max_leaf_nodes=4, max_depth=5, score=0.401, total=   0.2s\n",
      "[CV] n_estimators=10, min_samples_split=100, max_leaf_nodes=6, max_depth=6 \n"
     ]
    },
    {
     "name": "stderr",
     "output_type": "stream",
     "text": [
      "C:\\Users\\Nakib Kauser\\anaconda3\\lib\\site-packages\\sklearn\\model_selection\\_validation.py:531: DataConversionWarning: A column-vector y was passed when a 1d array was expected. Please change the shape of y to (n_samples,), for example using ravel().\n",
      "  estimator.fit(X_train, y_train, **fit_params)\n",
      "C:\\Users\\Nakib Kauser\\anaconda3\\lib\\site-packages\\sklearn\\model_selection\\_validation.py:531: DataConversionWarning: A column-vector y was passed when a 1d array was expected. Please change the shape of y to (n_samples,), for example using ravel().\n",
      "  estimator.fit(X_train, y_train, **fit_params)\n"
     ]
    },
    {
     "name": "stdout",
     "output_type": "stream",
     "text": [
      "[CV]  n_estimators=10, min_samples_split=100, max_leaf_nodes=6, max_depth=6, score=0.450, total=   0.2s\n",
      "[CV] n_estimators=10, min_samples_split=100, max_leaf_nodes=6, max_depth=6 \n",
      "[CV]  n_estimators=10, min_samples_split=100, max_leaf_nodes=6, max_depth=6, score=0.392, total=   0.2s\n",
      "[CV] n_estimators=10, min_samples_split=100, max_leaf_nodes=6, max_depth=6 \n"
     ]
    },
    {
     "name": "stderr",
     "output_type": "stream",
     "text": [
      "C:\\Users\\Nakib Kauser\\anaconda3\\lib\\site-packages\\sklearn\\model_selection\\_validation.py:531: DataConversionWarning: A column-vector y was passed when a 1d array was expected. Please change the shape of y to (n_samples,), for example using ravel().\n",
      "  estimator.fit(X_train, y_train, **fit_params)\n",
      "C:\\Users\\Nakib Kauser\\anaconda3\\lib\\site-packages\\sklearn\\model_selection\\_validation.py:531: DataConversionWarning: A column-vector y was passed when a 1d array was expected. Please change the shape of y to (n_samples,), for example using ravel().\n",
      "  estimator.fit(X_train, y_train, **fit_params)\n"
     ]
    },
    {
     "name": "stdout",
     "output_type": "stream",
     "text": [
      "[CV]  n_estimators=10, min_samples_split=100, max_leaf_nodes=6, max_depth=6, score=0.453, total=   0.2s\n",
      "[CV] n_estimators=10, min_samples_split=100, max_leaf_nodes=6, max_depth=6 \n",
      "[CV]  n_estimators=10, min_samples_split=100, max_leaf_nodes=6, max_depth=6, score=0.395, total=   0.2s\n",
      "[CV] n_estimators=10, min_samples_split=100, max_leaf_nodes=6, max_depth=6 \n"
     ]
    },
    {
     "name": "stderr",
     "output_type": "stream",
     "text": [
      "C:\\Users\\Nakib Kauser\\anaconda3\\lib\\site-packages\\sklearn\\model_selection\\_validation.py:531: DataConversionWarning: A column-vector y was passed when a 1d array was expected. Please change the shape of y to (n_samples,), for example using ravel().\n",
      "  estimator.fit(X_train, y_train, **fit_params)\n",
      "C:\\Users\\Nakib Kauser\\anaconda3\\lib\\site-packages\\sklearn\\model_selection\\_validation.py:531: DataConversionWarning: A column-vector y was passed when a 1d array was expected. Please change the shape of y to (n_samples,), for example using ravel().\n",
      "  estimator.fit(X_train, y_train, **fit_params)\n"
     ]
    },
    {
     "name": "stdout",
     "output_type": "stream",
     "text": [
      "[CV]  n_estimators=10, min_samples_split=100, max_leaf_nodes=6, max_depth=6, score=0.432, total=   0.2s\n",
      "[CV] n_estimators=9, min_samples_split=100, max_leaf_nodes=6, max_depth=7 \n",
      "[CV]  n_estimators=9, min_samples_split=100, max_leaf_nodes=6, max_depth=7, score=0.449, total=   0.2s\n",
      "[CV] n_estimators=9, min_samples_split=100, max_leaf_nodes=6, max_depth=7 \n"
     ]
    },
    {
     "name": "stderr",
     "output_type": "stream",
     "text": [
      "C:\\Users\\Nakib Kauser\\anaconda3\\lib\\site-packages\\sklearn\\model_selection\\_validation.py:531: DataConversionWarning: A column-vector y was passed when a 1d array was expected. Please change the shape of y to (n_samples,), for example using ravel().\n",
      "  estimator.fit(X_train, y_train, **fit_params)\n",
      "C:\\Users\\Nakib Kauser\\anaconda3\\lib\\site-packages\\sklearn\\model_selection\\_validation.py:531: DataConversionWarning: A column-vector y was passed when a 1d array was expected. Please change the shape of y to (n_samples,), for example using ravel().\n",
      "  estimator.fit(X_train, y_train, **fit_params)\n"
     ]
    },
    {
     "name": "stdout",
     "output_type": "stream",
     "text": [
      "[CV]  n_estimators=9, min_samples_split=100, max_leaf_nodes=6, max_depth=7, score=0.390, total=   0.2s\n",
      "[CV] n_estimators=9, min_samples_split=100, max_leaf_nodes=6, max_depth=7 \n"
     ]
    },
    {
     "name": "stderr",
     "output_type": "stream",
     "text": [
      "C:\\Users\\Nakib Kauser\\anaconda3\\lib\\site-packages\\sklearn\\model_selection\\_validation.py:531: DataConversionWarning: A column-vector y was passed when a 1d array was expected. Please change the shape of y to (n_samples,), for example using ravel().\n",
      "  estimator.fit(X_train, y_train, **fit_params)\n"
     ]
    },
    {
     "name": "stdout",
     "output_type": "stream",
     "text": [
      "[CV]  n_estimators=9, min_samples_split=100, max_leaf_nodes=6, max_depth=7, score=0.452, total=   0.2s\n",
      "[CV] n_estimators=9, min_samples_split=100, max_leaf_nodes=6, max_depth=7 \n",
      "[CV]  n_estimators=9, min_samples_split=100, max_leaf_nodes=6, max_depth=7, score=0.395, total=   0.2s\n",
      "[CV] n_estimators=9, min_samples_split=100, max_leaf_nodes=6, max_depth=7 \n"
     ]
    },
    {
     "name": "stderr",
     "output_type": "stream",
     "text": [
      "C:\\Users\\Nakib Kauser\\anaconda3\\lib\\site-packages\\sklearn\\model_selection\\_validation.py:531: DataConversionWarning: A column-vector y was passed when a 1d array was expected. Please change the shape of y to (n_samples,), for example using ravel().\n",
      "  estimator.fit(X_train, y_train, **fit_params)\n",
      "C:\\Users\\Nakib Kauser\\anaconda3\\lib\\site-packages\\sklearn\\model_selection\\_validation.py:531: DataConversionWarning: A column-vector y was passed when a 1d array was expected. Please change the shape of y to (n_samples,), for example using ravel().\n",
      "  estimator.fit(X_train, y_train, **fit_params)\n"
     ]
    },
    {
     "name": "stdout",
     "output_type": "stream",
     "text": [
      "[CV]  n_estimators=9, min_samples_split=100, max_leaf_nodes=6, max_depth=7, score=0.431, total=   0.2s\n",
      "[CV] n_estimators=8, min_samples_split=100, max_leaf_nodes=4, max_depth=6 \n",
      "[CV]  n_estimators=8, min_samples_split=100, max_leaf_nodes=4, max_depth=6, score=0.423, total=   0.2s\n",
      "[CV] n_estimators=8, min_samples_split=100, max_leaf_nodes=4, max_depth=6 \n"
     ]
    },
    {
     "name": "stderr",
     "output_type": "stream",
     "text": [
      "C:\\Users\\Nakib Kauser\\anaconda3\\lib\\site-packages\\sklearn\\model_selection\\_validation.py:531: DataConversionWarning: A column-vector y was passed when a 1d array was expected. Please change the shape of y to (n_samples,), for example using ravel().\n",
      "  estimator.fit(X_train, y_train, **fit_params)\n",
      "C:\\Users\\Nakib Kauser\\anaconda3\\lib\\site-packages\\sklearn\\model_selection\\_validation.py:531: DataConversionWarning: A column-vector y was passed when a 1d array was expected. Please change the shape of y to (n_samples,), for example using ravel().\n",
      "  estimator.fit(X_train, y_train, **fit_params)\n"
     ]
    },
    {
     "name": "stdout",
     "output_type": "stream",
     "text": [
      "[CV]  n_estimators=8, min_samples_split=100, max_leaf_nodes=4, max_depth=6, score=0.370, total=   0.2s\n",
      "[CV] n_estimators=8, min_samples_split=100, max_leaf_nodes=4, max_depth=6 \n",
      "[CV]  n_estimators=8, min_samples_split=100, max_leaf_nodes=4, max_depth=6, score=0.428, total=   0.2s\n",
      "[CV] n_estimators=8, min_samples_split=100, max_leaf_nodes=4, max_depth=6 \n"
     ]
    },
    {
     "name": "stderr",
     "output_type": "stream",
     "text": [
      "C:\\Users\\Nakib Kauser\\anaconda3\\lib\\site-packages\\sklearn\\model_selection\\_validation.py:531: DataConversionWarning: A column-vector y was passed when a 1d array was expected. Please change the shape of y to (n_samples,), for example using ravel().\n",
      "  estimator.fit(X_train, y_train, **fit_params)\n",
      "C:\\Users\\Nakib Kauser\\anaconda3\\lib\\site-packages\\sklearn\\model_selection\\_validation.py:531: DataConversionWarning: A column-vector y was passed when a 1d array was expected. Please change the shape of y to (n_samples,), for example using ravel().\n",
      "  estimator.fit(X_train, y_train, **fit_params)\n"
     ]
    },
    {
     "name": "stdout",
     "output_type": "stream",
     "text": [
      "[CV]  n_estimators=8, min_samples_split=100, max_leaf_nodes=4, max_depth=6, score=0.369, total=   0.1s\n",
      "[CV] n_estimators=8, min_samples_split=100, max_leaf_nodes=4, max_depth=6 \n",
      "[CV]  n_estimators=8, min_samples_split=100, max_leaf_nodes=4, max_depth=6, score=0.400, total=   0.1s\n",
      "[CV] n_estimators=8, min_samples_split=200, max_leaf_nodes=7, max_depth=7 \n"
     ]
    },
    {
     "name": "stderr",
     "output_type": "stream",
     "text": [
      "C:\\Users\\Nakib Kauser\\anaconda3\\lib\\site-packages\\sklearn\\model_selection\\_validation.py:531: DataConversionWarning: A column-vector y was passed when a 1d array was expected. Please change the shape of y to (n_samples,), for example using ravel().\n",
      "  estimator.fit(X_train, y_train, **fit_params)\n",
      "C:\\Users\\Nakib Kauser\\anaconda3\\lib\\site-packages\\sklearn\\model_selection\\_validation.py:531: DataConversionWarning: A column-vector y was passed when a 1d array was expected. Please change the shape of y to (n_samples,), for example using ravel().\n",
      "  estimator.fit(X_train, y_train, **fit_params)\n"
     ]
    },
    {
     "name": "stdout",
     "output_type": "stream",
     "text": [
      "[CV]  n_estimators=8, min_samples_split=200, max_leaf_nodes=7, max_depth=7, score=0.455, total=   0.1s\n",
      "[CV] n_estimators=8, min_samples_split=200, max_leaf_nodes=7, max_depth=7 \n",
      "[CV]  n_estimators=8, min_samples_split=200, max_leaf_nodes=7, max_depth=7, score=0.399, total=   0.2s\n",
      "[CV] n_estimators=8, min_samples_split=200, max_leaf_nodes=7, max_depth=7 \n"
     ]
    },
    {
     "name": "stderr",
     "output_type": "stream",
     "text": [
      "C:\\Users\\Nakib Kauser\\anaconda3\\lib\\site-packages\\sklearn\\model_selection\\_validation.py:531: DataConversionWarning: A column-vector y was passed when a 1d array was expected. Please change the shape of y to (n_samples,), for example using ravel().\n",
      "  estimator.fit(X_train, y_train, **fit_params)\n",
      "C:\\Users\\Nakib Kauser\\anaconda3\\lib\\site-packages\\sklearn\\model_selection\\_validation.py:531: DataConversionWarning: A column-vector y was passed when a 1d array was expected. Please change the shape of y to (n_samples,), for example using ravel().\n",
      "  estimator.fit(X_train, y_train, **fit_params)\n"
     ]
    },
    {
     "name": "stdout",
     "output_type": "stream",
     "text": [
      "[CV]  n_estimators=8, min_samples_split=200, max_leaf_nodes=7, max_depth=7, score=0.456, total=   0.2s\n",
      "[CV] n_estimators=8, min_samples_split=200, max_leaf_nodes=7, max_depth=7 \n"
     ]
    },
    {
     "name": "stderr",
     "output_type": "stream",
     "text": [
      "C:\\Users\\Nakib Kauser\\anaconda3\\lib\\site-packages\\sklearn\\model_selection\\_validation.py:531: DataConversionWarning: A column-vector y was passed when a 1d array was expected. Please change the shape of y to (n_samples,), for example using ravel().\n",
      "  estimator.fit(X_train, y_train, **fit_params)\n"
     ]
    },
    {
     "name": "stdout",
     "output_type": "stream",
     "text": [
      "[CV]  n_estimators=8, min_samples_split=200, max_leaf_nodes=7, max_depth=7, score=0.400, total=   0.2s\n",
      "[CV] n_estimators=8, min_samples_split=200, max_leaf_nodes=7, max_depth=7 \n",
      "[CV]  n_estimators=8, min_samples_split=200, max_leaf_nodes=7, max_depth=7, score=0.435, total=   0.2s\n",
      "[CV] n_estimators=8, min_samples_split=300, max_leaf_nodes=7, max_depth=6 \n"
     ]
    },
    {
     "name": "stderr",
     "output_type": "stream",
     "text": [
      "C:\\Users\\Nakib Kauser\\anaconda3\\lib\\site-packages\\sklearn\\model_selection\\_validation.py:531: DataConversionWarning: A column-vector y was passed when a 1d array was expected. Please change the shape of y to (n_samples,), for example using ravel().\n",
      "  estimator.fit(X_train, y_train, **fit_params)\n",
      "C:\\Users\\Nakib Kauser\\anaconda3\\lib\\site-packages\\sklearn\\model_selection\\_validation.py:531: DataConversionWarning: A column-vector y was passed when a 1d array was expected. Please change the shape of y to (n_samples,), for example using ravel().\n",
      "  estimator.fit(X_train, y_train, **fit_params)\n"
     ]
    },
    {
     "name": "stdout",
     "output_type": "stream",
     "text": [
      "[CV]  n_estimators=8, min_samples_split=300, max_leaf_nodes=7, max_depth=6, score=0.455, total=   0.1s\n",
      "[CV] n_estimators=8, min_samples_split=300, max_leaf_nodes=7, max_depth=6 \n",
      "[CV]  n_estimators=8, min_samples_split=300, max_leaf_nodes=7, max_depth=6, score=0.399, total=   0.1s\n",
      "[CV] n_estimators=8, min_samples_split=300, max_leaf_nodes=7, max_depth=6 \n"
     ]
    },
    {
     "name": "stderr",
     "output_type": "stream",
     "text": [
      "C:\\Users\\Nakib Kauser\\anaconda3\\lib\\site-packages\\sklearn\\model_selection\\_validation.py:531: DataConversionWarning: A column-vector y was passed when a 1d array was expected. Please change the shape of y to (n_samples,), for example using ravel().\n",
      "  estimator.fit(X_train, y_train, **fit_params)\n",
      "C:\\Users\\Nakib Kauser\\anaconda3\\lib\\site-packages\\sklearn\\model_selection\\_validation.py:531: DataConversionWarning: A column-vector y was passed when a 1d array was expected. Please change the shape of y to (n_samples,), for example using ravel().\n",
      "  estimator.fit(X_train, y_train, **fit_params)\n"
     ]
    },
    {
     "name": "stdout",
     "output_type": "stream",
     "text": [
      "[CV]  n_estimators=8, min_samples_split=300, max_leaf_nodes=7, max_depth=6, score=0.456, total=   0.1s\n",
      "[CV] n_estimators=8, min_samples_split=300, max_leaf_nodes=7, max_depth=6 \n",
      "[CV]  n_estimators=8, min_samples_split=300, max_leaf_nodes=7, max_depth=6, score=0.400, total=   0.1s\n",
      "[CV] n_estimators=8, min_samples_split=300, max_leaf_nodes=7, max_depth=6 \n"
     ]
    },
    {
     "name": "stderr",
     "output_type": "stream",
     "text": [
      "C:\\Users\\Nakib Kauser\\anaconda3\\lib\\site-packages\\sklearn\\model_selection\\_validation.py:531: DataConversionWarning: A column-vector y was passed when a 1d array was expected. Please change the shape of y to (n_samples,), for example using ravel().\n",
      "  estimator.fit(X_train, y_train, **fit_params)\n",
      "C:\\Users\\Nakib Kauser\\anaconda3\\lib\\site-packages\\sklearn\\model_selection\\_validation.py:531: DataConversionWarning: A column-vector y was passed when a 1d array was expected. Please change the shape of y to (n_samples,), for example using ravel().\n",
      "  estimator.fit(X_train, y_train, **fit_params)\n"
     ]
    },
    {
     "name": "stdout",
     "output_type": "stream",
     "text": [
      "[CV]  n_estimators=8, min_samples_split=300, max_leaf_nodes=7, max_depth=6, score=0.435, total=   0.1s\n"
     ]
    },
    {
     "name": "stderr",
     "output_type": "stream",
     "text": [
      "[Parallel(n_jobs=1)]: Done  50 out of  50 | elapsed:    8.5s finished\n",
      "C:\\Users\\Nakib Kauser\\anaconda3\\lib\\site-packages\\sklearn\\model_selection\\_search.py:765: DataConversionWarning: A column-vector y was passed when a 1d array was expected. Please change the shape of y to (n_samples,), for example using ravel().\n",
      "  self.best_estimator_.fit(X, y, **fit_params)\n"
     ]
    },
    {
     "data": {
      "text/plain": [
       "RandomizedSearchCV(cv=5, estimator=RandomForestRegressor(random_state=0),\n",
       "                   param_distributions={'max_depth': [5, 6, 7],\n",
       "                                        'max_leaf_nodes': [4, 5, 6, 7],\n",
       "                                        'min_samples_split': [100, 200, 300],\n",
       "                                        'n_estimators': [7, 8, 9, 10, 12, 15]},\n",
       "                   random_state=42, verbose=3)"
      ]
     },
     "execution_count": 15,
     "metadata": {},
     "output_type": "execute_result"
    }
   ],
   "source": [
    "from sklearn.ensemble import RandomForestRegressor\n",
    "from sklearn.model_selection import RandomizedSearchCV\n",
    "grid_param = {'n_estimators': [7,8,9,10,12,15], 'max_depth':  [5,6,7], \\\n",
    "              'min_samples_split': [100,200,300], 'max_leaf_nodes': [4,5,6,7]}\n",
    "rf = RandomForestRegressor(random_state=0)\n",
    "rf_h = RandomizedSearchCV(estimator = rf, param_distributions = grid_param, cv=5, verbose = 3, random_state= 42)\n",
    "rf_h.fit(x_train, y_train)"
   ]
  },
  {
   "cell_type": "code",
   "execution_count": 16,
   "metadata": {},
   "outputs": [],
   "source": [
    "rf_pred = rf_h.predict(x_test) "
   ]
  },
  {
   "cell_type": "code",
   "execution_count": 17,
   "metadata": {},
   "outputs": [
    {
     "name": "stdout",
     "output_type": "stream",
     "text": [
      "RMSE value is: 0.9367\n",
      "MAE value is: 0.7205\n"
     ]
    }
   ],
   "source": [
    "#calculate rmse\n",
    "error1 = sqrt(mean_squared_error(y_test, rf_pred)) \n",
    "#calculate mae\n",
    "error2 = mean_absolute_error(y_test, rf_pred)\n",
    "print('RMSE value is:', np.round(error1, 4))\n",
    "print('MAE value is:', np.round(error2, 4))"
   ]
  },
  {
   "cell_type": "markdown",
   "metadata": {},
   "source": [
    "Linear Regression Model gives the best accuracy: 0.9381. "
   ]
  },
  {
   "cell_type": "code",
   "execution_count": 18,
   "metadata": {},
   "outputs": [],
   "source": [
    "import pickle"
   ]
  },
  {
   "cell_type": "code",
   "execution_count": 19,
   "metadata": {},
   "outputs": [],
   "source": [
    "# Importing pickle file\n",
    "filename = 'hybrid_c.pickle'\n",
    "pickle.dump(hybrid_c, open(filename, 'wb'))"
   ]
  }
 ],
 "metadata": {
  "kernelspec": {
   "display_name": "Python 3",
   "language": "python",
   "name": "python3"
  },
  "language_info": {
   "codemirror_mode": {
    "name": "ipython",
    "version": 3
   },
   "file_extension": ".py",
   "mimetype": "text/x-python",
   "name": "python",
   "nbconvert_exporter": "python",
   "pygments_lexer": "ipython3",
   "version": "3.8.3"
  }
 },
 "nbformat": 4,
 "nbformat_minor": 4
}
